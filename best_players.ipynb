{
 "cells": [
  {
   "cell_type": "markdown",
   "source": "## What have in common the best soccer players",
   "metadata": {
    "cell_id": "3e429345-9040-414f-a917-f81b156ff806",
    "tags": [],
    "is_collapsed": false,
    "deepnote_cell_type": "text-cell-h2",
    "deepnote_cell_height": 70
   }
  },
  {
   "cell_type": "markdown",
   "source": "This is a exploratory and descriptive project, I'm going to use the basic data science libraries. This project doesn't use ML models. ",
   "metadata": {
    "cell_id": "9e1569fd-b032-4251-8012-deccc32412b6",
    "tags": [],
    "is_collapsed": false,
    "deepnote_cell_type": "text-cell-p",
    "deepnote_cell_height": 74.80000305175781
   }
  },
  {
   "cell_type": "markdown",
   "source": "### Explore data base",
   "metadata": {
    "cell_id": "b30b31e2-868a-448c-b532-84a6431b7606",
    "tags": [],
    "is_collapsed": false,
    "deepnote_cell_type": "text-cell-h3",
    "deepnote_cell_height": 62
   }
  },
  {
   "cell_type": "code",
   "metadata": {
    "tags": [],
    "cell_id": "81a7afaf-6637-4b06-947c-91abbdfbf88e",
    "deepnote_to_be_reexecuted": false,
    "source_hash": "d8a70143",
    "execution_start": 1647525142146,
    "execution_millis": 3398,
    "deepnote_cell_type": "code",
    "deepnote_cell_height": 171
   },
   "source": "#import necessary libraries\nimport pandas as pd\nimport numpy as np\nimport matplotlib.pyplot as plt\nplt.style.use('seaborn')\nimport seaborn as sns",
   "outputs": [],
   "execution_count": null
  },
  {
   "cell_type": "code",
   "metadata": {
    "cell_id": "cdb23d5f-4b35-498e-94c4-874cebf30117",
    "tags": [],
    "deepnote_to_be_reexecuted": false,
    "source_hash": "90fd9cac",
    "execution_start": 1647525145544,
    "execution_millis": 545,
    "deepnote_table_state": {
     "pageSize": 10,
     "pageIndex": 0,
     "filters": [],
     "sortBy": [
      {
       "id": "OVA",
       "type": "desc"
      }
     ]
    },
    "deepnote_table_loading": false,
    "deepnote_cell_type": "code",
    "deepnote_cell_height": 142.39999389648438
   },
   "source": "fifa_df = pd.read_csv(\"fifa21_male2.csv\") #Oficcial fifa data 2020: male preofessional players",
   "outputs": [
    {
     "name": "stderr",
     "text": "/shared-libs/python3.7/py-core/lib/python3.7/site-packages/IPython/core/interactiveshell.py:3524: DtypeWarning: Columns (78) have mixed types.Specify dtype option on import or set low_memory=False.\n  exec(code_obj, self.user_global_ns, self.user_ns)\n",
     "output_type": "stream"
    }
   ],
   "execution_count": null
  },
  {
   "cell_type": "code",
   "metadata": {
    "cell_id": "fb1a6dc4-6bad-4853-bc29-c106cd5dc40e",
    "tags": [],
    "deepnote_to_be_reexecuted": false,
    "source_hash": "3527628d",
    "execution_start": 1647525146035,
    "execution_millis": 512,
    "deepnote_table_state": {
     "pageSize": 10,
     "pageIndex": 0,
     "filters": [],
     "sortBy": [
      {
       "id": "OVA",
       "type": "desc"
      }
     ]
    },
    "deepnote_table_loading": false,
    "deepnote_cell_type": "code",
    "deepnote_cell_height": 660
   },
   "source": "fifa_df.sort_values(by=['OVA'], ascending=False)\nfifa_df",
   "outputs": [
    {
     "output_type": "execute_result",
     "execution_count": 3,
     "data": {
      "application/vnd.deepnote.dataframe.v3+json": {
       "column_count": 107,
       "row_count": 17125,
       "columns": [
        {
         "name": "ID",
         "dtype": "int64",
         "stats": {
          "unique_count": 17125,
          "nan_count": 0,
          "min": "2",
          "max": "259105",
          "histogram": [
           {
            "bin_start": 2,
            "bin_end": 25912.3,
            "count": 159
           },
           {
            "bin_start": 25912.3,
            "bin_end": 51822.6,
            "count": 82
           },
           {
            "bin_start": 51822.6,
            "bin_end": 77732.9,
            "count": 43
           },
           {
            "bin_start": 77732.9,
            "bin_end": 103643.2,
            "count": 8
           },
           {
            "bin_start": 103643.2,
            "bin_end": 129553.5,
            "count": 88
           },
           {
            "bin_start": 129553.5,
            "bin_end": 155463.8,
            "count": 295
           },
           {
            "bin_start": 155463.8,
            "bin_end": 181374.1,
            "count": 1005
           },
           {
            "bin_start": 181374.1,
            "bin_end": 207284.4,
            "count": 3105
           },
           {
            "bin_start": 207284.4,
            "bin_end": 233194.69999999998,
            "count": 4893
           },
           {
            "bin_start": 233194.69999999998,
            "bin_end": 259105,
            "count": 7447
           }
          ]
         }
        },
        {
         "name": "Name",
         "dtype": "object",
         "stats": {
          "unique_count": 16176,
          "nan_count": 0,
          "categories": [
           {
            "name": "J. Rodríguez",
            "count": 10
           },
           {
            "name": "A. Traoré",
            "count": 8
           },
           {
            "name": "16174 others",
            "count": 17107
           }
          ]
         }
        },
        {
         "name": "Age",
         "dtype": "int64",
         "stats": {
          "unique_count": 30,
          "nan_count": 0,
          "min": "16",
          "max": "53",
          "histogram": [
           {
            "bin_start": 16,
            "bin_end": 19.7,
            "count": 2007
           },
           {
            "bin_start": 19.7,
            "bin_end": 23.4,
            "count": 5151
           },
           {
            "bin_start": 23.4,
            "bin_end": 27.1,
            "count": 4449
           },
           {
            "bin_start": 27.1,
            "bin_end": 30.8,
            "count": 2674
           },
           {
            "bin_start": 30.8,
            "bin_end": 34.5,
            "count": 2143
           },
           {
            "bin_start": 34.5,
            "bin_end": 38.2,
            "count": 620
           },
           {
            "bin_start": 38.2,
            "bin_end": 41.900000000000006,
            "count": 68
           },
           {
            "bin_start": 41.900000000000006,
            "bin_end": 45.6,
            "count": 11
           },
           {
            "bin_start": 45.6,
            "bin_end": 49.300000000000004,
            "count": 1
           },
           {
            "bin_start": 49.300000000000004,
            "bin_end": 53,
            "count": 1
           }
          ]
         }
        },
        {
         "name": "OVA",
         "dtype": "int64",
         "stats": {
          "unique_count": 50,
          "nan_count": 0,
          "min": "38",
          "max": "93",
          "histogram": [
           {
            "bin_start": 38,
            "bin_end": 43.5,
            "count": 2
           },
           {
            "bin_start": 43.5,
            "bin_end": 49,
            "count": 33
           },
           {
            "bin_start": 49,
            "bin_end": 54.5,
            "count": 611
           },
           {
            "bin_start": 54.5,
            "bin_end": 60,
            "count": 1671
           },
           {
            "bin_start": 60,
            "bin_end": 65.5,
            "count": 4857
           },
           {
            "bin_start": 65.5,
            "bin_end": 71,
            "count": 4776
           },
           {
            "bin_start": 71,
            "bin_end": 76.5,
            "count": 3808
           },
           {
            "bin_start": 76.5,
            "bin_end": 82,
            "count": 1059
           },
           {
            "bin_start": 82,
            "bin_end": 87.5,
            "count": 279
           },
           {
            "bin_start": 87.5,
            "bin_end": 93,
            "count": 29
           }
          ]
         }
        },
        {
         "name": "Nationality",
         "dtype": "object",
         "stats": {
          "unique_count": 167,
          "nan_count": 0,
          "categories": [
           {
            "name": "England",
            "count": 1707
           },
           {
            "name": "Germany",
            "count": 1154
           },
           {
            "name": "165 others",
            "count": 14264
           }
          ]
         }
        },
        {
         "name": "Club",
         "dtype": "object"
        },
        {
         "name": "BOV",
         "dtype": "int64"
        },
        {
         "name": "BP",
         "dtype": "object"
        },
        {
         "name": "Position",
         "dtype": "object"
        },
        {
         "name": "Player Photo",
         "dtype": "object"
        },
        {
         "name": "Club Logo",
         "dtype": "object"
        },
        {
         "name": "Flag Photo",
         "dtype": "object"
        },
        {
         "name": "POT",
         "dtype": "int64"
        },
        {
         "name": "Team & Contract",
         "dtype": "object"
        },
        {
         "name": "Height",
         "dtype": "object"
        },
        {
         "name": "Weight",
         "dtype": "object"
        },
        {
         "name": "foot",
         "dtype": "object"
        },
        {
         "name": "Growth",
         "dtype": "int64"
        },
        {
         "name": "Joined",
         "dtype": "object"
        },
        {
         "name": "Loan Date End",
         "dtype": "object"
        },
        {
         "name": "Value",
         "dtype": "object"
        },
        {
         "name": "Wage",
         "dtype": "object"
        },
        {
         "name": "Release Clause",
         "dtype": "object"
        },
        {
         "name": "Contract",
         "dtype": "object"
        },
        {
         "name": "Attacking",
         "dtype": "int64"
        },
        {
         "name": "Crossing",
         "dtype": "int64"
        },
        {
         "name": "Finishing",
         "dtype": "int64"
        },
        {
         "name": "Heading Accuracy",
         "dtype": "int64"
        },
        {
         "name": "Short Passing",
         "dtype": "int64"
        },
        {
         "name": "Volleys",
         "dtype": "float64"
        },
        {
         "name": "Skill",
         "dtype": "int64"
        },
        {
         "name": "Dribbling",
         "dtype": "int64"
        },
        {
         "name": "Curve",
         "dtype": "float64"
        },
        {
         "name": "FK Accuracy",
         "dtype": "int64"
        },
        {
         "name": "Long Passing",
         "dtype": "int64"
        },
        {
         "name": "Ball Control",
         "dtype": "int64"
        },
        {
         "name": "Movement",
         "dtype": "int64"
        },
        {
         "name": "Acceleration",
         "dtype": "int64"
        },
        {
         "name": "Sprint Speed",
         "dtype": "int64"
        },
        {
         "name": "Agility",
         "dtype": "float64"
        },
        {
         "name": "Reactions",
         "dtype": "int64"
        },
        {
         "name": "Balance",
         "dtype": "float64"
        },
        {
         "name": "Power",
         "dtype": "int64"
        },
        {
         "name": "Shot Power",
         "dtype": "int64"
        },
        {
         "name": "Jumping",
         "dtype": "float64"
        },
        {
         "name": "Stamina",
         "dtype": "int64"
        },
        {
         "name": "Strength",
         "dtype": "int64"
        },
        {
         "name": "Long Shots",
         "dtype": "int64"
        },
        {
         "name": "Mentality",
         "dtype": "int64"
        },
        {
         "name": "Aggression",
         "dtype": "int64"
        },
        {
         "name": "Interceptions",
         "dtype": "float64"
        },
        {
         "name": "Positioning",
         "dtype": "float64"
        },
        {
         "name": "Vision",
         "dtype": "float64"
        },
        {
         "name": "Penalties",
         "dtype": "int64"
        },
        {
         "name": "Composure",
         "dtype": "float64"
        },
        {
         "name": "Defending",
         "dtype": "int64"
        },
        {
         "name": "Marking",
         "dtype": "int64"
        },
        {
         "name": "Standing Tackle",
         "dtype": "int64"
        },
        {
         "name": "Sliding Tackle",
         "dtype": "float64"
        },
        {
         "name": "Goalkeeping",
         "dtype": "int64"
        },
        {
         "name": "GK Diving",
         "dtype": "int64"
        },
        {
         "name": "GK Handling",
         "dtype": "int64"
        },
        {
         "name": "GK Kicking",
         "dtype": "int64"
        },
        {
         "name": "GK Positioning",
         "dtype": "int64"
        },
        {
         "name": "GK Reflexes",
         "dtype": "int64"
        },
        {
         "name": "Total Stats",
         "dtype": "int64"
        },
        {
         "name": "Base Stats",
         "dtype": "int64"
        },
        {
         "name": "W/F",
         "dtype": "object"
        },
        {
         "name": "SM",
         "dtype": "object"
        },
        {
         "name": "A/W",
         "dtype": "object"
        },
        {
         "name": "D/W",
         "dtype": "object"
        },
        {
         "name": "IR",
         "dtype": "object"
        },
        {
         "name": "PAC",
         "dtype": "int64"
        },
        {
         "name": "SHO",
         "dtype": "int64"
        },
        {
         "name": "PAS",
         "dtype": "int64"
        },
        {
         "name": "DRI",
         "dtype": "int64"
        },
        {
         "name": "DEF",
         "dtype": "int64"
        },
        {
         "name": "PHY",
         "dtype": "int64"
        },
        {
         "name": "Hits",
         "dtype": "object"
        },
        {
         "name": "LS",
         "dtype": "object"
        },
        {
         "name": "ST",
         "dtype": "object"
        },
        {
         "name": "RS",
         "dtype": "object"
        },
        {
         "name": "LW",
         "dtype": "object"
        },
        {
         "name": "LF",
         "dtype": "object"
        },
        {
         "name": "CF",
         "dtype": "object"
        },
        {
         "name": "RF",
         "dtype": "object"
        },
        {
         "name": "RW",
         "dtype": "object"
        },
        {
         "name": "LAM",
         "dtype": "object"
        },
        {
         "name": "CAM",
         "dtype": "object"
        },
        {
         "name": "RAM",
         "dtype": "object"
        },
        {
         "name": "LM",
         "dtype": "object"
        },
        {
         "name": "LCM",
         "dtype": "object"
        },
        {
         "name": "CM",
         "dtype": "object"
        },
        {
         "name": "RCM",
         "dtype": "object"
        },
        {
         "name": "RM",
         "dtype": "object"
        },
        {
         "name": "LWB",
         "dtype": "object"
        },
        {
         "name": "LDM",
         "dtype": "object"
        },
        {
         "name": "CDM",
         "dtype": "object"
        },
        {
         "name": "RDM",
         "dtype": "object"
        },
        {
         "name": "RWB",
         "dtype": "object"
        },
        {
         "name": "LB",
         "dtype": "object"
        },
        {
         "name": "LCB",
         "dtype": "object"
        },
        {
         "name": "CB",
         "dtype": "object"
        },
        {
         "name": "RCB",
         "dtype": "object"
        },
        {
         "name": "RB",
         "dtype": "object"
        },
        {
         "name": "GK",
         "dtype": "object"
        },
        {
         "name": "Gender",
         "dtype": "object"
        },
        {
         "name": "_deepnote_index_column",
         "dtype": "int64"
        }
       ],
       "rows": [
        {
         "ID": 158023,
         "Name": "L. Messi",
         "Age": 33,
         "OVA": 93,
         "Nationality": "Argentina",
         "Club": "FC Barcelona",
         "BOV": 93,
         "BP": "RW",
         "Position": "RW ST CF",
         "Player Photo": "https://cdn.sofifa.com/players/158/023/20_120.png",
         "Club Logo": "https://cdn.sofifa.com/teams/241/light_60.png",
         "Flag Photo": "https://cdn.sofifa.com/flags/ar.png",
         "POT": 93,
         "Team & Contract": "FC Barcelona 2004 ~ 2021",
         "Height": "5'7\"",
         "Weight": "159lbs",
         "foot": "Left",
         "Growth": 0,
         "Joined": "Jul 1, 2004",
         "Loan Date End": "nan",
         "Value": "€67.5M",
         "Wage": "€560K",
         "Release Clause": "€138.4M",
         "Contract": "2004 ~ 2021",
         "Attacking": 429,
         "Crossing": 85,
         "Finishing": 95,
         "Heading Accuracy": 70,
         "Short Passing": 91,
         "Volleys": 88,
         "Skill": 470,
         "Dribbling": 96,
         "Curve": 93,
         "FK Accuracy": 94,
         "Long Passing": 91,
         "Ball Control": 96,
         "Movement": 451,
         "Acceleration": 91,
         "Sprint Speed": 80,
         "Agility": 91,
         "Reactions": 94,
         "Balance": 95,
         "Power": 389,
         "Shot Power": 86,
         "Jumping": 68,
         "Stamina": 72,
         "Strength": 69,
         "Long Shots": 94,
         "Mentality": 347,
         "Aggression": 44,
         "Interceptions": 40,
         "Positioning": 93,
         "Vision": 95,
         "Penalties": 75,
         "Composure": 96,
         "Defending": 91,
         "Marking": 32,
         "Standing Tackle": 35,
         "Sliding Tackle": 24,
         "Goalkeeping": 54,
         "GK Diving": 6,
         "GK Handling": 11,
         "GK Kicking": 15,
         "GK Positioning": 14,
         "GK Reflexes": 8,
         "Total Stats": 2231,
         "Base Stats": 466,
         "W/F": "4 ★",
         "SM": "4★",
         "A/W": "Medium",
         "D/W": "Low",
         "IR": "5 ★",
         "PAC": 85,
         "SHO": 92,
         "PAS": 91,
         "DRI": 95,
         "DEF": 38,
         "PHY": 65,
         "Hits": "830",
         "LS": "89+3",
         "ST": "89+3",
         "RS": "89+3",
         "LW": "92+0",
         "LF": "93+0",
         "CF": "93+0",
         "RF": "93+0",
         "RW": "92+0",
         "LAM": "93+0",
         "CAM": "93+0",
         "RAM": "93+0",
         "LM": "91+2",
         "LCM": "87+3",
         "CM": "87+3",
         "RCM": "87+3",
         "RM": "91+2",
         "LWB": "66+3",
         "LDM": "65+3",
         "CDM": "65+3",
         "RDM": "65+3",
         "RWB": "66+3",
         "LB": "62+3",
         "LCB": "52+3",
         "CB": "52+3",
         "RCB": "52+3",
         "RB": "62+3",
         "GK": "19+3",
         "Gender": "Male",
         "_deepnote_index_column": 752
        },
        {
         "ID": 20801,
         "Name": "Cristiano Ronaldo",
         "Age": 35,
         "OVA": 92,
         "Nationality": "Portugal",
         "Club": "Juventus",
         "BOV": 92,
         "BP": "ST",
         "Position": "ST LW",
         "Player Photo": "https://cdn.sofifa.com/players/020/801/20_120.png",
         "Club Logo": "https://cdn.sofifa.com/teams/45/light_60.png",
         "Flag Photo": "https://cdn.sofifa.com/flags/pt.png",
         "POT": 92,
         "Team & Contract": "Juventus 2018 ~ 2022",
         "Height": "6'2\"",
         "Weight": "183lbs",
         "foot": "Right",
         "Growth": 0,
         "Joined": "Jul 10, 2018",
         "Loan Date End": "nan",
         "Value": "€46M",
         "Wage": "€220K",
         "Release Clause": "€75.9M",
         "Contract": "2018 ~ 2022",
         "Attacking": 437,
         "Crossing": 84,
         "Finishing": 95,
         "Heading Accuracy": 90,
         "Short Passing": 82,
         "Volleys": 86,
         "Skill": 414,
         "Dribbling": 88,
         "Curve": 81,
         "FK Accuracy": 76,
         "Long Passing": 77,
         "Ball Control": 92,
         "Movement": 431,
         "Acceleration": 87,
         "Sprint Speed": 91,
         "Agility": 87,
         "Reactions": 95,
         "Balance": 71,
         "Power": 444,
         "Shot Power": 94,
         "Jumping": 95,
         "Stamina": 84,
         "Strength": 78,
         "Long Shots": 93,
         "Mentality": 353,
         "Aggression": 63,
         "Interceptions": 29,
         "Positioning": 95,
         "Vision": 82,
         "Penalties": 84,
         "Composure": 95,
         "Defending": 84,
         "Marking": 28,
         "Standing Tackle": 32,
         "Sliding Tackle": 24,
         "Goalkeeping": 58,
         "GK Diving": 7,
         "GK Handling": 11,
         "GK Kicking": 15,
         "GK Positioning": 14,
         "GK Reflexes": 11,
         "Total Stats": 2221,
         "Base Stats": 464,
         "W/F": "4 ★",
         "SM": "5★",
         "A/W": "High",
         "D/W": "Low",
         "IR": "5 ★",
         "PAC": 89,
         "SHO": 93,
         "PAS": 81,
         "DRI": 89,
         "DEF": 35,
         "PHY": 77,
         "Hits": "750",
         "LS": "91+1",
         "ST": "91+1",
         "RS": "91+1",
         "LW": "89+0",
         "LF": "91+0",
         "CF": "91+0",
         "RF": "91+0",
         "RW": "89+0",
         "LAM": "88+3",
         "CAM": "88+3",
         "RAM": "88+3",
         "LM": "88+3",
         "LCM": "81+3",
         "CM": "81+3",
         "RCM": "81+3",
         "RM": "88+3",
         "LWB": "65+3",
         "LDM": "61+3",
         "CDM": "61+3",
         "RDM": "61+3",
         "RWB": "65+3",
         "LB": "61+3",
         "LCB": "54+3",
         "CB": "54+3",
         "RCB": "54+3",
         "RB": "61+3",
         "GK": "20+3",
         "Gender": "Male",
         "_deepnote_index_column": 142
        },
        {
         "ID": 192985,
         "Name": "K. De Bruyne",
         "Age": 29,
         "OVA": 91,
         "Nationality": "Belgium",
         "Club": "Manchester City",
         "BOV": 91,
         "BP": "CAM",
         "Position": "CAM CM",
         "Player Photo": "https://cdn.sofifa.com/players/192/985/20_120.png",
         "Club Logo": "https://cdn.sofifa.com/teams/10/light_60.png",
         "Flag Photo": "https://cdn.sofifa.com/flags/be.png",
         "POT": 91,
         "Team & Contract": "Manchester City 2015 ~ 2023",
         "Height": "5'11\"",
         "Weight": "154lbs",
         "foot": "Right",
         "Growth": 0,
         "Joined": "Aug 30, 2015",
         "Loan Date End": "nan",
         "Value": "€87M",
         "Wage": "€370K",
         "Release Clause": "€161M",
         "Contract": "2015 ~ 2023",
         "Attacking": 407,
         "Crossing": 94,
         "Finishing": 82,
         "Heading Accuracy": 55,
         "Short Passing": 94,
         "Volleys": 82,
         "Skill": 441,
         "Dribbling": 88,
         "Curve": 85,
         "FK Accuracy": 83,
         "Long Passing": 93,
         "Ball Control": 92,
         "Movement": 398,
         "Acceleration": 77,
         "Sprint Speed": 76,
         "Agility": 78,
         "Reactions": 91,
         "Balance": 76,
         "Power": 408,
         "Shot Power": 91,
         "Jumping": 63,
         "Stamina": 89,
         "Strength": 74,
         "Long Shots": 91,
         "Mentality": 408,
         "Aggression": 76,
         "Interceptions": 66,
         "Positioning": 88,
         "Vision": 94,
         "Penalties": 84,
         "Composure": 91,
         "Defending": 186,
         "Marking": 68,
         "Standing Tackle": 65,
         "Sliding Tackle": 53,
         "Goalkeeping": 56,
         "GK Diving": 15,
         "GK Handling": 13,
         "GK Kicking": 5,
         "GK Positioning": 10,
         "GK Reflexes": 13,
         "Total Stats": 2304,
         "Base Stats": 485,
         "W/F": "5 ★",
         "SM": "4★",
         "A/W": "High",
         "D/W": "High",
         "IR": "4 ★",
         "PAC": 76,
         "SHO": 86,
         "PAS": 93,
         "DRI": 88,
         "DEF": 64,
         "PHY": 78,
         "Hits": "406",
         "LS": "83+3",
         "ST": "83+3",
         "RS": "83+3",
         "LW": "88+0",
         "LF": "88+0",
         "CF": "88+0",
         "RF": "88+0",
         "RW": "88+0",
         "LAM": "89+2",
         "CAM": "89+2",
         "RAM": "89+2",
         "LM": "89+2",
         "LCM": "89+2",
         "CM": "89+2",
         "RCM": "89+2",
         "RM": "89+2",
         "LWB": "79+3",
         "LDM": "80+3",
         "CDM": "80+3",
         "RDM": "80+3",
         "RWB": "79+3",
         "LB": "75+3",
         "LCB": "69+3",
         "CB": "69+3",
         "RCB": "69+3",
         "RB": "75+3",
         "GK": "21+3",
         "Gender": "Male",
         "_deepnote_index_column": 2871
        },
        {
         "ID": 188545,
         "Name": "R. Lewandowski",
         "Age": 31,
         "OVA": 91,
         "Nationality": "Poland",
         "Club": "FC Bayern München",
         "BOV": 91,
         "BP": "ST",
         "Position": "ST",
         "Player Photo": "https://cdn.sofifa.com/players/188/545/20_120.png",
         "Club Logo": "https://cdn.sofifa.com/teams/21/light_60.png",
         "Flag Photo": "https://cdn.sofifa.com/flags/pl.png",
         "POT": 91,
         "Team & Contract": "FC Bayern München 2014 ~ 2023",
         "Height": "6'0\"",
         "Weight": "176lbs",
         "foot": "Right",
         "Growth": 0,
         "Joined": "Jul 1, 2014",
         "Loan Date End": "nan",
         "Value": "€80M",
         "Wage": "€240K",
         "Release Clause": "€132M",
         "Contract": "2014 ~ 2023",
         "Attacking": 423,
         "Crossing": 71,
         "Finishing": 94,
         "Heading Accuracy": 85,
         "Short Passing": 84,
         "Volleys": 89,
         "Skill": 407,
         "Dribbling": 85,
         "Curve": 79,
         "FK Accuracy": 85,
         "Long Passing": 70,
         "Ball Control": 88,
         "Movement": 407,
         "Acceleration": 77,
         "Sprint Speed": 78,
         "Agility": 77,
         "Reactions": 93,
         "Balance": 82,
         "Power": 420,
         "Shot Power": 89,
         "Jumping": 84,
         "Stamina": 76,
         "Strength": 86,
         "Long Shots": 85,
         "Mentality": 391,
         "Aggression": 81,
         "Interceptions": 49,
         "Positioning": 94,
         "Vision": 79,
         "Penalties": 88,
         "Composure": 88,
         "Defending": 96,
         "Marking": 35,
         "Standing Tackle": 42,
         "Sliding Tackle": 19,
         "Goalkeeping": 51,
         "GK Diving": 15,
         "GK Handling": 6,
         "GK Kicking": 12,
         "GK Positioning": 8,
         "GK Reflexes": 10,
         "Total Stats": 2195,
         "Base Stats": 457,
         "W/F": "4 ★",
         "SM": "4★",
         "A/W": "High",
         "D/W": "Medium",
         "IR": "4 ★",
         "PAC": 78,
         "SHO": 91,
         "PAS": 78,
         "DRI": 85,
         "DEF": 43,
         "PHY": 82,
         "Hits": "487",
         "LS": "89+2",
         "ST": "89+2",
         "RS": "89+2",
         "LW": "85+0",
         "LF": "87+0",
         "CF": "87+0",
         "RF": "87+0",
         "RW": "85+0",
         "LAM": "85+3",
         "CAM": "85+3",
         "RAM": "85+3",
         "LM": "83+3",
         "LCM": "79+3",
         "CM": "79+3",
         "RCM": "79+3",
         "RM": "83+3",
         "LWB": "64+3",
         "LDM": "65+3",
         "CDM": "65+3",
         "RDM": "65+3",
         "RWB": "64+3",
         "LB": "61+3",
         "LCB": "60+3",
         "CB": "60+3",
         "RCB": "60+3",
         "RB": "61+3",
         "GK": "19+3",
         "Gender": "Male",
         "_deepnote_index_column": 2287
        },
        {
         "ID": 190871,
         "Name": "Neymar Jr",
         "Age": 28,
         "OVA": 91,
         "Nationality": "Brazil",
         "Club": "Paris Saint-Germain",
         "BOV": 91,
         "BP": "LW",
         "Position": "LW CAM",
         "Player Photo": "https://cdn.sofifa.com/players/190/871/20_120.png",
         "Club Logo": "https://cdn.sofifa.com/teams/73/light_60.png",
         "Flag Photo": "https://cdn.sofifa.com/flags/br.png",
         "POT": 91,
         "Team & Contract": "Paris Saint-Germain 2017 ~ 2022",
         "Height": "5'9\"",
         "Weight": "150lbs",
         "foot": "Right",
         "Growth": 0,
         "Joined": "Aug 3, 2017",
         "Loan Date End": "nan",
         "Value": "€90M",
         "Wage": "€270K",
         "Release Clause": "€166.5M",
         "Contract": "2017 ~ 2022",
         "Attacking": 408,
         "Crossing": 85,
         "Finishing": 87,
         "Heading Accuracy": 62,
         "Short Passing": 87,
         "Volleys": 87,
         "Skill": 448,
         "Dribbling": 95,
         "Curve": 88,
         "FK Accuracy": 89,
         "Long Passing": 81,
         "Ball Control": 95,
         "Movement": 453,
         "Acceleration": 94,
         "Sprint Speed": 89,
         "Agility": 96,
         "Reactions": 91,
         "Balance": 83,
         "Power": 357,
         "Shot Power": 80,
         "Jumping": 62,
         "Stamina": 81,
         "Strength": 50,
         "Long Shots": 84,
         "Mentality": 356,
         "Aggression": 51,
         "Interceptions": 36,
         "Positioning": 87,
         "Vision": 90,
         "Penalties": 92,
         "Composure": 93,
         "Defending": 94,
         "Marking": 35,
         "Standing Tackle": 30,
         "Sliding Tackle": 29,
         "Goalkeeping": 59,
         "GK Diving": 9,
         "GK Handling": 9,
         "GK Kicking": 15,
         "GK Positioning": 15,
         "GK Reflexes": 11,
         "Total Stats": 2175,
         "Base Stats": 451,
         "W/F": "5 ★",
         "SM": "5★",
         "A/W": "High",
         "D/W": "Medium",
         "IR": "5 ★",
         "PAC": 91,
         "SHO": 85,
         "PAS": 86,
         "DRI": 94,
         "DEF": 36,
         "PHY": 59,
         "Hits": "546",
         "LS": "84+3",
         "ST": "84+3",
         "RS": "84+3",
         "LW": "90+0",
         "LF": "89+0",
         "CF": "89+0",
         "RF": "89+0",
         "RW": "90+0",
         "LAM": "90+1",
         "CAM": "90+1",
         "RAM": "90+1",
         "LM": "90+1",
         "LCM": "83+3",
         "CM": "83+3",
         "RCM": "83+3",
         "RM": "90+1",
         "LWB": "67+3",
         "LDM": "62+3",
         "CDM": "62+3",
         "RDM": "62+3",
         "RWB": "67+3",
         "LB": "62+3",
         "LCB": "49+3",
         "CB": "49+3",
         "RCB": "49+3",
         "RB": "62+3",
         "GK": "20+3",
         "Gender": "Male",
         "_deepnote_index_column": 2650
        },
        {
         "ID": 200389,
         "Name": "J. Oblak",
         "Age": 27,
         "OVA": 91,
         "Nationality": "Slovenia",
         "Club": "Atlético Madrid",
         "BOV": 91,
         "BP": "GK",
         "Position": "GK",
         "Player Photo": "https://cdn.sofifa.com/players/200/389/20_120.png",
         "Club Logo": "https://cdn.sofifa.com/teams/240/light_60.png",
         "Flag Photo": "https://cdn.sofifa.com/flags/si.png",
         "POT": 93,
         "Team & Contract": "Atlético Madrid 2014 ~ 2023",
         "Height": "6'2\"",
         "Weight": "192lbs",
         "foot": "Right",
         "Growth": 2,
         "Joined": "Jul 16, 2014",
         "Loan Date End": "nan",
         "Value": "€75M",
         "Wage": "€125K",
         "Release Clause": "€159.4M",
         "Contract": "2014 ~ 2023",
         "Attacking": 95,
         "Crossing": 13,
         "Finishing": 11,
         "Heading Accuracy": 15,
         "Short Passing": 43,
         "Volleys": 13,
         "Skill": 109,
         "Dribbling": 12,
         "Curve": 13,
         "FK Accuracy": 14,
         "Long Passing": 40,
         "Ball Control": 30,
         "Movement": 307,
         "Acceleration": 43,
         "Sprint Speed": 60,
         "Agility": 67,
         "Reactions": 88,
         "Balance": 49,
         "Power": 268,
         "Shot Power": 59,
         "Jumping": 78,
         "Stamina": 41,
         "Strength": 78,
         "Long Shots": 12,
         "Mentality": 140,
         "Aggression": 34,
         "Interceptions": 19,
         "Positioning": 11,
         "Vision": 65,
         "Penalties": 11,
         "Composure": 68,
         "Defending": 57,
         "Marking": 27,
         "Standing Tackle": 12,
         "Sliding Tackle": 18,
         "Goalkeeping": 437,
         "GK Diving": 87,
         "GK Handling": 92,
         "GK Kicking": 78,
         "GK Positioning": 90,
         "GK Reflexes": 90,
         "Total Stats": 1413,
         "Base Stats": 489,
         "W/F": "3 ★",
         "SM": "1★",
         "A/W": "Medium",
         "D/W": "Medium",
         "IR": "3 ★",
         "PAC": 87,
         "SHO": 92,
         "PAS": 78,
         "DRI": 90,
         "DEF": 52,
         "PHY": 90,
         "Hits": "220",
         "LS": "33+3",
         "ST": "33+3",
         "RS": "33+3",
         "LW": "32+0",
         "LF": "35+0",
         "CF": "35+0",
         "RF": "35+0",
         "RW": "32+0",
         "LAM": "38+3",
         "CAM": "38+3",
         "RAM": "38+3",
         "LM": "35+3",
         "LCM": "38+3",
         "CM": "38+3",
         "RCM": "38+3",
         "RM": "35+3",
         "LWB": "32+3",
         "LDM": "36+3",
         "CDM": "36+3",
         "RDM": "36+3",
         "RWB": "32+3",
         "LB": "32+3",
         "LCB": "33+3",
         "CB": "33+3",
         "RCB": "33+3",
         "RB": "32+3",
         "GK": "89+3",
         "Gender": "Male",
         "_deepnote_index_column": 3665
        },
        {
         "ID": 192448,
         "Name": "M. ter Stegen",
         "Age": 28,
         "OVA": 90,
         "Nationality": "Germany",
         "Club": "FC Barcelona",
         "BOV": 90,
         "BP": "GK",
         "Position": "GK",
         "Player Photo": "https://cdn.sofifa.com/players/192/448/20_120.png",
         "Club Logo": "https://cdn.sofifa.com/teams/241/light_60.png",
         "Flag Photo": "https://cdn.sofifa.com/flags/de.png",
         "POT": 93,
         "Team & Contract": "FC Barcelona 2014 ~ 2022",
         "Height": "6'2\"",
         "Weight": "187lbs",
         "foot": "Right",
         "Growth": 3,
         "Joined": "Jul 1, 2014",
         "Loan Date End": "nan",
         "Value": "€69.5M",
         "Wage": "€260K",
         "Release Clause": "€147.7M",
         "Contract": "2014 ~ 2022",
         "Attacking": 118,
         "Crossing": 18,
         "Finishing": 14,
         "Heading Accuracy": 11,
         "Short Passing": 61,
         "Volleys": 14,
         "Skill": 144,
         "Dribbling": 21,
         "Curve": 18,
         "FK Accuracy": 12,
         "Long Passing": 63,
         "Ball Control": 30,
         "Movement": 254,
         "Acceleration": 38,
         "Sprint Speed": 50,
         "Agility": 37,
         "Reactions": 86,
         "Balance": 43,
         "Power": 268,
         "Shot Power": 66,
         "Jumping": 79,
         "Stamina": 35,
         "Strength": 78,
         "Long Shots": 10,
         "Mentality": 171,
         "Aggression": 43,
         "Interceptions": 22,
         "Positioning": 11,
         "Vision": 70,
         "Penalties": 25,
         "Composure": 70,
         "Defending": 48,
         "Marking": 25,
         "Standing Tackle": 13,
         "Sliding Tackle": 10,
         "Goalkeeping": 439,
         "GK Diving": 88,
         "GK Handling": 85,
         "GK Kicking": 88,
         "GK Positioning": 88,
         "GK Reflexes": 90,
         "Total Stats": 1442,
         "Base Stats": 484,
         "W/F": "4 ★",
         "SM": "1★",
         "A/W": "Medium",
         "D/W": "Medium",
         "IR": "3 ★",
         "PAC": 88,
         "SHO": 85,
         "PAS": 88,
         "DRI": 90,
         "DEF": 45,
         "PHY": 88,
         "Hits": "213",
         "LS": "35+3",
         "ST": "35+3",
         "RS": "35+3",
         "LW": "34+0",
         "LF": "38+0",
         "CF": "38+0",
         "RF": "38+0",
         "RW": "34+0",
         "LAM": "42+3",
         "CAM": "42+3",
         "RAM": "42+3",
         "LM": "39+3",
         "LCM": "45+3",
         "CM": "45+3",
         "RCM": "45+3",
         "RM": "39+3",
         "LWB": "33+3",
         "LDM": "41+3",
         "CDM": "41+3",
         "RDM": "41+3",
         "RWB": "33+3",
         "LB": "31+3",
         "LCB": "33+3",
         "CB": "33+3",
         "RCB": "33+3",
         "RB": "31+3",
         "GK": "88+3",
         "Gender": "Male",
         "_deepnote_index_column": 2790
        },
        {
         "ID": 231747,
         "Name": "K. Mbappé",
         "Age": 21,
         "OVA": 90,
         "Nationality": "France",
         "Club": "Paris Saint-Germain",
         "BOV": 91,
         "BP": "ST",
         "Position": "ST LW RW",
         "Player Photo": "https://cdn.sofifa.com/players/231/747/20_120.png",
         "Club Logo": "https://cdn.sofifa.com/teams/73/light_60.png",
         "Flag Photo": "https://cdn.sofifa.com/flags/fr.png",
         "POT": 95,
         "Team & Contract": "Paris Saint-Germain 2018 ~ 2022",
         "Height": "5'10\"",
         "Weight": "161lbs",
         "foot": "Right",
         "Growth": 5,
         "Joined": "Jul 1, 2018",
         "Loan Date End": "nan",
         "Value": "€105.5M",
         "Wage": "€160K",
         "Release Clause": "€203.1M",
         "Contract": "2018 ~ 2022",
         "Attacking": 408,
         "Crossing": 78,
         "Finishing": 91,
         "Heading Accuracy": 73,
         "Short Passing": 83,
         "Volleys": 83,
         "Skill": 394,
         "Dribbling": 92,
         "Curve": 79,
         "FK Accuracy": 63,
         "Long Passing": 70,
         "Ball Control": 90,
         "Movement": 458,
         "Acceleration": 96,
         "Sprint Speed": 96,
         "Agility": 92,
         "Reactions": 92,
         "Balance": 82,
         "Power": 404,
         "Shot Power": 86,
         "Jumping": 77,
         "Stamina": 86,
         "Strength": 76,
         "Long Shots": 79,
         "Mentality": 341,
         "Aggression": 62,
         "Interceptions": 38,
         "Positioning": 91,
         "Vision": 80,
         "Penalties": 70,
         "Composure": 84,
         "Defending": 100,
         "Marking": 34,
         "Standing Tackle": 34,
         "Sliding Tackle": 32,
         "Goalkeeping": 42,
         "GK Diving": 13,
         "GK Handling": 5,
         "GK Kicking": 7,
         "GK Positioning": 11,
         "GK Reflexes": 6,
         "Total Stats": 2147,
         "Base Stats": 466,
         "W/F": "4 ★",
         "SM": "5★",
         "A/W": "High",
         "D/W": "Low",
         "IR": "3 ★",
         "PAC": 96,
         "SHO": 86,
         "PAS": 78,
         "DRI": 91,
         "DEF": 39,
         "PHY": 76,
         "Hits": "1.2K",
         "LS": "88+3",
         "ST": "88+3",
         "RS": "88+3",
         "LW": "89+0",
         "LF": "89+0",
         "CF": "89+0",
         "RF": "89+0",
         "RW": "89+0",
         "LAM": "87+3",
         "CAM": "87+3",
         "RAM": "87+3",
         "LM": "87+3",
         "LCM": "79+3",
         "CM": "79+3",
         "RCM": "79+3",
         "RM": "87+3",
         "LWB": "67+3",
         "LDM": "63+3",
         "CDM": "63+3",
         "RDM": "63+3",
         "RWB": "67+3",
         "LB": "63+3",
         "LCB": "55+3",
         "CB": "55+3",
         "RCB": "55+3",
         "RB": "63+3",
         "GK": "18+3",
         "Gender": "Male",
         "_deepnote_index_column": 9331
        },
        {
         "ID": 212831,
         "Name": "Alisson",
         "Age": 27,
         "OVA": 90,
         "Nationality": "Brazil",
         "Club": "Liverpool",
         "BOV": 90,
         "BP": "GK",
         "Position": "GK",
         "Player Photo": "https://cdn.sofifa.com/players/212/831/20_120.png",
         "Club Logo": "https://cdn.sofifa.com/teams/9/light_60.png",
         "Flag Photo": "https://cdn.sofifa.com/flags/br.png",
         "POT": 91,
         "Team & Contract": "Liverpool 2018 ~ 2024",
         "Height": "6'3\"",
         "Weight": "201lbs",
         "foot": "Right",
         "Growth": 1,
         "Joined": "Jul 19, 2018",
         "Loan Date End": "nan",
         "Value": "€62.5M",
         "Wage": "€160K",
         "Release Clause": "€120.3M",
         "Contract": "2018 ~ 2024",
         "Attacking": 114,
         "Crossing": 17,
         "Finishing": 13,
         "Heading Accuracy": 19,
         "Short Passing": 45,
         "Volleys": 20,
         "Skill": 138,
         "Dribbling": 27,
         "Curve": 19,
         "FK Accuracy": 18,
         "Long Passing": 44,
         "Ball Control": 30,
         "Movement": 268,
         "Acceleration": 56,
         "Sprint Speed": 47,
         "Agility": 40,
         "Reactions": 88,
         "Balance": 37,
         "Power": 240,
         "Shot Power": 64,
         "Jumping": 52,
         "Stamina": 32,
         "Strength": 78,
         "Long Shots": 14,
         "Mentality": 140,
         "Aggression": 27,
         "Interceptions": 11,
         "Positioning": 13,
         "Vision": 66,
         "Penalties": 23,
         "Composure": 65,
         "Defending": 50,
         "Marking": 15,
         "Standing Tackle": 19,
         "Sliding Tackle": 16,
         "Goalkeeping": 439,
         "GK Diving": 86,
         "GK Handling": 88,
         "GK Kicking": 85,
         "GK Positioning": 91,
         "GK Reflexes": 89,
         "Total Stats": 1389,
         "Base Stats": 490,
         "W/F": "3 ★",
         "SM": "1★",
         "A/W": "Medium",
         "D/W": "Medium",
         "IR": "3 ★",
         "PAC": 86,
         "SHO": 88,
         "PAS": 85,
         "DRI": 89,
         "DEF": 51,
         "PHY": 91,
         "Hits": "228",
         "LS": "36+3",
         "ST": "36+3",
         "RS": "36+3",
         "LW": "35+0",
         "LF": "38+0",
         "CF": "38+0",
         "RF": "38+0",
         "RW": "35+0",
         "LAM": "40+3",
         "CAM": "40+3",
         "RAM": "40+3",
         "LM": "38+3",
         "LCM": "40+3",
         "CM": "40+3",
         "RCM": "40+3",
         "RM": "38+3",
         "LWB": "31+3",
         "LDM": "35+3",
         "CDM": "35+3",
         "RDM": "35+3",
         "RWB": "31+3",
         "LB": "30+3",
         "LCB": "30+3",
         "CB": "30+3",
         "RCB": "30+3",
         "RB": "30+3",
         "GK": "88+3",
         "Gender": "Male",
         "_deepnote_index_column": 5777
        },
        {
         "ID": 203376,
         "Name": "V. van Dijk",
         "Age": 28,
         "OVA": 90,
         "Nationality": "Netherlands",
         "Club": "Liverpool",
         "BOV": 90,
         "BP": "CB",
         "Position": "CB",
         "Player Photo": "https://cdn.sofifa.com/players/203/376/20_120.png",
         "Club Logo": "https://cdn.sofifa.com/teams/9/light_60.png",
         "Flag Photo": "https://cdn.sofifa.com/flags/nl.png",
         "POT": 91,
         "Team & Contract": "Liverpool 2018 ~ 2023",
         "Height": "6'4\"",
         "Weight": "203lbs",
         "foot": "Right",
         "Growth": 1,
         "Joined": "Jan 1, 2018",
         "Loan Date End": "nan",
         "Value": "€75.5M",
         "Wage": "€210K",
         "Release Clause": "€145.3M",
         "Contract": "2018 ~ 2023",
         "Attacking": 316,
         "Crossing": 53,
         "Finishing": 52,
         "Heading Accuracy": 87,
         "Short Passing": 79,
         "Volleys": 45,
         "Skill": 363,
         "Dribbling": 70,
         "Curve": 60,
         "FK Accuracy": 70,
         "Long Passing": 86,
         "Ball Control": 77,
         "Movement": 354,
         "Acceleration": 72,
         "Sprint Speed": 79,
         "Agility": 61,
         "Reactions": 89,
         "Balance": 53,
         "Power": 402,
         "Shot Power": 81,
         "Jumping": 90,
         "Stamina": 75,
         "Strength": 92,
         "Long Shots": 64,
         "Mentality": 347,
         "Aggression": 83,
         "Interceptions": 90,
         "Positioning": 47,
         "Vision": 65,
         "Penalties": 62,
         "Composure": 90,
         "Defending": 272,
         "Marking": 93,
         "Standing Tackle": 93,
         "Sliding Tackle": 86,
         "Goalkeeping": 58,
         "GK Diving": 13,
         "GK Handling": 10,
         "GK Kicking": 13,
         "GK Positioning": 11,
         "GK Reflexes": 11,
         "Total Stats": 2112,
         "Base Stats": 455,
         "W/F": "3 ★",
         "SM": "2★",
         "A/W": "Medium",
         "D/W": "Medium",
         "IR": "3 ★",
         "PAC": 76,
         "SHO": 60,
         "PAS": 71,
         "DRI": 71,
         "DEF": 91,
         "PHY": 86,
         "Hits": "413",
         "LS": "70+3",
         "ST": "70+3",
         "RS": "70+3",
         "LW": "68+0",
         "LF": "69+0",
         "CF": "69+0",
         "RF": "69+0",
         "RW": "68+0",
         "LAM": "70+3",
         "CAM": "70+3",
         "RAM": "70+3",
         "LM": "70+3",
         "LCM": "76+3",
         "CM": "76+3",
         "RCM": "76+3",
         "RM": "70+3",
         "LWB": "80+3",
         "LDM": "85+3",
         "CDM": "85+3",
         "RDM": "85+3",
         "RWB": "80+3",
         "LB": "82+3",
         "LCB": "89+2",
         "CB": "89+2",
         "RCB": "89+2",
         "RB": "82+3",
         "GK": "20+3",
         "Gender": "Male",
         "_deepnote_index_column": 4166
        }
       ]
      },
      "text/plain": "           ID             Name  Age  OVA            Nationality  \\\n0           2      G. Pasquale   33   69                  Italy   \n1          16      Luis García   37   71                  Spain   \n2          27          J. Cole   33   71                England   \n3          36         D. Yorke   36   68  Trinidad &amp; Tobago   \n4          41          Iniesta   36   81                  Spain   \n...       ...              ...  ...  ...                    ...   \n17120  259088       A. Medioub   22   64                 France   \n17121  259090       W. Rickard   18   56                  Wales   \n17122  259091       C. Barrett   18   56                England   \n17123  259101   J. Gazibegović   20   62     Bosnia Herzegovina   \n17124  259105  Pablo Rodríguez   18   59                  Spain   \n\n                Club  BOV   BP      Position  \\\n0            Udinese   71  LWB            LM   \n1          KAS Eupen   70   CM    CM CAM CDM   \n2      Coventry City   71  CAM  CAM RM RW LM   \n3         Sunderland   70   ST           NaN   \n4        Vissel Kobe   82  CAM        CM CAM   \n...              ...  ...  ...           ...   \n17120     CD Tondela   66   CB            CB   \n17121        Burnley   58  CAM        CAM CM   \n17122        Burnley   56   RB            RB   \n17123  SK Sturm Graz   62   RB         RB LB   \n17124          Lecce   61   ST            ST   \n\n                                            Player Photo  ...    CDM    RDM  \\\n0      https://cdn.sofifa.com/players/000/002/16_120.png  ...  70+-1  70+-1   \n1      https://cdn.sofifa.com/players/000/016/19_120.png  ...   66+1   66+1   \n2      https://cdn.sofifa.com/players/000/027/16_120.png  ...   54+0   54+0   \n3      https://cdn.sofifa.com/players/000/036/09_120.png  ...   65+0   65+0   \n4      https://cdn.sofifa.com/players/000/041/20_120.png  ...   73+3   73+3   \n...                                                  ...  ...    ...    ...   \n17120  https://cdn.sofifa.com/players/259/088/20_120.png  ...   55+2   55+2   \n17121  https://cdn.sofifa.com/players/259/090/20_120.png  ...   52+2   52+2   \n17122  https://cdn.sofifa.com/players/259/091/20_120.png  ...   50+2   50+2   \n17123  https://cdn.sofifa.com/players/259/101/20_120.png  ...   58+2   58+2   \n17124  https://cdn.sofifa.com/players/259/105/20_120.png  ...   32+2   32+2   \n\n         RWB     LB   LCB    CB   RCB     RB    GK Gender  \n0      71+-2  70+-1  69+0  69+0  69+0  70+-1  17+0   Male  \n1       62+1   60+1  60+1  60+1  60+1   60+1  17+1   Male  \n2       52+0   47+0  46+0  46+0  46+0   47+0  15+0   Male  \n3       56+0   57+0  51+0  51+0  51+0   57+0  22+0   Male  \n4       70+3   67+3  64+3  64+3  64+3   67+3  17+3   Male  \n...      ...    ...   ...   ...   ...    ...   ...    ...  \n17120   54+2   57+2  64+2  64+2  64+2   57+2  12+2   Male  \n17121   53+2   52+2  49+2  49+2  49+2   52+2  17+2   Male  \n17122   54+2   54+2  54+2  54+2  54+2   54+2  14+2   Male  \n17123   60+2   60+2  58+2  58+2  58+2   60+2  16+2   Male  \n17124   36+2   34+2  30+2  30+2  30+2   34+2  14+2   Male  \n\n[17125 rows x 107 columns]",
      "text/html": "<div>\n<style scoped>\n    .dataframe tbody tr th:only-of-type {\n        vertical-align: middle;\n    }\n\n    .dataframe tbody tr th {\n        vertical-align: top;\n    }\n\n    .dataframe thead th {\n        text-align: right;\n    }\n</style>\n<table border=\"1\" class=\"dataframe\">\n  <thead>\n    <tr style=\"text-align: right;\">\n      <th></th>\n      <th>ID</th>\n      <th>Name</th>\n      <th>Age</th>\n      <th>OVA</th>\n      <th>Nationality</th>\n      <th>Club</th>\n      <th>BOV</th>\n      <th>BP</th>\n      <th>Position</th>\n      <th>Player Photo</th>\n      <th>...</th>\n      <th>CDM</th>\n      <th>RDM</th>\n      <th>RWB</th>\n      <th>LB</th>\n      <th>LCB</th>\n      <th>CB</th>\n      <th>RCB</th>\n      <th>RB</th>\n      <th>GK</th>\n      <th>Gender</th>\n    </tr>\n  </thead>\n  <tbody>\n    <tr>\n      <th>0</th>\n      <td>2</td>\n      <td>G. Pasquale</td>\n      <td>33</td>\n      <td>69</td>\n      <td>Italy</td>\n      <td>Udinese</td>\n      <td>71</td>\n      <td>LWB</td>\n      <td>LM</td>\n      <td>https://cdn.sofifa.com/players/000/002/16_120.png</td>\n      <td>...</td>\n      <td>70+-1</td>\n      <td>70+-1</td>\n      <td>71+-2</td>\n      <td>70+-1</td>\n      <td>69+0</td>\n      <td>69+0</td>\n      <td>69+0</td>\n      <td>70+-1</td>\n      <td>17+0</td>\n      <td>Male</td>\n    </tr>\n    <tr>\n      <th>1</th>\n      <td>16</td>\n      <td>Luis García</td>\n      <td>37</td>\n      <td>71</td>\n      <td>Spain</td>\n      <td>KAS Eupen</td>\n      <td>70</td>\n      <td>CM</td>\n      <td>CM CAM CDM</td>\n      <td>https://cdn.sofifa.com/players/000/016/19_120.png</td>\n      <td>...</td>\n      <td>66+1</td>\n      <td>66+1</td>\n      <td>62+1</td>\n      <td>60+1</td>\n      <td>60+1</td>\n      <td>60+1</td>\n      <td>60+1</td>\n      <td>60+1</td>\n      <td>17+1</td>\n      <td>Male</td>\n    </tr>\n    <tr>\n      <th>2</th>\n      <td>27</td>\n      <td>J. Cole</td>\n      <td>33</td>\n      <td>71</td>\n      <td>England</td>\n      <td>Coventry City</td>\n      <td>71</td>\n      <td>CAM</td>\n      <td>CAM RM RW LM</td>\n      <td>https://cdn.sofifa.com/players/000/027/16_120.png</td>\n      <td>...</td>\n      <td>54+0</td>\n      <td>54+0</td>\n      <td>52+0</td>\n      <td>47+0</td>\n      <td>46+0</td>\n      <td>46+0</td>\n      <td>46+0</td>\n      <td>47+0</td>\n      <td>15+0</td>\n      <td>Male</td>\n    </tr>\n    <tr>\n      <th>3</th>\n      <td>36</td>\n      <td>D. Yorke</td>\n      <td>36</td>\n      <td>68</td>\n      <td>Trinidad &amp;amp; Tobago</td>\n      <td>Sunderland</td>\n      <td>70</td>\n      <td>ST</td>\n      <td>NaN</td>\n      <td>https://cdn.sofifa.com/players/000/036/09_120.png</td>\n      <td>...</td>\n      <td>65+0</td>\n      <td>65+0</td>\n      <td>56+0</td>\n      <td>57+0</td>\n      <td>51+0</td>\n      <td>51+0</td>\n      <td>51+0</td>\n      <td>57+0</td>\n      <td>22+0</td>\n      <td>Male</td>\n    </tr>\n    <tr>\n      <th>4</th>\n      <td>41</td>\n      <td>Iniesta</td>\n      <td>36</td>\n      <td>81</td>\n      <td>Spain</td>\n      <td>Vissel Kobe</td>\n      <td>82</td>\n      <td>CAM</td>\n      <td>CM CAM</td>\n      <td>https://cdn.sofifa.com/players/000/041/20_120.png</td>\n      <td>...</td>\n      <td>73+3</td>\n      <td>73+3</td>\n      <td>70+3</td>\n      <td>67+3</td>\n      <td>64+3</td>\n      <td>64+3</td>\n      <td>64+3</td>\n      <td>67+3</td>\n      <td>17+3</td>\n      <td>Male</td>\n    </tr>\n    <tr>\n      <th>...</th>\n      <td>...</td>\n      <td>...</td>\n      <td>...</td>\n      <td>...</td>\n      <td>...</td>\n      <td>...</td>\n      <td>...</td>\n      <td>...</td>\n      <td>...</td>\n      <td>...</td>\n      <td>...</td>\n      <td>...</td>\n      <td>...</td>\n      <td>...</td>\n      <td>...</td>\n      <td>...</td>\n      <td>...</td>\n      <td>...</td>\n      <td>...</td>\n      <td>...</td>\n      <td>...</td>\n    </tr>\n    <tr>\n      <th>17120</th>\n      <td>259088</td>\n      <td>A. Medioub</td>\n      <td>22</td>\n      <td>64</td>\n      <td>France</td>\n      <td>CD Tondela</td>\n      <td>66</td>\n      <td>CB</td>\n      <td>CB</td>\n      <td>https://cdn.sofifa.com/players/259/088/20_120.png</td>\n      <td>...</td>\n      <td>55+2</td>\n      <td>55+2</td>\n      <td>54+2</td>\n      <td>57+2</td>\n      <td>64+2</td>\n      <td>64+2</td>\n      <td>64+2</td>\n      <td>57+2</td>\n      <td>12+2</td>\n      <td>Male</td>\n    </tr>\n    <tr>\n      <th>17121</th>\n      <td>259090</td>\n      <td>W. Rickard</td>\n      <td>18</td>\n      <td>56</td>\n      <td>Wales</td>\n      <td>Burnley</td>\n      <td>58</td>\n      <td>CAM</td>\n      <td>CAM CM</td>\n      <td>https://cdn.sofifa.com/players/259/090/20_120.png</td>\n      <td>...</td>\n      <td>52+2</td>\n      <td>52+2</td>\n      <td>53+2</td>\n      <td>52+2</td>\n      <td>49+2</td>\n      <td>49+2</td>\n      <td>49+2</td>\n      <td>52+2</td>\n      <td>17+2</td>\n      <td>Male</td>\n    </tr>\n    <tr>\n      <th>17122</th>\n      <td>259091</td>\n      <td>C. Barrett</td>\n      <td>18</td>\n      <td>56</td>\n      <td>England</td>\n      <td>Burnley</td>\n      <td>56</td>\n      <td>RB</td>\n      <td>RB</td>\n      <td>https://cdn.sofifa.com/players/259/091/20_120.png</td>\n      <td>...</td>\n      <td>50+2</td>\n      <td>50+2</td>\n      <td>54+2</td>\n      <td>54+2</td>\n      <td>54+2</td>\n      <td>54+2</td>\n      <td>54+2</td>\n      <td>54+2</td>\n      <td>14+2</td>\n      <td>Male</td>\n    </tr>\n    <tr>\n      <th>17123</th>\n      <td>259101</td>\n      <td>J. Gazibegović</td>\n      <td>20</td>\n      <td>62</td>\n      <td>Bosnia Herzegovina</td>\n      <td>SK Sturm Graz</td>\n      <td>62</td>\n      <td>RB</td>\n      <td>RB LB</td>\n      <td>https://cdn.sofifa.com/players/259/101/20_120.png</td>\n      <td>...</td>\n      <td>58+2</td>\n      <td>58+2</td>\n      <td>60+2</td>\n      <td>60+2</td>\n      <td>58+2</td>\n      <td>58+2</td>\n      <td>58+2</td>\n      <td>60+2</td>\n      <td>16+2</td>\n      <td>Male</td>\n    </tr>\n    <tr>\n      <th>17124</th>\n      <td>259105</td>\n      <td>Pablo Rodríguez</td>\n      <td>18</td>\n      <td>59</td>\n      <td>Spain</td>\n      <td>Lecce</td>\n      <td>61</td>\n      <td>ST</td>\n      <td>ST</td>\n      <td>https://cdn.sofifa.com/players/259/105/20_120.png</td>\n      <td>...</td>\n      <td>32+2</td>\n      <td>32+2</td>\n      <td>36+2</td>\n      <td>34+2</td>\n      <td>30+2</td>\n      <td>30+2</td>\n      <td>30+2</td>\n      <td>34+2</td>\n      <td>14+2</td>\n      <td>Male</td>\n    </tr>\n  </tbody>\n</table>\n<p>17125 rows × 107 columns</p>\n</div>"
     },
     "metadata": {}
    }
   ],
   "execution_count": null
  },
  {
   "cell_type": "code",
   "source": "fifa_df.describe()",
   "metadata": {
    "cell_id": "4afb8adc-a81f-4354-bd34-48c52004a1d3",
    "tags": [],
    "deepnote_to_be_reexecuted": false,
    "source_hash": "432bb6f0",
    "execution_start": 1647525146545,
    "execution_millis": 525,
    "deepnote_cell_type": "code",
    "deepnote_cell_height": 528
   },
   "outputs": [
    {
     "output_type": "execute_result",
     "execution_count": 4,
     "data": {
      "application/vnd.deepnote.dataframe.v3+json": {
       "column_count": 55,
       "row_count": 8,
       "columns": [
        {
         "name": "ID",
         "dtype": "float64",
         "stats": {
          "unique_count": 8,
          "nan_count": 0,
          "min": "2.0",
          "max": "259105.0",
          "histogram": [
           {
            "bin_start": 2,
            "bin_end": 25912.3,
            "count": 2
           },
           {
            "bin_start": 25912.3,
            "bin_end": 51822.6,
            "count": 1
           },
           {
            "bin_start": 51822.6,
            "bin_end": 77732.9,
            "count": 0
           },
           {
            "bin_start": 77732.9,
            "bin_end": 103643.2,
            "count": 0
           },
           {
            "bin_start": 103643.2,
            "bin_end": 129553.5,
            "count": 0
           },
           {
            "bin_start": 129553.5,
            "bin_end": 155463.8,
            "count": 0
           },
           {
            "bin_start": 155463.8,
            "bin_end": 181374.1,
            "count": 0
           },
           {
            "bin_start": 181374.1,
            "bin_end": 207284.4,
            "count": 1
           },
           {
            "bin_start": 207284.4,
            "bin_end": 233194.69999999998,
            "count": 2
           },
           {
            "bin_start": 233194.69999999998,
            "bin_end": 259105,
            "count": 2
           }
          ]
         }
        },
        {
         "name": "Age",
         "dtype": "float64",
         "stats": {
          "unique_count": 8,
          "nan_count": 0,
          "min": "4.942665346698034",
          "max": "17125.0",
          "histogram": [
           {
            "bin_start": 4.942665346698034,
            "bin_end": 1716.9483988120282,
            "count": 7
           },
           {
            "bin_start": 1716.9483988120282,
            "bin_end": 3428.9541322773584,
            "count": 0
           },
           {
            "bin_start": 3428.9541322773584,
            "bin_end": 5140.959865742689,
            "count": 0
           },
           {
            "bin_start": 5140.959865742689,
            "bin_end": 6852.965599208019,
            "count": 0
           },
           {
            "bin_start": 6852.965599208019,
            "bin_end": 8564.971332673349,
            "count": 0
           },
           {
            "bin_start": 8564.971332673349,
            "bin_end": 10276.97706613868,
            "count": 0
           },
           {
            "bin_start": 10276.97706613868,
            "bin_end": 11988.98279960401,
            "count": 0
           },
           {
            "bin_start": 11988.98279960401,
            "bin_end": 13700.98853306934,
            "count": 0
           },
           {
            "bin_start": 13700.98853306934,
            "bin_end": 15412.99426653467,
            "count": 0
           },
           {
            "bin_start": 15412.99426653467,
            "bin_end": 17125,
            "count": 1
           }
          ]
         }
        },
        {
         "name": "OVA",
         "dtype": "float64",
         "stats": {
          "unique_count": 8,
          "nan_count": 0,
          "min": "6.864329323314172",
          "max": "17125.0",
          "histogram": [
           {
            "bin_start": 6.864329323314172,
            "bin_end": 1718.6778963909828,
            "count": 7
           },
           {
            "bin_start": 1718.6778963909828,
            "bin_end": 3430.491463458651,
            "count": 0
           },
           {
            "bin_start": 3430.491463458651,
            "bin_end": 5142.3050305263205,
            "count": 0
           },
           {
            "bin_start": 5142.3050305263205,
            "bin_end": 6854.118597593989,
            "count": 0
           },
           {
            "bin_start": 6854.118597593989,
            "bin_end": 8565.932164661657,
            "count": 0
           },
           {
            "bin_start": 8565.932164661657,
            "bin_end": 10277.745731729327,
            "count": 0
           },
           {
            "bin_start": 10277.745731729327,
            "bin_end": 11989.559298796994,
            "count": 0
           },
           {
            "bin_start": 11989.559298796994,
            "bin_end": 13701.372865864663,
            "count": 0
           },
           {
            "bin_start": 13701.372865864663,
            "bin_end": 15413.186432932333,
            "count": 0
           },
           {
            "bin_start": 15413.186432932333,
            "bin_end": 17125,
            "count": 1
           }
          ]
         }
        },
        {
         "name": "BOV",
         "dtype": "float64",
         "stats": {
          "unique_count": 8,
          "nan_count": 0,
          "min": "6.637537605991941",
          "max": "17125.0",
          "histogram": [
           {
            "bin_start": 6.637537605991941,
            "bin_end": 1718.4737838453927,
            "count": 7
           },
           {
            "bin_start": 1718.4737838453927,
            "bin_end": 3430.3100300847937,
            "count": 0
           },
           {
            "bin_start": 3430.3100300847937,
            "bin_end": 5142.146276324195,
            "count": 0
           },
           {
            "bin_start": 5142.146276324195,
            "bin_end": 6853.982522563596,
            "count": 0
           },
           {
            "bin_start": 6853.982522563596,
            "bin_end": 8565.818768802996,
            "count": 0
           },
           {
            "bin_start": 8565.818768802996,
            "bin_end": 10277.655015042397,
            "count": 0
           },
           {
            "bin_start": 10277.655015042397,
            "bin_end": 11989.491261281797,
            "count": 0
           },
           {
            "bin_start": 11989.491261281797,
            "bin_end": 13701.327507521199,
            "count": 0
           },
           {
            "bin_start": 13701.327507521199,
            "bin_end": 15413.1637537606,
            "count": 0
           },
           {
            "bin_start": 15413.1637537606,
            "bin_end": 17125,
            "count": 1
           }
          ]
         }
        },
        {
         "name": "POT",
         "dtype": "float64",
         "stats": {
          "unique_count": 8,
          "nan_count": 0,
          "min": "5.769948647777709",
          "max": "17125.0",
          "histogram": [
           {
            "bin_start": 5.769948647777709,
            "bin_end": 1717.6929537830001,
            "count": 7
           },
           {
            "bin_start": 1717.6929537830001,
            "bin_end": 3429.6159589182225,
            "count": 0
           },
           {
            "bin_start": 3429.6159589182225,
            "bin_end": 5141.538964053445,
            "count": 0
           },
           {
            "bin_start": 5141.538964053445,
            "bin_end": 6853.461969188667,
            "count": 0
           },
           {
            "bin_start": 6853.461969188667,
            "bin_end": 8565.38497432389,
            "count": 0
           },
           {
            "bin_start": 8565.38497432389,
            "bin_end": 10277.307979459112,
            "count": 0
           },
           {
            "bin_start": 10277.307979459112,
            "bin_end": 11989.230984594335,
            "count": 0
           },
           {
            "bin_start": 11989.230984594335,
            "bin_end": 13701.153989729557,
            "count": 0
           },
           {
            "bin_start": 13701.153989729557,
            "bin_end": 15413.07699486478,
            "count": 0
           },
           {
            "bin_start": 15413.07699486478,
            "bin_end": 17125,
            "count": 1
           }
          ]
         }
        },
        {
         "name": "Growth",
         "dtype": "float64",
         "stats": {
          "unique_count": 8,
          "nan_count": 0,
          "min": "-1.0",
          "max": "17125.0",
          "histogram": [
           {
            "bin_start": -1,
            "bin_end": 1711.6,
            "count": 7
           },
           {
            "bin_start": 1711.6,
            "bin_end": 3424.2,
            "count": 0
           },
           {
            "bin_start": 3424.2,
            "bin_end": 5136.799999999999,
            "count": 0
           },
           {
            "bin_start": 5136.799999999999,
            "bin_end": 6849.4,
            "count": 0
           },
           {
            "bin_start": 6849.4,
            "bin_end": 8562,
            "count": 0
           },
           {
            "bin_start": 8562,
            "bin_end": 10274.599999999999,
            "count": 0
           },
           {
            "bin_start": 10274.599999999999,
            "bin_end": 11987.199999999999,
            "count": 0
           },
           {
            "bin_start": 11987.199999999999,
            "bin_end": 13699.8,
            "count": 0
           },
           {
            "bin_start": 13699.8,
            "bin_end": 15412.4,
            "count": 0
           },
           {
            "bin_start": 15412.4,
            "bin_end": 17125,
            "count": 1
           }
          ]
         }
        },
        {
         "name": "Attacking",
         "dtype": "float64",
         "stats": {
          "unique_count": 8,
          "nan_count": 0,
          "min": "33.0",
          "max": "17125.0",
          "histogram": [
           {
            "bin_start": 33,
            "bin_end": 1742.2,
            "count": 7
           },
           {
            "bin_start": 1742.2,
            "bin_end": 3451.4,
            "count": 0
           },
           {
            "bin_start": 3451.4,
            "bin_end": 5160.6,
            "count": 0
           },
           {
            "bin_start": 5160.6,
            "bin_end": 6869.8,
            "count": 0
           },
           {
            "bin_start": 6869.8,
            "bin_end": 8579,
            "count": 0
           },
           {
            "bin_start": 8579,
            "bin_end": 10288.2,
            "count": 0
           },
           {
            "bin_start": 10288.2,
            "bin_end": 11997.4,
            "count": 0
           },
           {
            "bin_start": 11997.4,
            "bin_end": 13706.6,
            "count": 0
           },
           {
            "bin_start": 13706.6,
            "bin_end": 15415.800000000001,
            "count": 0
           },
           {
            "bin_start": 15415.800000000001,
            "bin_end": 17125,
            "count": 1
           }
          ]
         }
        },
        {
         "name": "Crossing",
         "dtype": "float64",
         "stats": {
          "unique_count": 8,
          "nan_count": 0,
          "min": "6.0",
          "max": "17125.0",
          "histogram": [
           {
            "bin_start": 6,
            "bin_end": 1717.9,
            "count": 7
           },
           {
            "bin_start": 1717.9,
            "bin_end": 3429.8,
            "count": 0
           },
           {
            "bin_start": 3429.8,
            "bin_end": 5141.700000000001,
            "count": 0
           },
           {
            "bin_start": 5141.700000000001,
            "bin_end": 6853.6,
            "count": 0
           },
           {
            "bin_start": 6853.6,
            "bin_end": 8565.5,
            "count": 0
           },
           {
            "bin_start": 8565.5,
            "bin_end": 10277.400000000001,
            "count": 0
           },
           {
            "bin_start": 10277.400000000001,
            "bin_end": 11989.300000000001,
            "count": 0
           },
           {
            "bin_start": 11989.300000000001,
            "bin_end": 13701.2,
            "count": 0
           },
           {
            "bin_start": 13701.2,
            "bin_end": 15413.1,
            "count": 0
           },
           {
            "bin_start": 15413.1,
            "bin_end": 17125,
            "count": 1
           }
          ]
         }
        },
        {
         "name": "Finishing",
         "dtype": "float64",
         "stats": {
          "unique_count": 8,
          "nan_count": 0,
          "min": "3.0",
          "max": "17125.0",
          "histogram": [
           {
            "bin_start": 3,
            "bin_end": 1715.2,
            "count": 7
           },
           {
            "bin_start": 1715.2,
            "bin_end": 3427.4,
            "count": 0
           },
           {
            "bin_start": 3427.4,
            "bin_end": 5139.6,
            "count": 0
           },
           {
            "bin_start": 5139.6,
            "bin_end": 6851.8,
            "count": 0
           },
           {
            "bin_start": 6851.8,
            "bin_end": 8564,
            "count": 0
           },
           {
            "bin_start": 8564,
            "bin_end": 10276.2,
            "count": 0
           },
           {
            "bin_start": 10276.2,
            "bin_end": 11988.4,
            "count": 0
           },
           {
            "bin_start": 11988.4,
            "bin_end": 13700.6,
            "count": 0
           },
           {
            "bin_start": 13700.6,
            "bin_end": 15412.800000000001,
            "count": 0
           },
           {
            "bin_start": 15412.800000000001,
            "bin_end": 17125,
            "count": 1
           }
          ]
         }
        },
        {
         "name": "Heading Accuracy",
         "dtype": "float64",
         "stats": {
          "unique_count": 8,
          "nan_count": 0,
          "min": "5.0",
          "max": "17125.0",
          "histogram": [
           {
            "bin_start": 5,
            "bin_end": 1717,
            "count": 7
           },
           {
            "bin_start": 1717,
            "bin_end": 3429,
            "count": 0
           },
           {
            "bin_start": 3429,
            "bin_end": 5141,
            "count": 0
           },
           {
            "bin_start": 5141,
            "bin_end": 6853,
            "count": 0
           },
           {
            "bin_start": 6853,
            "bin_end": 8565,
            "count": 0
           },
           {
            "bin_start": 8565,
            "bin_end": 10277,
            "count": 0
           },
           {
            "bin_start": 10277,
            "bin_end": 11989,
            "count": 0
           },
           {
            "bin_start": 11989,
            "bin_end": 13701,
            "count": 0
           },
           {
            "bin_start": 13701,
            "bin_end": 15413,
            "count": 0
           },
           {
            "bin_start": 15413,
            "bin_end": 17125,
            "count": 1
           }
          ]
         }
        },
        {
         "name": "Short Passing",
         "dtype": "float64",
         "stats": {
          "unique_count": 8,
          "nan_count": 0,
          "min": "7.0",
          "max": "17125.0",
          "histogram": [
           {
            "bin_start": 7,
            "bin_end": 1718.8,
            "count": 7
           },
           {
            "bin_start": 1718.8,
            "bin_end": 3430.6,
            "count": 0
           },
           {
            "bin_start": 3430.6,
            "bin_end": 5142.4,
            "count": 0
           },
           {
            "bin_start": 5142.4,
            "bin_end": 6854.2,
            "count": 0
           },
           {
            "bin_start": 6854.2,
            "bin_end": 8566,
            "count": 0
           },
           {
            "bin_start": 8566,
            "bin_end": 10277.8,
            "count": 0
           },
           {
            "bin_start": 10277.8,
            "bin_end": 11989.6,
            "count": 0
           },
           {
            "bin_start": 11989.6,
            "bin_end": 13701.4,
            "count": 0
           },
           {
            "bin_start": 13701.4,
            "bin_end": 15413.199999999999,
            "count": 0
           },
           {
            "bin_start": 15413.199999999999,
            "bin_end": 17125,
            "count": 1
           }
          ]
         }
        },
        {
         "name": "Volleys",
         "dtype": "float64",
         "stats": {
          "unique_count": 8,
          "nan_count": 0,
          "min": "4.0",
          "max": "17067.0",
          "histogram": [
           {
            "bin_start": 4,
            "bin_end": 1710.3,
            "count": 7
           },
           {
            "bin_start": 1710.3,
            "bin_end": 3416.6,
            "count": 0
           },
           {
            "bin_start": 3416.6,
            "bin_end": 5122.9,
            "count": 0
           },
           {
            "bin_start": 5122.9,
            "bin_end": 6829.2,
            "count": 0
           },
           {
            "bin_start": 6829.2,
            "bin_end": 8535.5,
            "count": 0
           },
           {
            "bin_start": 8535.5,
            "bin_end": 10241.8,
            "count": 0
           },
           {
            "bin_start": 10241.8,
            "bin_end": 11948.1,
            "count": 0
           },
           {
            "bin_start": 11948.1,
            "bin_end": 13654.4,
            "count": 0
           },
           {
            "bin_start": 13654.4,
            "bin_end": 15360.699999999999,
            "count": 0
           },
           {
            "bin_start": 15360.699999999999,
            "bin_end": 17067,
            "count": 1
           }
          ]
         }
        },
        {
         "name": "Skill",
         "dtype": "float64",
         "stats": {
          "unique_count": 8,
          "nan_count": 0,
          "min": "43.0",
          "max": "17125.0",
          "histogram": [
           {
            "bin_start": 43,
            "bin_end": 1751.2,
            "count": 7
           },
           {
            "bin_start": 1751.2,
            "bin_end": 3459.4,
            "count": 0
           },
           {
            "bin_start": 3459.4,
            "bin_end": 5167.6,
            "count": 0
           },
           {
            "bin_start": 5167.6,
            "bin_end": 6875.8,
            "count": 0
           },
           {
            "bin_start": 6875.8,
            "bin_end": 8584,
            "count": 0
           },
           {
            "bin_start": 8584,
            "bin_end": 10292.2,
            "count": 0
           },
           {
            "bin_start": 10292.2,
            "bin_end": 12000.4,
            "count": 0
           },
           {
            "bin_start": 12000.4,
            "bin_end": 13708.6,
            "count": 0
           },
           {
            "bin_start": 13708.6,
            "bin_end": 15416.800000000001,
            "count": 0
           },
           {
            "bin_start": 15416.800000000001,
            "bin_end": 17125,
            "count": 1
           }
          ]
         }
        },
        {
         "name": "Dribbling",
         "dtype": "float64",
         "stats": {
          "unique_count": 8,
          "nan_count": 0,
          "min": "5.0",
          "max": "17125.0",
          "histogram": [
           {
            "bin_start": 5,
            "bin_end": 1717,
            "count": 7
           },
           {
            "bin_start": 1717,
            "bin_end": 3429,
            "count": 0
           },
           {
            "bin_start": 3429,
            "bin_end": 5141,
            "count": 0
           },
           {
            "bin_start": 5141,
            "bin_end": 6853,
            "count": 0
           },
           {
            "bin_start": 6853,
            "bin_end": 8565,
            "count": 0
           },
           {
            "bin_start": 8565,
            "bin_end": 10277,
            "count": 0
           },
           {
            "bin_start": 10277,
            "bin_end": 11989,
            "count": 0
           },
           {
            "bin_start": 11989,
            "bin_end": 13701,
            "count": 0
           },
           {
            "bin_start": 13701,
            "bin_end": 15413,
            "count": 0
           },
           {
            "bin_start": 15413,
            "bin_end": 17125,
            "count": 1
           }
          ]
         }
        },
        {
         "name": "Curve",
         "dtype": "float64",
         "stats": {
          "unique_count": 8,
          "nan_count": 0,
          "min": "4.0",
          "max": "17067.0",
          "histogram": [
           {
            "bin_start": 4,
            "bin_end": 1710.3,
            "count": 7
           },
           {
            "bin_start": 1710.3,
            "bin_end": 3416.6,
            "count": 0
           },
           {
            "bin_start": 3416.6,
            "bin_end": 5122.9,
            "count": 0
           },
           {
            "bin_start": 5122.9,
            "bin_end": 6829.2,
            "count": 0
           },
           {
            "bin_start": 6829.2,
            "bin_end": 8535.5,
            "count": 0
           },
           {
            "bin_start": 8535.5,
            "bin_end": 10241.8,
            "count": 0
           },
           {
            "bin_start": 10241.8,
            "bin_end": 11948.1,
            "count": 0
           },
           {
            "bin_start": 11948.1,
            "bin_end": 13654.4,
            "count": 0
           },
           {
            "bin_start": 13654.4,
            "bin_end": 15360.699999999999,
            "count": 0
           },
           {
            "bin_start": 15360.699999999999,
            "bin_end": 17067,
            "count": 1
           }
          ]
         }
        },
        {
         "name": "FK Accuracy",
         "dtype": "float64",
         "stats": {
          "unique_count": 8,
          "nan_count": 0,
          "min": "5.0",
          "max": "17125.0",
          "histogram": [
           {
            "bin_start": 5,
            "bin_end": 1717,
            "count": 7
           },
           {
            "bin_start": 1717,
            "bin_end": 3429,
            "count": 0
           },
           {
            "bin_start": 3429,
            "bin_end": 5141,
            "count": 0
           },
           {
            "bin_start": 5141,
            "bin_end": 6853,
            "count": 0
           },
           {
            "bin_start": 6853,
            "bin_end": 8565,
            "count": 0
           },
           {
            "bin_start": 8565,
            "bin_end": 10277,
            "count": 0
           },
           {
            "bin_start": 10277,
            "bin_end": 11989,
            "count": 0
           },
           {
            "bin_start": 11989,
            "bin_end": 13701,
            "count": 0
           },
           {
            "bin_start": 13701,
            "bin_end": 15413,
            "count": 0
           },
           {
            "bin_start": 15413,
            "bin_end": 17125,
            "count": 1
           }
          ]
         }
        },
        {
         "name": "Long Passing",
         "dtype": "float64",
         "stats": {
          "unique_count": 8,
          "nan_count": 0,
          "min": "9.0",
          "max": "17125.0",
          "histogram": [
           {
            "bin_start": 9,
            "bin_end": 1720.6,
            "count": 7
           },
           {
            "bin_start": 1720.6,
            "bin_end": 3432.2,
            "count": 0
           },
           {
            "bin_start": 3432.2,
            "bin_end": 5143.799999999999,
            "count": 0
           },
           {
            "bin_start": 5143.799999999999,
            "bin_end": 6855.4,
            "count": 0
           },
           {
            "bin_start": 6855.4,
            "bin_end": 8567,
            "count": 0
           },
           {
            "bin_start": 8567,
            "bin_end": 10278.599999999999,
            "count": 0
           },
           {
            "bin_start": 10278.599999999999,
            "bin_end": 11990.199999999999,
            "count": 0
           },
           {
            "bin_start": 11990.199999999999,
            "bin_end": 13701.8,
            "count": 0
           },
           {
            "bin_start": 13701.8,
            "bin_end": 15413.4,
            "count": 0
           },
           {
            "bin_start": 15413.4,
            "bin_end": 17125,
            "count": 1
           }
          ]
         }
        },
        {
         "name": "Ball Control",
         "dtype": "float64",
         "stats": {
          "unique_count": 8,
          "nan_count": 0,
          "min": "5.0",
          "max": "17125.0",
          "histogram": [
           {
            "bin_start": 5,
            "bin_end": 1717,
            "count": 7
           },
           {
            "bin_start": 1717,
            "bin_end": 3429,
            "count": 0
           },
           {
            "bin_start": 3429,
            "bin_end": 5141,
            "count": 0
           },
           {
            "bin_start": 5141,
            "bin_end": 6853,
            "count": 0
           },
           {
            "bin_start": 6853,
            "bin_end": 8565,
            "count": 0
           },
           {
            "bin_start": 8565,
            "bin_end": 10277,
            "count": 0
           },
           {
            "bin_start": 10277,
            "bin_end": 11989,
            "count": 0
           },
           {
            "bin_start": 11989,
            "bin_end": 13701,
            "count": 0
           },
           {
            "bin_start": 13701,
            "bin_end": 15413,
            "count": 0
           },
           {
            "bin_start": 15413,
            "bin_end": 17125,
            "count": 1
           }
          ]
         }
        },
        {
         "name": "Movement",
         "dtype": "float64",
         "stats": {
          "unique_count": 8,
          "nan_count": 0,
          "min": "54.93359317492558",
          "max": "17125.0",
          "histogram": [
           {
            "bin_start": 54.93359317492558,
            "bin_end": 1761.940233857433,
            "count": 7
           },
           {
            "bin_start": 1761.940233857433,
            "bin_end": 3468.9468745399404,
            "count": 0
           },
           {
            "bin_start": 3468.9468745399404,
            "bin_end": 5175.953515222448,
            "count": 0
           },
           {
            "bin_start": 5175.953515222448,
            "bin_end": 6882.960155904955,
            "count": 0
           },
           {
            "bin_start": 6882.960155904955,
            "bin_end": 8589.966796587461,
            "count": 0
           },
           {
            "bin_start": 8589.966796587461,
            "bin_end": 10296.97343726997,
            "count": 0
           },
           {
            "bin_start": 10296.97343726997,
            "bin_end": 12003.980077952476,
            "count": 0
           },
           {
            "bin_start": 12003.980077952476,
            "bin_end": 13710.986718634984,
            "count": 0
           },
           {
            "bin_start": 13710.986718634984,
            "bin_end": 15417.993359317492,
            "count": 0
           },
           {
            "bin_start": 15417.993359317492,
            "bin_end": 17125,
            "count": 1
           }
          ]
         }
        },
        {
         "name": "Acceleration",
         "dtype": "float64",
         "stats": {
          "unique_count": 8,
          "nan_count": 0,
          "min": "12.0",
          "max": "17125.0",
          "histogram": [
           {
            "bin_start": 12,
            "bin_end": 1723.3,
            "count": 7
           },
           {
            "bin_start": 1723.3,
            "bin_end": 3434.6,
            "count": 0
           },
           {
            "bin_start": 3434.6,
            "bin_end": 5145.9,
            "count": 0
           },
           {
            "bin_start": 5145.9,
            "bin_end": 6857.2,
            "count": 0
           },
           {
            "bin_start": 6857.2,
            "bin_end": 8568.5,
            "count": 0
           },
           {
            "bin_start": 8568.5,
            "bin_end": 10279.8,
            "count": 0
           },
           {
            "bin_start": 10279.8,
            "bin_end": 11991.1,
            "count": 0
           },
           {
            "bin_start": 11991.1,
            "bin_end": 13702.4,
            "count": 0
           },
           {
            "bin_start": 13702.4,
            "bin_end": 15413.699999999999,
            "count": 0
           },
           {
            "bin_start": 15413.699999999999,
            "bin_end": 17125,
            "count": 1
           }
          ]
         }
        },
        {
         "name": "Sprint Speed",
         "dtype": "float64",
         "stats": {
          "unique_count": 8,
          "nan_count": 0,
          "min": "11.0",
          "max": "17125.0",
          "histogram": [
           {
            "bin_start": 11,
            "bin_end": 1722.4,
            "count": 7
           },
           {
            "bin_start": 1722.4,
            "bin_end": 3433.8,
            "count": 0
           },
           {
            "bin_start": 3433.8,
            "bin_end": 5145.200000000001,
            "count": 0
           },
           {
            "bin_start": 5145.200000000001,
            "bin_end": 6856.6,
            "count": 0
           },
           {
            "bin_start": 6856.6,
            "bin_end": 8568,
            "count": 0
           },
           {
            "bin_start": 8568,
            "bin_end": 10279.400000000001,
            "count": 0
           },
           {
            "bin_start": 10279.400000000001,
            "bin_end": 11990.800000000001,
            "count": 0
           },
           {
            "bin_start": 11990.800000000001,
            "bin_end": 13702.2,
            "count": 0
           },
           {
            "bin_start": 13702.2,
            "bin_end": 15413.6,
            "count": 0
           },
           {
            "bin_start": 15413.6,
            "bin_end": 17125,
            "count": 1
           }
          ]
         }
        },
        {
         "name": "Agility",
         "dtype": "float64",
         "stats": {
          "unique_count": 8,
          "nan_count": 0,
          "min": "14.0",
          "max": "17067.0",
          "histogram": [
           {
            "bin_start": 14,
            "bin_end": 1719.3,
            "count": 7
           },
           {
            "bin_start": 1719.3,
            "bin_end": 3424.6,
            "count": 0
           },
           {
            "bin_start": 3424.6,
            "bin_end": 5129.9,
            "count": 0
           },
           {
            "bin_start": 5129.9,
            "bin_end": 6835.2,
            "count": 0
           },
           {
            "bin_start": 6835.2,
            "bin_end": 8540.5,
            "count": 0
           },
           {
            "bin_start": 8540.5,
            "bin_end": 10245.8,
            "count": 0
           },
           {
            "bin_start": 10245.8,
            "bin_end": 11951.1,
            "count": 0
           },
           {
            "bin_start": 11951.1,
            "bin_end": 13656.4,
            "count": 0
           },
           {
            "bin_start": 13656.4,
            "bin_end": 15361.699999999999,
            "count": 0
           },
           {
            "bin_start": 15361.699999999999,
            "bin_end": 17067,
            "count": 1
           }
          ]
         }
        },
        {
         "name": "Reactions",
         "dtype": "float64",
         "stats": {
          "unique_count": 8,
          "nan_count": 0,
          "min": "9.037278674851088",
          "max": "17125.0",
          "histogram": [
           {
            "bin_start": 9.037278674851088,
            "bin_end": 1720.6335508073657,
            "count": 7
           },
           {
            "bin_start": 1720.6335508073657,
            "bin_end": 3432.2298229398807,
            "count": 0
           },
           {
            "bin_start": 3432.2298229398807,
            "bin_end": 5143.826095072395,
            "count": 0
           },
           {
            "bin_start": 5143.826095072395,
            "bin_end": 6855.42236720491,
            "count": 0
           },
           {
            "bin_start": 6855.42236720491,
            "bin_end": 8567.018639337424,
            "count": 0
           },
           {
            "bin_start": 8567.018639337424,
            "bin_end": 10278.614911469938,
            "count": 0
           },
           {
            "bin_start": 10278.614911469938,
            "bin_end": 11990.211183602454,
            "count": 0
           },
           {
            "bin_start": 11990.211183602454,
            "bin_end": 13701.807455734968,
            "count": 0
           },
           {
            "bin_start": 13701.807455734968,
            "bin_end": 15413.403727867482,
            "count": 0
           },
           {
            "bin_start": 15413.403727867482,
            "bin_end": 17125,
            "count": 1
           }
          ]
         }
        },
        {
         "name": "Balance",
         "dtype": "float64",
         "stats": {
          "unique_count": 8,
          "nan_count": 0,
          "min": "14.031563340634941",
          "max": "17067.0",
          "histogram": [
           {
            "bin_start": 14.031563340634941,
            "bin_end": 1719.3284070065713,
            "count": 7
           },
           {
            "bin_start": 1719.3284070065713,
            "bin_end": 3424.6252506725077,
            "count": 0
           },
           {
            "bin_start": 3424.6252506725077,
            "bin_end": 5129.922094338444,
            "count": 0
           },
           {
            "bin_start": 5129.922094338444,
            "bin_end": 6835.218938004381,
            "count": 0
           },
           {
            "bin_start": 6835.218938004381,
            "bin_end": 8540.515781670318,
            "count": 0
           },
           {
            "bin_start": 8540.515781670318,
            "bin_end": 10245.812625336253,
            "count": 0
           },
           {
            "bin_start": 10245.812625336253,
            "bin_end": 11951.109469002191,
            "count": 0
           },
           {
            "bin_start": 11951.109469002191,
            "bin_end": 13656.406312668127,
            "count": 0
           },
           {
            "bin_start": 13656.406312668127,
            "bin_end": 15361.703156334062,
            "count": 0
           },
           {
            "bin_start": 15361.703156334062,
            "bin_end": 17067,
            "count": 1
           }
          ]
         }
        },
        {
         "name": "Power",
         "dtype": "float64",
         "stats": {
          "unique_count": 8,
          "nan_count": 0,
          "min": "49.3805761650987",
          "max": "17125.0",
          "histogram": [
           {
            "bin_start": 49.3805761650987,
            "bin_end": 1756.9425185485889,
            "count": 7
           },
           {
            "bin_start": 1756.9425185485889,
            "bin_end": 3464.504460932079,
            "count": 0
           },
           {
            "bin_start": 3464.504460932079,
            "bin_end": 5172.066403315568,
            "count": 0
           },
           {
            "bin_start": 5172.066403315568,
            "bin_end": 6879.628345699059,
            "count": 0
           },
           {
            "bin_start": 6879.628345699059,
            "bin_end": 8587.19028808255,
            "count": 0
           },
           {
            "bin_start": 8587.19028808255,
            "bin_end": 10294.752230466038,
            "count": 0
           },
           {
            "bin_start": 10294.752230466038,
            "bin_end": 12002.314172849528,
            "count": 0
           },
           {
            "bin_start": 12002.314172849528,
            "bin_end": 13709.876115233019,
            "count": 0
           },
           {
            "bin_start": 13709.876115233019,
            "bin_end": 15417.43805761651,
            "count": 0
           },
           {
            "bin_start": 15417.43805761651,
            "bin_end": 17125,
            "count": 1
           }
          ]
         }
        },
        {
         "name": "Shot Power",
         "dtype": "float64",
         "stats": {
          "unique_count": 8,
          "nan_count": 0,
          "min": "12.0",
          "max": "17125.0",
          "histogram": [
           {
            "bin_start": 12,
            "bin_end": 1723.3,
            "count": 7
           },
           {
            "bin_start": 1723.3,
            "bin_end": 3434.6,
            "count": 0
           },
           {
            "bin_start": 3434.6,
            "bin_end": 5145.9,
            "count": 0
           },
           {
            "bin_start": 5145.9,
            "bin_end": 6857.2,
            "count": 0
           },
           {
            "bin_start": 6857.2,
            "bin_end": 8568.5,
            "count": 0
           },
           {
            "bin_start": 8568.5,
            "bin_end": 10279.8,
            "count": 0
           },
           {
            "bin_start": 10279.8,
            "bin_end": 11991.1,
            "count": 0
           },
           {
            "bin_start": 11991.1,
            "bin_end": 13702.4,
            "count": 0
           },
           {
            "bin_start": 13702.4,
            "bin_end": 15413.699999999999,
            "count": 0
           },
           {
            "bin_start": 15413.699999999999,
            "bin_end": 17125,
            "count": 1
           }
          ]
         }
        },
        {
         "name": "Jumping",
         "dtype": "float64",
         "stats": {
          "unique_count": 8,
          "nan_count": 0,
          "min": "11.918063108701991",
          "max": "17067.0",
          "histogram": [
           {
            "bin_start": 11.918063108701991,
            "bin_end": 1717.4262567978317,
            "count": 7
           },
           {
            "bin_start": 1717.4262567978317,
            "bin_end": 3422.9344504869614,
            "count": 0
           },
           {
            "bin_start": 3422.9344504869614,
            "bin_end": 5128.442644176092,
            "count": 0
           },
           {
            "bin_start": 5128.442644176092,
            "bin_end": 6833.950837865221,
            "count": 0
           },
           {
            "bin_start": 6833.950837865221,
            "bin_end": 8539.45903155435,
            "count": 0
           },
           {
            "bin_start": 8539.45903155435,
            "bin_end": 10244.967225243481,
            "count": 0
           },
           {
            "bin_start": 10244.967225243481,
            "bin_end": 11950.47541893261,
            "count": 0
           },
           {
            "bin_start": 11950.47541893261,
            "bin_end": 13655.98361262174,
            "count": 0
           },
           {
            "bin_start": 13655.98361262174,
            "bin_end": 15361.491806310869,
            "count": 0
           },
           {
            "bin_start": 15361.491806310869,
            "bin_end": 17067,
            "count": 1
           }
          ]
         }
        },
        {
         "name": "Stamina",
         "dtype": "float64",
         "stats": {
          "unique_count": 8,
          "nan_count": 0,
          "min": "11.0",
          "max": "17125.0",
          "histogram": [
           {
            "bin_start": 11,
            "bin_end": 1722.4,
            "count": 7
           },
           {
            "bin_start": 1722.4,
            "bin_end": 3433.8,
            "count": 0
           },
           {
            "bin_start": 3433.8,
            "bin_end": 5145.200000000001,
            "count": 0
           },
           {
            "bin_start": 5145.200000000001,
            "bin_end": 6856.6,
            "count": 0
           },
           {
            "bin_start": 6856.6,
            "bin_end": 8568,
            "count": 0
           },
           {
            "bin_start": 8568,
            "bin_end": 10279.400000000001,
            "count": 0
           },
           {
            "bin_start": 10279.400000000001,
            "bin_end": 11990.800000000001,
            "count": 0
           },
           {
            "bin_start": 11990.800000000001,
            "bin_end": 13702.2,
            "count": 0
           },
           {
            "bin_start": 13702.2,
            "bin_end": 15413.6,
            "count": 0
           },
           {
            "bin_start": 15413.6,
            "bin_end": 17125,
            "count": 1
           }
          ]
         }
        },
        {
         "name": "Strength",
         "dtype": "float64",
         "stats": {
          "unique_count": 8,
          "nan_count": 0,
          "min": "12.627212054736464",
          "max": "17125.0",
          "histogram": [
           {
            "bin_start": 12.627212054736464,
            "bin_end": 1723.864490849263,
            "count": 7
           },
           {
            "bin_start": 1723.864490849263,
            "bin_end": 3435.1017696437893,
            "count": 0
           },
           {
            "bin_start": 3435.1017696437893,
            "bin_end": 5146.339048438316,
            "count": 0
           },
           {
            "bin_start": 5146.339048438316,
            "bin_end": 6857.576327232842,
            "count": 0
           },
           {
            "bin_start": 6857.576327232842,
            "bin_end": 8568.813606027368,
            "count": 0
           },
           {
            "bin_start": 8568.813606027368,
            "bin_end": 10280.050884821896,
            "count": 0
           },
           {
            "bin_start": 10280.050884821896,
            "bin_end": 11991.288163616422,
            "count": 0
           },
           {
            "bin_start": 11991.288163616422,
            "bin_end": 13702.525442410948,
            "count": 0
           },
           {
            "bin_start": 13702.525442410948,
            "bin_end": 15413.762721205474,
            "count": 0
           },
           {
            "bin_start": 15413.762721205474,
            "bin_end": 17125,
            "count": 1
           }
          ]
         }
        },
        {
         "name": "Long Shots",
         "dtype": "float64",
         "stats": {
          "unique_count": 8,
          "nan_count": 0,
          "min": "4.0",
          "max": "17125.0",
          "histogram": [
           {
            "bin_start": 4,
            "bin_end": 1716.1,
            "count": 7
           },
           {
            "bin_start": 1716.1,
            "bin_end": 3428.2,
            "count": 0
           },
           {
            "bin_start": 3428.2,
            "bin_end": 5140.299999999999,
            "count": 0
           },
           {
            "bin_start": 5140.299999999999,
            "bin_end": 6852.4,
            "count": 0
           },
           {
            "bin_start": 6852.4,
            "bin_end": 8564.5,
            "count": 0
           },
           {
            "bin_start": 8564.5,
            "bin_end": 10276.599999999999,
            "count": 0
           },
           {
            "bin_start": 10276.599999999999,
            "bin_end": 11988.699999999999,
            "count": 0
           },
           {
            "bin_start": 11988.699999999999,
            "bin_end": 13700.8,
            "count": 0
           },
           {
            "bin_start": 13700.8,
            "bin_end": 15412.9,
            "count": 0
           },
           {
            "bin_start": 15412.9,
            "bin_end": 17125,
            "count": 1
           }
          ]
         }
        },
        {
         "name": "Mentality",
         "dtype": "float64",
         "stats": {
          "unique_count": 8,
          "nan_count": 0,
          "min": "50.0",
          "max": "17125.0",
          "histogram": [
           {
            "bin_start": 50,
            "bin_end": 1757.5,
            "count": 7
           },
           {
            "bin_start": 1757.5,
            "bin_end": 3465,
            "count": 0
           },
           {
            "bin_start": 3465,
            "bin_end": 5172.5,
            "count": 0
           },
           {
            "bin_start": 5172.5,
            "bin_end": 6880,
            "count": 0
           },
           {
            "bin_start": 6880,
            "bin_end": 8587.5,
            "count": 0
           },
           {
            "bin_start": 8587.5,
            "bin_end": 10295,
            "count": 0
           },
           {
            "bin_start": 10295,
            "bin_end": 12002.5,
            "count": 0
           },
           {
            "bin_start": 12002.5,
            "bin_end": 13710,
            "count": 0
           },
           {
            "bin_start": 13710,
            "bin_end": 15417.5,
            "count": 0
           },
           {
            "bin_start": 15417.5,
            "bin_end": 17125,
            "count": 1
           }
          ]
         }
        },
        {
         "name": "Aggression",
         "dtype": "float64",
         "stats": {
          "unique_count": 8,
          "nan_count": 0,
          "min": "9.0",
          "max": "17125.0",
          "histogram": [
           {
            "bin_start": 9,
            "bin_end": 1720.6,
            "count": 7
           },
           {
            "bin_start": 1720.6,
            "bin_end": 3432.2,
            "count": 0
           },
           {
            "bin_start": 3432.2,
            "bin_end": 5143.799999999999,
            "count": 0
           },
           {
            "bin_start": 5143.799999999999,
            "bin_end": 6855.4,
            "count": 0
           },
           {
            "bin_start": 6855.4,
            "bin_end": 8567,
            "count": 0
           },
           {
            "bin_start": 8567,
            "bin_end": 10278.599999999999,
            "count": 0
           },
           {
            "bin_start": 10278.599999999999,
            "bin_end": 11990.199999999999,
            "count": 0
           },
           {
            "bin_start": 11990.199999999999,
            "bin_end": 13701.8,
            "count": 0
           },
           {
            "bin_start": 13701.8,
            "bin_end": 15413.4,
            "count": 0
           },
           {
            "bin_start": 15413.4,
            "bin_end": 17125,
            "count": 1
           }
          ]
         }
        },
        {
         "name": "Interceptions",
         "dtype": "float64",
         "stats": {
          "unique_count": 8,
          "nan_count": 0,
          "min": "4.0",
          "max": "17118.0",
          "histogram": [
           {
            "bin_start": 4,
            "bin_end": 1715.4,
            "count": 7
           },
           {
            "bin_start": 1715.4,
            "bin_end": 3426.8,
            "count": 0
           },
           {
            "bin_start": 3426.8,
            "bin_end": 5138.200000000001,
            "count": 0
           },
           {
            "bin_start": 5138.200000000001,
            "bin_end": 6849.6,
            "count": 0
           },
           {
            "bin_start": 6849.6,
            "bin_end": 8561,
            "count": 0
           },
           {
            "bin_start": 8561,
            "bin_end": 10272.400000000001,
            "count": 0
           },
           {
            "bin_start": 10272.400000000001,
            "bin_end": 11983.800000000001,
            "count": 0
           },
           {
            "bin_start": 11983.800000000001,
            "bin_end": 13695.2,
            "count": 0
           },
           {
            "bin_start": 13695.2,
            "bin_end": 15406.6,
            "count": 0
           },
           {
            "bin_start": 15406.6,
            "bin_end": 17118,
            "count": 1
           }
          ]
         }
        },
        {
         "name": "Positioning",
         "dtype": "float64",
         "stats": {
          "unique_count": 8,
          "nan_count": 0,
          "min": "2.0",
          "max": "17118.0",
          "histogram": [
           {
            "bin_start": 2,
            "bin_end": 1713.6,
            "count": 7
           },
           {
            "bin_start": 1713.6,
            "bin_end": 3425.2,
            "count": 0
           },
           {
            "bin_start": 3425.2,
            "bin_end": 5136.799999999999,
            "count": 0
           },
           {
            "bin_start": 5136.799999999999,
            "bin_end": 6848.4,
            "count": 0
           },
           {
            "bin_start": 6848.4,
            "bin_end": 8560,
            "count": 0
           },
           {
            "bin_start": 8560,
            "bin_end": 10271.599999999999,
            "count": 0
           },
           {
            "bin_start": 10271.599999999999,
            "bin_end": 11983.199999999999,
            "count": 0
           },
           {
            "bin_start": 11983.199999999999,
            "bin_end": 13694.8,
            "count": 0
           },
           {
            "bin_start": 13694.8,
            "bin_end": 15406.4,
            "count": 0
           },
           {
            "bin_start": 15406.4,
            "bin_end": 17118,
            "count": 1
           }
          ]
         }
        },
        {
         "name": "Vision",
         "dtype": "float64",
         "stats": {
          "unique_count": 8,
          "nan_count": 0,
          "min": "10.0",
          "max": "17067.0",
          "histogram": [
           {
            "bin_start": 10,
            "bin_end": 1715.7,
            "count": 7
           },
           {
            "bin_start": 1715.7,
            "bin_end": 3421.4,
            "count": 0
           },
           {
            "bin_start": 3421.4,
            "bin_end": 5127.1,
            "count": 0
           },
           {
            "bin_start": 5127.1,
            "bin_end": 6832.8,
            "count": 0
           },
           {
            "bin_start": 6832.8,
            "bin_end": 8538.5,
            "count": 0
           },
           {
            "bin_start": 8538.5,
            "bin_end": 10244.2,
            "count": 0
           },
           {
            "bin_start": 10244.2,
            "bin_end": 11949.9,
            "count": 0
           },
           {
            "bin_start": 11949.9,
            "bin_end": 13655.6,
            "count": 0
           },
           {
            "bin_start": 13655.6,
            "bin_end": 15361.300000000001,
            "count": 0
           },
           {
            "bin_start": 15361.300000000001,
            "bin_end": 17067,
            "count": 1
           }
          ]
         }
        },
        {
         "name": "Penalties",
         "dtype": "float64",
         "stats": {
          "unique_count": 8,
          "nan_count": 0,
          "min": "7.0",
          "max": "17125.0",
          "histogram": [
           {
            "bin_start": 7,
            "bin_end": 1718.8,
            "count": 7
           },
           {
            "bin_start": 1718.8,
            "bin_end": 3430.6,
            "count": 0
           },
           {
            "bin_start": 3430.6,
            "bin_end": 5142.4,
            "count": 0
           },
           {
            "bin_start": 5142.4,
            "bin_end": 6854.2,
            "count": 0
           },
           {
            "bin_start": 6854.2,
            "bin_end": 8566,
            "count": 0
           },
           {
            "bin_start": 8566,
            "bin_end": 10277.8,
            "count": 0
           },
           {
            "bin_start": 10277.8,
            "bin_end": 11989.6,
            "count": 0
           },
           {
            "bin_start": 11989.6,
            "bin_end": 13701.4,
            "count": 0
           },
           {
            "bin_start": 13701.4,
            "bin_end": 15413.199999999999,
            "count": 0
           },
           {
            "bin_start": 15413.199999999999,
            "bin_end": 17125,
            "count": 1
           }
          ]
         }
        },
        {
         "name": "Composure",
         "dtype": "float64",
         "stats": {
          "unique_count": 8,
          "nan_count": 0,
          "min": "11.751110797378278",
          "max": "16702.0",
          "histogram": [
           {
            "bin_start": 11.751110797378278,
            "bin_end": 1680.7759997176406,
            "count": 7
           },
           {
            "bin_start": 1680.7759997176406,
            "bin_end": 3349.800888637903,
            "count": 0
           },
           {
            "bin_start": 3349.800888637903,
            "bin_end": 5018.825777558166,
            "count": 0
           },
           {
            "bin_start": 5018.825777558166,
            "bin_end": 6687.850666478428,
            "count": 0
           },
           {
            "bin_start": 6687.850666478428,
            "bin_end": 8356.87555539869,
            "count": 0
           },
           {
            "bin_start": 8356.87555539869,
            "bin_end": 10025.900444318953,
            "count": 0
           },
           {
            "bin_start": 10025.900444318953,
            "bin_end": 11694.925333239215,
            "count": 0
           },
           {
            "bin_start": 11694.925333239215,
            "bin_end": 13363.950222159478,
            "count": 0
           },
           {
            "bin_start": 13363.950222159478,
            "bin_end": 15032.97511107974,
            "count": 0
           },
           {
            "bin_start": 15032.97511107974,
            "bin_end": 16702,
            "count": 1
           }
          ]
         }
        },
        {
         "name": "Defending",
         "dtype": "float64",
         "stats": {
          "unique_count": 8,
          "nan_count": 0,
          "min": "17.0",
          "max": "17125.0",
          "histogram": [
           {
            "bin_start": 17,
            "bin_end": 1727.8,
            "count": 7
           },
           {
            "bin_start": 1727.8,
            "bin_end": 3438.6,
            "count": 0
           },
           {
            "bin_start": 3438.6,
            "bin_end": 5149.4,
            "count": 0
           },
           {
            "bin_start": 5149.4,
            "bin_end": 6860.2,
            "count": 0
           },
           {
            "bin_start": 6860.2,
            "bin_end": 8571,
            "count": 0
           },
           {
            "bin_start": 8571,
            "bin_end": 10281.8,
            "count": 0
           },
           {
            "bin_start": 10281.8,
            "bin_end": 11992.6,
            "count": 0
           },
           {
            "bin_start": 11992.6,
            "bin_end": 13703.4,
            "count": 0
           },
           {
            "bin_start": 13703.4,
            "bin_end": 15414.199999999999,
            "count": 0
           },
           {
            "bin_start": 15414.199999999999,
            "bin_end": 17125,
            "count": 1
           }
          ]
         }
        },
        {
         "name": "Marking",
         "dtype": "float64",
         "stats": {
          "unique_count": 8,
          "nan_count": 0,
          "min": "3.0",
          "max": "17125.0",
          "histogram": [
           {
            "bin_start": 3,
            "bin_end": 1715.2,
            "count": 7
           },
           {
            "bin_start": 1715.2,
            "bin_end": 3427.4,
            "count": 0
           },
           {
            "bin_start": 3427.4,
            "bin_end": 5139.6,
            "count": 0
           },
           {
            "bin_start": 5139.6,
            "bin_end": 6851.8,
            "count": 0
           },
           {
            "bin_start": 6851.8,
            "bin_end": 8564,
            "count": 0
           },
           {
            "bin_start": 8564,
            "bin_end": 10276.2,
            "count": 0
           },
           {
            "bin_start": 10276.2,
            "bin_end": 11988.4,
            "count": 0
           },
           {
            "bin_start": 11988.4,
            "bin_end": 13700.6,
            "count": 0
           },
           {
            "bin_start": 13700.6,
            "bin_end": 15412.800000000001,
            "count": 0
           },
           {
            "bin_start": 15412.800000000001,
            "bin_end": 17125,
            "count": 1
           }
          ]
         }
        },
        {
         "name": "Standing Tackle",
         "dtype": "float64",
         "stats": {
          "unique_count": 8,
          "nan_count": 0,
          "min": "5.0",
          "max": "17125.0",
          "histogram": [
           {
            "bin_start": 5,
            "bin_end": 1717,
            "count": 7
           },
           {
            "bin_start": 1717,
            "bin_end": 3429,
            "count": 0
           },
           {
            "bin_start": 3429,
            "bin_end": 5141,
            "count": 0
           },
           {
            "bin_start": 5141,
            "bin_end": 6853,
            "count": 0
           },
           {
            "bin_start": 6853,
            "bin_end": 8565,
            "count": 0
           },
           {
            "bin_start": 8565,
            "bin_end": 10277,
            "count": 0
           },
           {
            "bin_start": 10277,
            "bin_end": 11989,
            "count": 0
           },
           {
            "bin_start": 11989,
            "bin_end": 13701,
            "count": 0
           },
           {
            "bin_start": 13701,
            "bin_end": 15413,
            "count": 0
           },
           {
            "bin_start": 15413,
            "bin_end": 17125,
            "count": 1
           }
          ]
         }
        },
        {
         "name": "Sliding Tackle",
         "dtype": "float64",
         "stats": {
          "unique_count": 8,
          "nan_count": 0,
          "min": "6.0",
          "max": "17067.0",
          "histogram": [
           {
            "bin_start": 6,
            "bin_end": 1712.1,
            "count": 7
           },
           {
            "bin_start": 1712.1,
            "bin_end": 3418.2,
            "count": 0
           },
           {
            "bin_start": 3418.2,
            "bin_end": 5124.299999999999,
            "count": 0
           },
           {
            "bin_start": 5124.299999999999,
            "bin_end": 6830.4,
            "count": 0
           },
           {
            "bin_start": 6830.4,
            "bin_end": 8536.5,
            "count": 0
           },
           {
            "bin_start": 8536.5,
            "bin_end": 10242.599999999999,
            "count": 0
           },
           {
            "bin_start": 10242.599999999999,
            "bin_end": 11948.699999999999,
            "count": 0
           },
           {
            "bin_start": 11948.699999999999,
            "bin_end": 13654.8,
            "count": 0
           },
           {
            "bin_start": 13654.8,
            "bin_end": 15360.9,
            "count": 0
           },
           {
            "bin_start": 15360.9,
            "bin_end": 17067,
            "count": 1
           }
          ]
         }
        },
        {
         "name": "Goalkeeping",
         "dtype": "float64",
         "stats": {
          "unique_count": 8,
          "nan_count": 0,
          "min": "5.0",
          "max": "17125.0",
          "histogram": [
           {
            "bin_start": 5,
            "bin_end": 1717,
            "count": 7
           },
           {
            "bin_start": 1717,
            "bin_end": 3429,
            "count": 0
           },
           {
            "bin_start": 3429,
            "bin_end": 5141,
            "count": 0
           },
           {
            "bin_start": 5141,
            "bin_end": 6853,
            "count": 0
           },
           {
            "bin_start": 6853,
            "bin_end": 8565,
            "count": 0
           },
           {
            "bin_start": 8565,
            "bin_end": 10277,
            "count": 0
           },
           {
            "bin_start": 10277,
            "bin_end": 11989,
            "count": 0
           },
           {
            "bin_start": 11989,
            "bin_end": 13701,
            "count": 0
           },
           {
            "bin_start": 13701,
            "bin_end": 15413,
            "count": 0
           },
           {
            "bin_start": 15413,
            "bin_end": 17125,
            "count": 1
           }
          ]
         }
        },
        {
         "name": "GK Diving",
         "dtype": "float64",
         "stats": {
          "unique_count": 8,
          "nan_count": 0,
          "min": "1.0",
          "max": "17125.0",
          "histogram": [
           {
            "bin_start": 1,
            "bin_end": 1713.4,
            "count": 7
           },
           {
            "bin_start": 1713.4,
            "bin_end": 3425.8,
            "count": 0
           },
           {
            "bin_start": 3425.8,
            "bin_end": 5138.200000000001,
            "count": 0
           },
           {
            "bin_start": 5138.200000000001,
            "bin_end": 6850.6,
            "count": 0
           },
           {
            "bin_start": 6850.6,
            "bin_end": 8563,
            "count": 0
           },
           {
            "bin_start": 8563,
            "bin_end": 10275.400000000001,
            "count": 0
           },
           {
            "bin_start": 10275.400000000001,
            "bin_end": 11987.800000000001,
            "count": 0
           },
           {
            "bin_start": 11987.800000000001,
            "bin_end": 13700.2,
            "count": 0
           },
           {
            "bin_start": 13700.2,
            "bin_end": 15412.6,
            "count": 0
           },
           {
            "bin_start": 15412.6,
            "bin_end": 17125,
            "count": 1
           }
          ]
         }
        },
        {
         "name": "GK Handling",
         "dtype": "float64",
         "stats": {
          "unique_count": 8,
          "nan_count": 0,
          "min": "1.0",
          "max": "17125.0",
          "histogram": [
           {
            "bin_start": 1,
            "bin_end": 1713.4,
            "count": 7
           },
           {
            "bin_start": 1713.4,
            "bin_end": 3425.8,
            "count": 0
           },
           {
            "bin_start": 3425.8,
            "bin_end": 5138.200000000001,
            "count": 0
           },
           {
            "bin_start": 5138.200000000001,
            "bin_end": 6850.6,
            "count": 0
           },
           {
            "bin_start": 6850.6,
            "bin_end": 8563,
            "count": 0
           },
           {
            "bin_start": 8563,
            "bin_end": 10275.400000000001,
            "count": 0
           },
           {
            "bin_start": 10275.400000000001,
            "bin_end": 11987.800000000001,
            "count": 0
           },
           {
            "bin_start": 11987.800000000001,
            "bin_end": 13700.2,
            "count": 0
           },
           {
            "bin_start": 13700.2,
            "bin_end": 15412.6,
            "count": 0
           },
           {
            "bin_start": 15412.6,
            "bin_end": 17125,
            "count": 1
           }
          ]
         }
        },
        {
         "name": "GK Kicking",
         "dtype": "float64",
         "stats": {
          "unique_count": 8,
          "nan_count": 0,
          "min": "1.0",
          "max": "17125.0",
          "histogram": [
           {
            "bin_start": 1,
            "bin_end": 1713.4,
            "count": 7
           },
           {
            "bin_start": 1713.4,
            "bin_end": 3425.8,
            "count": 0
           },
           {
            "bin_start": 3425.8,
            "bin_end": 5138.200000000001,
            "count": 0
           },
           {
            "bin_start": 5138.200000000001,
            "bin_end": 6850.6,
            "count": 0
           },
           {
            "bin_start": 6850.6,
            "bin_end": 8563,
            "count": 0
           },
           {
            "bin_start": 8563,
            "bin_end": 10275.400000000001,
            "count": 0
           },
           {
            "bin_start": 10275.400000000001,
            "bin_end": 11987.800000000001,
            "count": 0
           },
           {
            "bin_start": 11987.800000000001,
            "bin_end": 13700.2,
            "count": 0
           },
           {
            "bin_start": 13700.2,
            "bin_end": 15412.6,
            "count": 0
           },
           {
            "bin_start": 15412.6,
            "bin_end": 17125,
            "count": 1
           }
          ]
         }
        },
        {
         "name": "GK Positioning",
         "dtype": "float64",
         "stats": {
          "unique_count": 8,
          "nan_count": 0,
          "min": "1.0",
          "max": "17125.0",
          "histogram": [
           {
            "bin_start": 1,
            "bin_end": 1713.4,
            "count": 7
           },
           {
            "bin_start": 1713.4,
            "bin_end": 3425.8,
            "count": 0
           },
           {
            "bin_start": 3425.8,
            "bin_end": 5138.200000000001,
            "count": 0
           },
           {
            "bin_start": 5138.200000000001,
            "bin_end": 6850.6,
            "count": 0
           },
           {
            "bin_start": 6850.6,
            "bin_end": 8563,
            "count": 0
           },
           {
            "bin_start": 8563,
            "bin_end": 10275.400000000001,
            "count": 0
           },
           {
            "bin_start": 10275.400000000001,
            "bin_end": 11987.800000000001,
            "count": 0
           },
           {
            "bin_start": 11987.800000000001,
            "bin_end": 13700.2,
            "count": 0
           },
           {
            "bin_start": 13700.2,
            "bin_end": 15412.6,
            "count": 0
           },
           {
            "bin_start": 15412.6,
            "bin_end": 17125,
            "count": 1
           }
          ]
         }
        },
        {
         "name": "GK Reflexes",
         "dtype": "float64",
         "stats": {
          "unique_count": 8,
          "nan_count": 0,
          "min": "1.0",
          "max": "17125.0",
          "histogram": [
           {
            "bin_start": 1,
            "bin_end": 1713.4,
            "count": 7
           },
           {
            "bin_start": 1713.4,
            "bin_end": 3425.8,
            "count": 0
           },
           {
            "bin_start": 3425.8,
            "bin_end": 5138.200000000001,
            "count": 0
           },
           {
            "bin_start": 5138.200000000001,
            "bin_end": 6850.6,
            "count": 0
           },
           {
            "bin_start": 6850.6,
            "bin_end": 8563,
            "count": 0
           },
           {
            "bin_start": 8563,
            "bin_end": 10275.400000000001,
            "count": 0
           },
           {
            "bin_start": 10275.400000000001,
            "bin_end": 11987.800000000001,
            "count": 0
           },
           {
            "bin_start": 11987.800000000001,
            "bin_end": 13700.2,
            "count": 0
           },
           {
            "bin_start": 13700.2,
            "bin_end": 15412.6,
            "count": 0
           },
           {
            "bin_start": 15412.6,
            "bin_end": 17125,
            "count": 1
           }
          ]
         }
        },
        {
         "name": "Total Stats",
         "dtype": "float64",
         "stats": {
          "unique_count": 8,
          "nan_count": 0,
          "min": "260.35702392843007",
          "max": "17125.0",
          "histogram": [
           {
            "bin_start": 260.35702392843007,
            "bin_end": 1946.8213215355868,
            "count": 6
           },
           {
            "bin_start": 1946.8213215355868,
            "bin_end": 3633.2856191427436,
            "count": 1
           },
           {
            "bin_start": 3633.2856191427436,
            "bin_end": 5319.7499167499,
            "count": 0
           },
           {
            "bin_start": 5319.7499167499,
            "bin_end": 7006.214214357057,
            "count": 0
           },
           {
            "bin_start": 7006.214214357057,
            "bin_end": 8692.678511964215,
            "count": 0
           },
           {
            "bin_start": 8692.678511964215,
            "bin_end": 10379.14280957137,
            "count": 0
           },
           {
            "bin_start": 10379.14280957137,
            "bin_end": 12065.607107178528,
            "count": 0
           },
           {
            "bin_start": 12065.607107178528,
            "bin_end": 13752.071404785685,
            "count": 0
           },
           {
            "bin_start": 13752.071404785685,
            "bin_end": 15438.535702392843,
            "count": 0
           },
           {
            "bin_start": 15438.535702392843,
            "bin_end": 17125,
            "count": 1
           }
          ]
         }
        },
        {
         "name": "Base Stats",
         "dtype": "float64",
         "stats": {
          "unique_count": 8,
          "nan_count": 0,
          "min": "40.252290181388545",
          "max": "17125.0",
          "histogram": [
           {
            "bin_start": 40.252290181388545,
            "bin_end": 1748.7270611632496,
            "count": 7
           },
           {
            "bin_start": 1748.7270611632496,
            "bin_end": 3457.2018321451105,
            "count": 0
           },
           {
            "bin_start": 3457.2018321451105,
            "bin_end": 5165.676603126971,
            "count": 0
           },
           {
            "bin_start": 5165.676603126971,
            "bin_end": 6874.151374108832,
            "count": 0
           },
           {
            "bin_start": 6874.151374108832,
            "bin_end": 8582.626145090693,
            "count": 0
           },
           {
            "bin_start": 8582.626145090693,
            "bin_end": 10291.100916072553,
            "count": 0
           },
           {
            "bin_start": 10291.100916072553,
            "bin_end": 11999.575687054416,
            "count": 0
           },
           {
            "bin_start": 11999.575687054416,
            "bin_end": 13708.050458036276,
            "count": 0
           },
           {
            "bin_start": 13708.050458036276,
            "bin_end": 15416.525229018136,
            "count": 0
           },
           {
            "bin_start": 15416.525229018136,
            "bin_end": 17125,
            "count": 1
           }
          ]
         }
        },
        {
         "name": "PAC",
         "dtype": "float64",
         "stats": {
          "unique_count": 8,
          "nan_count": 0,
          "min": "11.147115775625974",
          "max": "17125.0",
          "histogram": [
           {
            "bin_start": 11.147115775625974,
            "bin_end": 1722.5324041980632,
            "count": 7
           },
           {
            "bin_start": 1722.5324041980632,
            "bin_end": 3433.9176926205005,
            "count": 0
           },
           {
            "bin_start": 3433.9176926205005,
            "bin_end": 5145.302981042938,
            "count": 0
           },
           {
            "bin_start": 5145.302981042938,
            "bin_end": 6856.688269465375,
            "count": 0
           },
           {
            "bin_start": 6856.688269465375,
            "bin_end": 8568.073557887812,
            "count": 0
           },
           {
            "bin_start": 8568.073557887812,
            "bin_end": 10279.45884631025,
            "count": 0
           },
           {
            "bin_start": 10279.45884631025,
            "bin_end": 11990.844134732686,
            "count": 0
           },
           {
            "bin_start": 11990.844134732686,
            "bin_end": 13702.229423155124,
            "count": 0
           },
           {
            "bin_start": 13702.229423155124,
            "bin_end": 15413.614711577562,
            "count": 0
           },
           {
            "bin_start": 15413.614711577562,
            "bin_end": 17125,
            "count": 1
           }
          ]
         }
        },
        {
         "name": "SHO",
         "dtype": "float64",
         "stats": {
          "unique_count": 8,
          "nan_count": 0,
          "min": "13.877605286846249",
          "max": "17125.0",
          "histogram": [
           {
            "bin_start": 13.877605286846249,
            "bin_end": 1724.9898447581618,
            "count": 7
           },
           {
            "bin_start": 1724.9898447581618,
            "bin_end": 3436.102084229477,
            "count": 0
           },
           {
            "bin_start": 3436.102084229477,
            "bin_end": 5147.214323700792,
            "count": 0
           },
           {
            "bin_start": 5147.214323700792,
            "bin_end": 6858.326563172108,
            "count": 0
           },
           {
            "bin_start": 6858.326563172108,
            "bin_end": 8569.438802643424,
            "count": 0
           },
           {
            "bin_start": 8569.438802643424,
            "bin_end": 10280.55104211474,
            "count": 0
           },
           {
            "bin_start": 10280.55104211474,
            "bin_end": 11991.663281586056,
            "count": 0
           },
           {
            "bin_start": 11991.663281586056,
            "bin_end": 13702.77552105737,
            "count": 0
           },
           {
            "bin_start": 13702.77552105737,
            "bin_end": 15413.887760528685,
            "count": 0
           },
           {
            "bin_start": 15413.887760528685,
            "bin_end": 17125,
            "count": 1
           }
          ]
         }
        },
        {
         "name": "PAS",
         "dtype": "float64",
         "stats": {
          "unique_count": 8,
          "nan_count": 0,
          "min": "10.186727752435782",
          "max": "17125.0",
          "histogram": [
           {
            "bin_start": 10.186727752435782,
            "bin_end": 1721.668054977192,
            "count": 7
           },
           {
            "bin_start": 1721.668054977192,
            "bin_end": 3433.1493822019484,
            "count": 0
           },
           {
            "bin_start": 3433.1493822019484,
            "bin_end": 5144.630709426705,
            "count": 0
           },
           {
            "bin_start": 5144.630709426705,
            "bin_end": 6856.1120366514615,
            "count": 0
           },
           {
            "bin_start": 6856.1120366514615,
            "bin_end": 8567.593363876218,
            "count": 0
           },
           {
            "bin_start": 8567.593363876218,
            "bin_end": 10279.074691100974,
            "count": 0
           },
           {
            "bin_start": 10279.074691100974,
            "bin_end": 11990.556018325731,
            "count": 0
           },
           {
            "bin_start": 11990.556018325731,
            "bin_end": 13702.037345550487,
            "count": 0
           },
           {
            "bin_start": 13702.037345550487,
            "bin_end": 15413.518672775243,
            "count": 0
           },
           {
            "bin_start": 15413.518672775243,
            "bin_end": 17125,
            "count": 1
           }
          ]
         }
        },
        {
         "name": "DRI",
         "dtype": "float64",
         "stats": {
          "unique_count": 8,
          "nan_count": 0,
          "min": "9.832733697320096",
          "max": "17125.0",
          "histogram": [
           {
            "bin_start": 9.832733697320096,
            "bin_end": 1721.349460327588,
            "count": 7
           },
           {
            "bin_start": 1721.349460327588,
            "bin_end": 3432.8661869578564,
            "count": 0
           },
           {
            "bin_start": 3432.8661869578564,
            "bin_end": 5144.382913588124,
            "count": 0
           },
           {
            "bin_start": 5144.382913588124,
            "bin_end": 6855.899640218392,
            "count": 0
           },
           {
            "bin_start": 6855.899640218392,
            "bin_end": 8567.41636684866,
            "count": 0
           },
           {
            "bin_start": 8567.41636684866,
            "bin_end": 10278.933093478929,
            "count": 0
           },
           {
            "bin_start": 10278.933093478929,
            "bin_end": 11990.449820109196,
            "count": 0
           },
           {
            "bin_start": 11990.449820109196,
            "bin_end": 13701.966546739464,
            "count": 0
           },
           {
            "bin_start": 13701.966546739464,
            "bin_end": 15413.483273369733,
            "count": 0
           },
           {
            "bin_start": 15413.483273369733,
            "bin_end": 17125,
            "count": 1
           }
          ]
         }
        },
        {
         "name": "DEF",
         "dtype": "float64",
         "stats": {
          "unique_count": 8,
          "nan_count": 0,
          "min": "12.0",
          "max": "17125.0",
          "histogram": [
           {
            "bin_start": 12,
            "bin_end": 1723.3,
            "count": 7
           },
           {
            "bin_start": 1723.3,
            "bin_end": 3434.6,
            "count": 0
           },
           {
            "bin_start": 3434.6,
            "bin_end": 5145.9,
            "count": 0
           },
           {
            "bin_start": 5145.9,
            "bin_end": 6857.2,
            "count": 0
           },
           {
            "bin_start": 6857.2,
            "bin_end": 8568.5,
            "count": 0
           },
           {
            "bin_start": 8568.5,
            "bin_end": 10279.8,
            "count": 0
           },
           {
            "bin_start": 10279.8,
            "bin_end": 11991.1,
            "count": 0
           },
           {
            "bin_start": 11991.1,
            "bin_end": 13702.4,
            "count": 0
           },
           {
            "bin_start": 13702.4,
            "bin_end": 15413.699999999999,
            "count": 0
           },
           {
            "bin_start": 15413.699999999999,
            "bin_end": 17125,
            "count": 1
           }
          ]
         }
        },
        {
         "name": "PHY",
         "dtype": "float64",
         "stats": {
          "unique_count": 8,
          "nan_count": 0,
          "min": "9.66026039566264",
          "max": "17125.0",
          "histogram": [
           {
            "bin_start": 9.66026039566264,
            "bin_end": 1721.1942343560963,
            "count": 7
           },
           {
            "bin_start": 1721.1942343560963,
            "bin_end": 3432.72820831653,
            "count": 0
           },
           {
            "bin_start": 3432.72820831653,
            "bin_end": 5144.262182276964,
            "count": 0
           },
           {
            "bin_start": 5144.262182276964,
            "bin_end": 6855.796156237398,
            "count": 0
           },
           {
            "bin_start": 6855.796156237398,
            "bin_end": 8567.330130197832,
            "count": 0
           },
           {
            "bin_start": 8567.330130197832,
            "bin_end": 10278.864104158267,
            "count": 0
           },
           {
            "bin_start": 10278.864104158267,
            "bin_end": 11990.3980781187,
            "count": 0
           },
           {
            "bin_start": 11990.3980781187,
            "bin_end": 13701.932052079133,
            "count": 0
           },
           {
            "bin_start": 13701.932052079133,
            "bin_end": 15413.466026039567,
            "count": 0
           },
           {
            "bin_start": 15413.466026039567,
            "bin_end": 17125,
            "count": 1
           }
          ]
         }
        },
        {
         "name": "_deepnote_index_column",
         "dtype": "object"
        }
       ],
       "rows": [
        {
         "ID": 17125,
         "Age": 17125,
         "OVA": 17125,
         "BOV": 17125,
         "POT": 17125,
         "Growth": 17125,
         "Attacking": 17125,
         "Crossing": 17125,
         "Finishing": 17125,
         "Heading Accuracy": 17125,
         "Short Passing": 17125,
         "Volleys": 17067,
         "Skill": 17125,
         "Dribbling": 17125,
         "Curve": 17067,
         "FK Accuracy": 17125,
         "Long Passing": 17125,
         "Ball Control": 17125,
         "Movement": 17125,
         "Acceleration": 17125,
         "Sprint Speed": 17125,
         "Agility": 17067,
         "Reactions": 17125,
         "Balance": 17067,
         "Power": 17125,
         "Shot Power": 17125,
         "Jumping": 17067,
         "Stamina": 17125,
         "Strength": 17125,
         "Long Shots": 17125,
         "Mentality": 17125,
         "Aggression": 17125,
         "Interceptions": 17118,
         "Positioning": 17118,
         "Vision": 17067,
         "Penalties": 17125,
         "Composure": 16702,
         "Defending": 17125,
         "Marking": 17125,
         "Standing Tackle": 17125,
         "Sliding Tackle": 17067,
         "Goalkeeping": 17125,
         "GK Diving": 17125,
         "GK Handling": 17125,
         "GK Kicking": 17125,
         "GK Positioning": 17125,
         "GK Reflexes": 17125,
         "Total Stats": 17125,
         "Base Stats": 17125,
         "PAC": 17125,
         "SHO": 17125,
         "PAS": 17125,
         "DRI": 17125,
         "DEF": 17125,
         "PHY": 17125,
         "_deepnote_index_column": "count"
        },
        {
         "ID": 219388.71620437957,
         "Age": 25.272934306569343,
         "OVA": 66.96502189781022,
         "BOV": 67.90020437956204,
         "POT": 72.4898102189781,
         "Growth": 5.524788321167883,
         "Attacking": 258.5377518248175,
         "Crossing": 51.621313868613136,
         "Finishing": 47.95667153284671,
         "Heading Accuracy": 53.59883211678832,
         "Short Passing": 60.507620437956206,
         "Volleys": 45.00574207535009,
         "Skill": 266.60759124087593,
         "Dribbling": 57.846423357664236,
         "Curve": 49.57467627585399,
         "FK Accuracy": 44.3872700729927,
         "Long Passing": 54.32432116788321,
         "Ball Control": 60.64280291970803,
         "Movement": 322.69366423357667,
         "Acceleration": 65.44589781021898,
         "Sprint Speed": 65.44303649635036,
         "Agility": 64.60227339309779,
         "Reactions": 62.924846715328464,
         "Balance": 64.71559149235367,
         "Power": 302.41477372262773,
         "Shot Power": 59.711416058394164,
         "Jumping": 65.17021151930626,
         "Stamina": 63.30960583941606,
         "Strength": 65.30855474452555,
         "Long Shots": 49.13570802919708,
         "Mentality": 261.92280291970803,
         "Aggression": 56.9978394160584,
         "Interceptions": 47.08558242785372,
         "Positioning": 52.372765509989485,
         "Vision": 55.44360461709732,
         "Penalties": 50.25144525547445,
         "Composure": 59.94096515387379,
         "Defending": 141.46989781021898,
         "Marking": 47.24694890510949,
         "Standing Tackle": 48.27935766423358,
         "Sliding Tackle": 46.09972461475362,
         "Goalkeeping": 77.60969343065693,
         "GK Diving": 15.600467153284672,
         "GK Handling": 15.484671532846715,
         "GK Kicking": 15.472058394160584,
         "GK Positioning": 15.514277372262773,
         "GK Reflexes": 15.738627737226278,
         "Total Stats": 1631.2561751824817,
         "Base Stats": 361.37214598540146,
         "PAC": 68.09162043795621,
         "SHO": 54.96729927007299,
         "PAS": 58.9265401459854,
         "DRI": 64.20986861313868,
         "DEF": 50.26610218978102,
         "PHY": 64.91071532846715,
         "_deepnote_index_column": "mean"
        },
        {
         "ID": 37499.19750706142,
         "Age": 4.942665346698034,
         "OVA": 6.864329323314172,
         "BOV": 6.637537605991941,
         "POT": 5.769948647777709,
         "Growth": 5.787538704885726,
         "Attacking": 72.25568700988251,
         "Crossing": 17.875714899280453,
         "Finishing": 19.39154738334272,
         "Heading Accuracy": 16.9471642362575,
         "Short Passing": 13.960635283205338,
         "Volleys": 17.729482519487195,
         "Skill": 76.80934427966406,
         "Dribbling": 18.047249901356825,
         "Curve": 18.188344244254324,
         "FK Accuracy": 17.504128429631987,
         "Long Passing": 14.85691060030548,
         "Ball Control": 15.873647073805195,
         "Movement": 54.93359317492558,
         "Acceleration": 14.65788938918384,
         "Sprint Speed": 14.437376715330137,
         "Agility": 14.372442591524338,
         "Reactions": 9.037278674851088,
         "Balance": 14.031563340634941,
         "Power": 49.3805761650987,
         "Shot Power": 13.417930827086664,
         "Jumping": 11.918063108701991,
         "Stamina": 15.31327169461047,
         "Strength": 12.627212054736464,
         "Long Shots": 19.044861860559443,
         "Mentality": 62.91393547078864,
         "Aggression": 17.021618980992393,
         "Interceptions": 20.846705427201172,
         "Positioning": 19.094431735998835,
         "Vision": 13.730079631581004,
         "Penalties": 15.696362780197182,
         "Composure": 11.751110797378278,
         "Defending": 61.59518025440273,
         "Marking": 20.18254791134898,
         "Standing Tackle": 21.48359699914934,
         "Sliding Tackle": 21.18515401264331,
         "Goalkeeping": 81.13660332657876,
         "GK Diving": 16.828636697498737,
         "GK Handling": 16.14367941609901,
         "GK Kicking": 15.99732786891091,
         "GK Positioning": 16.406064248447322,
         "GK Reflexes": 17.130907852176044,
         "Total Stats": 260.35702392843007,
         "Base Stats": 40.252290181388545,
         "PAC": 11.147115775625974,
         "SHO": 13.877605286846249,
         "PAS": 10.186727752435782,
         "DRI": 9.832733697320096,
         "DEF": 16.85380058143694,
         "PHY": 9.66026039566264,
         "_deepnote_index_column": "std"
        },
        {
         "ID": 2,
         "Age": 16,
         "OVA": 38,
         "BOV": 42,
         "POT": 47,
         "Growth": -1,
         "Attacking": 33,
         "Crossing": 6,
         "Finishing": 3,
         "Heading Accuracy": 5,
         "Short Passing": 7,
         "Volleys": 4,
         "Skill": 43,
         "Dribbling": 5,
         "Curve": 4,
         "FK Accuracy": 5,
         "Long Passing": 9,
         "Ball Control": 5,
         "Movement": 113,
         "Acceleration": 12,
         "Sprint Speed": 11,
         "Agility": 14,
         "Reactions": 24,
         "Balance": 17,
         "Power": 128,
         "Shot Power": 12,
         "Jumping": 22,
         "Stamina": 11,
         "Strength": 16,
         "Long Shots": 4,
         "Mentality": 50,
         "Aggression": 9,
         "Interceptions": 4,
         "Positioning": 2,
         "Vision": 10,
         "Penalties": 7,
         "Composure": 12,
         "Defending": 17,
         "Marking": 3,
         "Standing Tackle": 5,
         "Sliding Tackle": 6,
         "Goalkeeping": 5,
         "GK Diving": 1,
         "GK Handling": 1,
         "GK Kicking": 1,
         "GK Positioning": 1,
         "GK Reflexes": 1,
         "Total Stats": 731,
         "Base Stats": 228,
         "PAC": 25,
         "SHO": 16,
         "PAS": 25,
         "DRI": 28,
         "DEF": 12,
         "PHY": 27,
         "_deepnote_index_column": "min"
        },
        {
         "ID": 204082,
         "Age": 21,
         "OVA": 62,
         "BOV": 64,
         "POT": 69,
         "Growth": 0,
         "Attacking": 232,
         "Crossing": 41,
         "Finishing": 33,
         "Heading Accuracy": 46,
         "Short Passing": 56,
         "Volleys": 32,
         "Skill": 232,
         "Dribbling": 53,
         "Curve": 37,
         "FK Accuracy": 32,
         "Long Passing": 45,
         "Ball Control": 57,
         "Movement": 294,
         "Acceleration": 58,
         "Sprint Speed": 59,
         "Agility": 57,
         "Reactions": 57,
         "Balance": 57,
         "Power": 272,
         "Shot Power": 50,
         "Jumping": 58,
         "Stamina": 56,
         "Strength": 58,
         "Long Shots": 35,
         "Mentality": 235,
         "Aggression": 45,
         "Interceptions": 26,
         "Positioning": 43,
         "Vision": 47,
         "Penalties": 40,
         "Composure": 53,
         "Defending": 84,
         "Marking": 29,
         "Standing Tackle": 28,
         "Sliding Tackle": 25,
         "Goalkeeping": 48,
         "GK Diving": 8,
         "GK Handling": 8,
         "GK Kicking": 8,
         "GK Positioning": 8,
         "GK Reflexes": 8,
         "Total Stats": 1492,
         "Base Stats": 333,
         "PAC": 62,
         "SHO": 46,
         "PAS": 52,
         "DRI": 59,
         "DEF": 35,
         "PHY": 59,
         "_deepnote_index_column": "25%"
        },
        {
         "ID": 228961,
         "Age": 25,
         "OVA": 67,
         "BOV": 68,
         "POT": 72,
         "Growth": 4,
         "Attacking": 271,
         "Crossing": 56,
         "Finishing": 52,
         "Heading Accuracy": 57,
         "Short Passing": 63,
         "Volleys": 46,
         "Skill": 279,
         "Dribbling": 63,
         "Curve": 51,
         "FK Accuracy": 43,
         "Long Passing": 57,
         "Ball Control": 64,
         "Movement": 331,
         "Acceleration": 68,
         "Sprint Speed": 68,
         "Agility": 67,
         "Reactions": 63,
         "Balance": 67,
         "Power": 308,
         "Shot Power": 61,
         "Jumping": 66,
         "Stamina": 66,
         "Strength": 67,
         "Long Shots": 53,
         "Mentality": 269,
         "Aggression": 60,
         "Interceptions": 53,
         "Positioning": 57,
         "Vision": 57,
         "Penalties": 51,
         "Composure": 61,
         "Defending": 158,
         "Marking": 52,
         "Standing Tackle": 55,
         "Sliding Tackle": 52,
         "Goalkeeping": 53,
         "GK Diving": 11,
         "GK Handling": 11,
         "GK Kicking": 11,
         "GK Positioning": 11,
         "GK Reflexes": 11,
         "Total Stats": 1659,
         "Base Stats": 362,
         "PAC": 69,
         "SHO": 58,
         "PAS": 60,
         "DRI": 65,
         "DEF": 53,
         "PHY": 66,
         "_deepnote_index_column": "50%"
        },
        {
         "ID": 243911,
         "Age": 29,
         "OVA": 72,
         "BOV": 72,
         "POT": 76,
         "Growth": 9,
         "Attacking": 306,
         "Crossing": 65,
         "Finishing": 64,
         "Heading Accuracy": 65,
         "Short Passing": 69,
         "Volleys": 59,
         "Skill": 319,
         "Dribbling": 70,
         "Curve": 64,
         "FK Accuracy": 58,
         "Long Passing": 65,
         "Ball Control": 70,
         "Movement": 360,
         "Acceleration": 75,
         "Sprint Speed": 75,
         "Agility": 75,
         "Reactions": 69,
         "Balance": 75,
         "Power": 339,
         "Shot Power": 70,
         "Jumping": 73,
         "Stamina": 73,
         "Strength": 74,
         "Long Shots": 64,
         "Mentality": 304,
         "Aggression": 70,
         "Interceptions": 65,
         "Positioning": 66,
         "Vision": 65,
         "Penalties": 62,
         "Composure": 68,
         "Defending": 194,
         "Marking": 64,
         "Standing Tackle": 66,
         "Sliding Tackle": 64,
         "Goalkeeping": 59,
         "GK Diving": 14,
         "GK Handling": 14,
         "GK Kicking": 14,
         "GK Positioning": 14,
         "GK Reflexes": 14,
         "Total Stats": 1812,
         "Base Stats": 390,
         "PAC": 75,
         "SHO": 65,
         "PAS": 66,
         "DRI": 71,
         "DEF": 64,
         "PHY": 72,
         "_deepnote_index_column": "75%"
        },
        {
         "ID": 259105,
         "Age": 53,
         "OVA": 93,
         "BOV": 93,
         "POT": 95,
         "Growth": 26,
         "Attacking": 437,
         "Crossing": 94,
         "Finishing": 95,
         "Heading Accuracy": 93,
         "Short Passing": 94,
         "Volleys": 90,
         "Skill": 470,
         "Dribbling": 96,
         "Curve": 94,
         "FK Accuracy": 94,
         "Long Passing": 93,
         "Ball Control": 96,
         "Movement": 464,
         "Acceleration": 97,
         "Sprint Speed": 96,
         "Agility": 96,
         "Reactions": 96,
         "Balance": 97,
         "Power": 444,
         "Shot Power": 95,
         "Jumping": 95,
         "Stamina": 97,
         "Strength": 97,
         "Long Shots": 94,
         "Mentality": 421,
         "Aggression": 96,
         "Interceptions": 95,
         "Positioning": 96,
         "Vision": 95,
         "Penalties": 94,
         "Composure": 96,
         "Defending": 272,
         "Marking": 94,
         "Standing Tackle": 93,
         "Sliding Tackle": 95,
         "Goalkeeping": 440,
         "GK Diving": 90,
         "GK Handling": 92,
         "GK Kicking": 93,
         "GK Positioning": 93,
         "GK Reflexes": 90,
         "Total Stats": 2316,
         "Base Stats": 498,
         "PAC": 96,
         "SHO": 93,
         "PAS": 93,
         "DRI": 95,
         "DEF": 91,
         "PHY": 93,
         "_deepnote_index_column": "max"
        }
       ]
      },
      "text/plain": "                  ID           Age           OVA           BOV           POT  \\\ncount   17125.000000  17125.000000  17125.000000  17125.000000  17125.000000   \nmean   219388.716204     25.272934     66.965022     67.900204     72.489810   \nstd     37499.197507      4.942665      6.864329      6.637538      5.769949   \nmin         2.000000     16.000000     38.000000     42.000000     47.000000   \n25%    204082.000000     21.000000     62.000000     64.000000     69.000000   \n50%    228961.000000     25.000000     67.000000     68.000000     72.000000   \n75%    243911.000000     29.000000     72.000000     72.000000     76.000000   \nmax    259105.000000     53.000000     93.000000     93.000000     95.000000   \n\n             Growth     Attacking      Crossing     Finishing  \\\ncount  17125.000000  17125.000000  17125.000000  17125.000000   \nmean       5.524788    258.537752     51.621314     47.956672   \nstd        5.787539     72.255687     17.875715     19.391547   \nmin       -1.000000     33.000000      6.000000      3.000000   \n25%        0.000000    232.000000     41.000000     33.000000   \n50%        4.000000    271.000000     56.000000     52.000000   \n75%        9.000000    306.000000     65.000000     64.000000   \nmax       26.000000    437.000000     94.000000     95.000000   \n\n       Heading Accuracy  ...  GK Positioning   GK Reflexes   Total Stats  \\\ncount      17125.000000  ...    17125.000000  17125.000000  17125.000000   \nmean          53.598832  ...       15.514277     15.738628   1631.256175   \nstd           16.947164  ...       16.406064     17.130908    260.357024   \nmin            5.000000  ...        1.000000      1.000000    731.000000   \n25%           46.000000  ...        8.000000      8.000000   1492.000000   \n50%           57.000000  ...       11.000000     11.000000   1659.000000   \n75%           65.000000  ...       14.000000     14.000000   1812.000000   \nmax           93.000000  ...       93.000000     90.000000   2316.000000   \n\n         Base Stats           PAC           SHO           PAS           DRI  \\\ncount  17125.000000  17125.000000  17125.000000  17125.000000  17125.000000   \nmean     361.372146     68.091620     54.967299     58.926540     64.209869   \nstd       40.252290     11.147116     13.877605     10.186728      9.832734   \nmin      228.000000     25.000000     16.000000     25.000000     28.000000   \n25%      333.000000     62.000000     46.000000     52.000000     59.000000   \n50%      362.000000     69.000000     58.000000     60.000000     65.000000   \n75%      390.000000     75.000000     65.000000     66.000000     71.000000   \nmax      498.000000     96.000000     93.000000     93.000000     95.000000   \n\n                DEF           PHY  \ncount  17125.000000  17125.000000  \nmean      50.266102     64.910715  \nstd       16.853801      9.660260  \nmin       12.000000     27.000000  \n25%       35.000000     59.000000  \n50%       53.000000     66.000000  \n75%       64.000000     72.000000  \nmax       91.000000     93.000000  \n\n[8 rows x 55 columns]",
      "text/html": "<div>\n<style scoped>\n    .dataframe tbody tr th:only-of-type {\n        vertical-align: middle;\n    }\n\n    .dataframe tbody tr th {\n        vertical-align: top;\n    }\n\n    .dataframe thead th {\n        text-align: right;\n    }\n</style>\n<table border=\"1\" class=\"dataframe\">\n  <thead>\n    <tr style=\"text-align: right;\">\n      <th></th>\n      <th>ID</th>\n      <th>Age</th>\n      <th>OVA</th>\n      <th>BOV</th>\n      <th>POT</th>\n      <th>Growth</th>\n      <th>Attacking</th>\n      <th>Crossing</th>\n      <th>Finishing</th>\n      <th>Heading Accuracy</th>\n      <th>...</th>\n      <th>GK Positioning</th>\n      <th>GK Reflexes</th>\n      <th>Total Stats</th>\n      <th>Base Stats</th>\n      <th>PAC</th>\n      <th>SHO</th>\n      <th>PAS</th>\n      <th>DRI</th>\n      <th>DEF</th>\n      <th>PHY</th>\n    </tr>\n  </thead>\n  <tbody>\n    <tr>\n      <th>count</th>\n      <td>17125.000000</td>\n      <td>17125.000000</td>\n      <td>17125.000000</td>\n      <td>17125.000000</td>\n      <td>17125.000000</td>\n      <td>17125.000000</td>\n      <td>17125.000000</td>\n      <td>17125.000000</td>\n      <td>17125.000000</td>\n      <td>17125.000000</td>\n      <td>...</td>\n      <td>17125.000000</td>\n      <td>17125.000000</td>\n      <td>17125.000000</td>\n      <td>17125.000000</td>\n      <td>17125.000000</td>\n      <td>17125.000000</td>\n      <td>17125.000000</td>\n      <td>17125.000000</td>\n      <td>17125.000000</td>\n      <td>17125.000000</td>\n    </tr>\n    <tr>\n      <th>mean</th>\n      <td>219388.716204</td>\n      <td>25.272934</td>\n      <td>66.965022</td>\n      <td>67.900204</td>\n      <td>72.489810</td>\n      <td>5.524788</td>\n      <td>258.537752</td>\n      <td>51.621314</td>\n      <td>47.956672</td>\n      <td>53.598832</td>\n      <td>...</td>\n      <td>15.514277</td>\n      <td>15.738628</td>\n      <td>1631.256175</td>\n      <td>361.372146</td>\n      <td>68.091620</td>\n      <td>54.967299</td>\n      <td>58.926540</td>\n      <td>64.209869</td>\n      <td>50.266102</td>\n      <td>64.910715</td>\n    </tr>\n    <tr>\n      <th>std</th>\n      <td>37499.197507</td>\n      <td>4.942665</td>\n      <td>6.864329</td>\n      <td>6.637538</td>\n      <td>5.769949</td>\n      <td>5.787539</td>\n      <td>72.255687</td>\n      <td>17.875715</td>\n      <td>19.391547</td>\n      <td>16.947164</td>\n      <td>...</td>\n      <td>16.406064</td>\n      <td>17.130908</td>\n      <td>260.357024</td>\n      <td>40.252290</td>\n      <td>11.147116</td>\n      <td>13.877605</td>\n      <td>10.186728</td>\n      <td>9.832734</td>\n      <td>16.853801</td>\n      <td>9.660260</td>\n    </tr>\n    <tr>\n      <th>min</th>\n      <td>2.000000</td>\n      <td>16.000000</td>\n      <td>38.000000</td>\n      <td>42.000000</td>\n      <td>47.000000</td>\n      <td>-1.000000</td>\n      <td>33.000000</td>\n      <td>6.000000</td>\n      <td>3.000000</td>\n      <td>5.000000</td>\n      <td>...</td>\n      <td>1.000000</td>\n      <td>1.000000</td>\n      <td>731.000000</td>\n      <td>228.000000</td>\n      <td>25.000000</td>\n      <td>16.000000</td>\n      <td>25.000000</td>\n      <td>28.000000</td>\n      <td>12.000000</td>\n      <td>27.000000</td>\n    </tr>\n    <tr>\n      <th>25%</th>\n      <td>204082.000000</td>\n      <td>21.000000</td>\n      <td>62.000000</td>\n      <td>64.000000</td>\n      <td>69.000000</td>\n      <td>0.000000</td>\n      <td>232.000000</td>\n      <td>41.000000</td>\n      <td>33.000000</td>\n      <td>46.000000</td>\n      <td>...</td>\n      <td>8.000000</td>\n      <td>8.000000</td>\n      <td>1492.000000</td>\n      <td>333.000000</td>\n      <td>62.000000</td>\n      <td>46.000000</td>\n      <td>52.000000</td>\n      <td>59.000000</td>\n      <td>35.000000</td>\n      <td>59.000000</td>\n    </tr>\n    <tr>\n      <th>50%</th>\n      <td>228961.000000</td>\n      <td>25.000000</td>\n      <td>67.000000</td>\n      <td>68.000000</td>\n      <td>72.000000</td>\n      <td>4.000000</td>\n      <td>271.000000</td>\n      <td>56.000000</td>\n      <td>52.000000</td>\n      <td>57.000000</td>\n      <td>...</td>\n      <td>11.000000</td>\n      <td>11.000000</td>\n      <td>1659.000000</td>\n      <td>362.000000</td>\n      <td>69.000000</td>\n      <td>58.000000</td>\n      <td>60.000000</td>\n      <td>65.000000</td>\n      <td>53.000000</td>\n      <td>66.000000</td>\n    </tr>\n    <tr>\n      <th>75%</th>\n      <td>243911.000000</td>\n      <td>29.000000</td>\n      <td>72.000000</td>\n      <td>72.000000</td>\n      <td>76.000000</td>\n      <td>9.000000</td>\n      <td>306.000000</td>\n      <td>65.000000</td>\n      <td>64.000000</td>\n      <td>65.000000</td>\n      <td>...</td>\n      <td>14.000000</td>\n      <td>14.000000</td>\n      <td>1812.000000</td>\n      <td>390.000000</td>\n      <td>75.000000</td>\n      <td>65.000000</td>\n      <td>66.000000</td>\n      <td>71.000000</td>\n      <td>64.000000</td>\n      <td>72.000000</td>\n    </tr>\n    <tr>\n      <th>max</th>\n      <td>259105.000000</td>\n      <td>53.000000</td>\n      <td>93.000000</td>\n      <td>93.000000</td>\n      <td>95.000000</td>\n      <td>26.000000</td>\n      <td>437.000000</td>\n      <td>94.000000</td>\n      <td>95.000000</td>\n      <td>93.000000</td>\n      <td>...</td>\n      <td>93.000000</td>\n      <td>90.000000</td>\n      <td>2316.000000</td>\n      <td>498.000000</td>\n      <td>96.000000</td>\n      <td>93.000000</td>\n      <td>93.000000</td>\n      <td>95.000000</td>\n      <td>91.000000</td>\n      <td>93.000000</td>\n    </tr>\n  </tbody>\n</table>\n<p>8 rows × 55 columns</p>\n</div>"
     },
     "metadata": {}
    }
   ],
   "execution_count": null
  },
  {
   "cell_type": "code",
   "metadata": {
    "cell_id": "cc661045-b95d-4e74-b8ac-5fc20f05cad6",
    "tags": [],
    "deepnote_to_be_reexecuted": false,
    "source_hash": "91f9d127",
    "execution_start": 1647525147086,
    "execution_millis": 730,
    "deepnote_cell_type": "code",
    "deepnote_cell_height": 531,
    "deepnote_output_heights": [
     21,
     346
    ]
   },
   "source": "sns.histplot(fifa_df.OVA) #distrition of players in a ranking from 0 t0 100\nplt.ylabel('Number of players')\nplt.xlabel('Over all score')",
   "outputs": [
    {
     "output_type": "execute_result",
     "execution_count": 5,
     "data": {
      "text/plain": "Text(0.5, 0, 'Over all score')"
     },
     "metadata": {}
    },
    {
     "data": {
      "text/plain": "<Figure size 576x396 with 1 Axes>",
      "image/png": "[encoded data removed]"
     },
     "metadata": {
      "image/png": {
       "width": 506,
       "height": 344
      }
     },
     "output_type": "display_data"
    }
   ],
   "execution_count": null
  },
  {
   "cell_type": "markdown",
   "source": "Looking at the plot, we can see a normal distribution, most of the scores are between 60 and 70. ",
   "metadata": {
    "cell_id": "28bb36e6-6abb-47d9-a6b6-05dde7791038",
    "tags": [],
    "is_collapsed": false,
    "deepnote_cell_type": "text-cell-p",
    "deepnote_cell_height": 52.399993896484375
   }
  },
  {
   "cell_type": "markdown",
   "source": "### Data Cleaning",
   "metadata": {
    "cell_id": "bc7db9a3-e030-49c1-8dce-c80cf1c80d54",
    "tags": [],
    "is_collapsed": false,
    "deepnote_cell_type": "text-cell-h3",
    "deepnote_cell_height": 62
   }
  },
  {
   "cell_type": "code",
   "metadata": {
    "cell_id": "6f990588-1f0e-4c62-827a-5fc26c7886d1",
    "tags": [],
    "deepnote_to_be_reexecuted": false,
    "source_hash": "ee90ba8e",
    "execution_start": 1647525147815,
    "execution_millis": 156,
    "deepnote_cell_type": "code",
    "deepnote_cell_height": 664
   },
   "source": "#Creating a new data frame with the columns I'm going to use. That is the data that I'm going to clean.\ndata = fifa_df[['Name', 'Age', 'OVA', 'Height', 'Weight', 'foot']].copy()\n\ndata",
   "outputs": [
    {
     "output_type": "execute_result",
     "execution_count": 6,
     "data": {
      "application/vnd.deepnote.dataframe.v3+json": {
       "column_count": 6,
       "row_count": 17125,
       "columns": [
        {
         "name": "Name",
         "dtype": "object",
         "stats": {
          "unique_count": 16176,
          "nan_count": 0,
          "categories": [
           {
            "name": "J. Rodríguez",
            "count": 10
           },
           {
            "name": "A. Traoré",
            "count": 8
           },
           {
            "name": "16174 others",
            "count": 17107
           }
          ]
         }
        },
        {
         "name": "Age",
         "dtype": "int64",
         "stats": {
          "unique_count": 30,
          "nan_count": 0,
          "min": "16",
          "max": "53",
          "histogram": [
           {
            "bin_start": 16,
            "bin_end": 19.7,
            "count": 2007
           },
           {
            "bin_start": 19.7,
            "bin_end": 23.4,
            "count": 5151
           },
           {
            "bin_start": 23.4,
            "bin_end": 27.1,
            "count": 4449
           },
           {
            "bin_start": 27.1,
            "bin_end": 30.8,
            "count": 2674
           },
           {
            "bin_start": 30.8,
            "bin_end": 34.5,
            "count": 2143
           },
           {
            "bin_start": 34.5,
            "bin_end": 38.2,
            "count": 620
           },
           {
            "bin_start": 38.2,
            "bin_end": 41.900000000000006,
            "count": 68
           },
           {
            "bin_start": 41.900000000000006,
            "bin_end": 45.6,
            "count": 11
           },
           {
            "bin_start": 45.6,
            "bin_end": 49.300000000000004,
            "count": 1
           },
           {
            "bin_start": 49.300000000000004,
            "bin_end": 53,
            "count": 1
           }
          ]
         }
        },
        {
         "name": "OVA",
         "dtype": "int64",
         "stats": {
          "unique_count": 50,
          "nan_count": 0,
          "min": "38",
          "max": "93",
          "histogram": [
           {
            "bin_start": 38,
            "bin_end": 43.5,
            "count": 2
           },
           {
            "bin_start": 43.5,
            "bin_end": 49,
            "count": 33
           },
           {
            "bin_start": 49,
            "bin_end": 54.5,
            "count": 611
           },
           {
            "bin_start": 54.5,
            "bin_end": 60,
            "count": 1671
           },
           {
            "bin_start": 60,
            "bin_end": 65.5,
            "count": 4857
           },
           {
            "bin_start": 65.5,
            "bin_end": 71,
            "count": 4776
           },
           {
            "bin_start": 71,
            "bin_end": 76.5,
            "count": 3808
           },
           {
            "bin_start": 76.5,
            "bin_end": 82,
            "count": 1059
           },
           {
            "bin_start": 82,
            "bin_end": 87.5,
            "count": 279
           },
           {
            "bin_start": 87.5,
            "bin_end": 93,
            "count": 29
           }
          ]
         }
        },
        {
         "name": "Height",
         "dtype": "object",
         "stats": {
          "unique_count": 21,
          "nan_count": 0,
          "categories": [
           {
            "name": "6'0\"",
            "count": 2583
           },
           {
            "name": "5'10\"",
            "count": 2418
           },
           {
            "name": "19 others",
            "count": 12124
           }
          ]
         }
        },
        {
         "name": "Weight",
         "dtype": "object",
         "stats": {
          "unique_count": 57,
          "nan_count": 0,
          "categories": [
           {
            "name": "154lbs",
            "count": 1342
           },
           {
            "name": "165lbs",
            "count": 1297
           },
           {
            "name": "55 others",
            "count": 14486
           }
          ]
         }
        },
        {
         "name": "foot",
         "dtype": "object"
        },
        {
         "name": "_deepnote_index_column",
         "dtype": "int64"
        }
       ],
       "rows": [
        {
         "Name": "G. Pasquale",
         "Age": 33,
         "OVA": 69,
         "Height": "6'0\"",
         "Weight": "181lbs",
         "foot": "Left",
         "_deepnote_index_column": 0
        },
        {
         "Name": "Luis García",
         "Age": 37,
         "OVA": 71,
         "Height": "5'10\"",
         "Weight": "143lbs",
         "foot": "Right",
         "_deepnote_index_column": 1
        },
        {
         "Name": "J. Cole",
         "Age": 33,
         "OVA": 71,
         "Height": "5'9\"",
         "Weight": "161lbs",
         "foot": "Right",
         "_deepnote_index_column": 2
        },
        {
         "Name": "D. Yorke",
         "Age": 36,
         "OVA": 68,
         "Height": "5'11\"",
         "Weight": "165lbs",
         "foot": "Right",
         "_deepnote_index_column": 3
        },
        {
         "Name": "Iniesta",
         "Age": 36,
         "OVA": 81,
         "Height": "5'7\"",
         "Weight": "150lbs",
         "foot": "Right",
         "_deepnote_index_column": 4
        },
        {
         "Name": "D. Odonkor",
         "Age": 27,
         "OVA": 66,
         "Height": "5'8\"",
         "Weight": "163lbs",
         "foot": "Right",
         "_deepnote_index_column": 5
        },
        {
         "Name": "E. Belözoğlu",
         "Age": 38,
         "OVA": 77,
         "Height": "5'7\"",
         "Weight": "159lbs",
         "foot": "Left",
         "_deepnote_index_column": 6
        },
        {
         "Name": "R. Giggs",
         "Age": 39,
         "OVA": 78,
         "Height": "5'10\"",
         "Weight": "157lbs",
         "foot": "Left",
         "_deepnote_index_column": 7
        },
        {
         "Name": "G. Neville  B",
         "Age": 35,
         "OVA": 76,
         "Height": "5'10\"",
         "Weight": "174lbs",
         "foot": "Right",
         "_deepnote_index_column": 8
        },
        {
         "Name": "P. Scholes",
         "Age": 37,
         "OVA": 80,
         "Height": "5'7\"",
         "Weight": "157lbs",
         "foot": "Right",
         "_deepnote_index_column": 9
        }
       ]
      },
      "text/plain": "                  Name  Age  OVA Height  Weight   foot\n0          G. Pasquale   33   69   6'0\"  181lbs   Left\n1          Luis García   37   71  5'10\"  143lbs  Right\n2              J. Cole   33   71   5'9\"  161lbs  Right\n3             D. Yorke   36   68  5'11\"  165lbs  Right\n4              Iniesta   36   81   5'7\"  150lbs  Right\n...                ...  ...  ...    ...     ...    ...\n17120       A. Medioub   22   64   6'6\"  165lbs  Right\n17121       W. Rickard   18   56  5'10\"  170lbs  Right\n17122       C. Barrett   18   56   5'9\"  154lbs  Right\n17123   J. Gazibegović   20   62   5'9\"  148lbs  Right\n17124  Pablo Rodríguez   18   59  5'10\"  154lbs  Right\n\n[17125 rows x 6 columns]",
      "text/html": "<div>\n<style scoped>\n    .dataframe tbody tr th:only-of-type {\n        vertical-align: middle;\n    }\n\n    .dataframe tbody tr th {\n        vertical-align: top;\n    }\n\n    .dataframe thead th {\n        text-align: right;\n    }\n</style>\n<table border=\"1\" class=\"dataframe\">\n  <thead>\n    <tr style=\"text-align: right;\">\n      <th></th>\n      <th>Name</th>\n      <th>Age</th>\n      <th>OVA</th>\n      <th>Height</th>\n      <th>Weight</th>\n      <th>foot</th>\n    </tr>\n  </thead>\n  <tbody>\n    <tr>\n      <th>0</th>\n      <td>G. Pasquale</td>\n      <td>33</td>\n      <td>69</td>\n      <td>6'0\"</td>\n      <td>181lbs</td>\n      <td>Left</td>\n    </tr>\n    <tr>\n      <th>1</th>\n      <td>Luis García</td>\n      <td>37</td>\n      <td>71</td>\n      <td>5'10\"</td>\n      <td>143lbs</td>\n      <td>Right</td>\n    </tr>\n    <tr>\n      <th>2</th>\n      <td>J. Cole</td>\n      <td>33</td>\n      <td>71</td>\n      <td>5'9\"</td>\n      <td>161lbs</td>\n      <td>Right</td>\n    </tr>\n    <tr>\n      <th>3</th>\n      <td>D. Yorke</td>\n      <td>36</td>\n      <td>68</td>\n      <td>5'11\"</td>\n      <td>165lbs</td>\n      <td>Right</td>\n    </tr>\n    <tr>\n      <th>4</th>\n      <td>Iniesta</td>\n      <td>36</td>\n      <td>81</td>\n      <td>5'7\"</td>\n      <td>150lbs</td>\n      <td>Right</td>\n    </tr>\n    <tr>\n      <th>...</th>\n      <td>...</td>\n      <td>...</td>\n      <td>...</td>\n      <td>...</td>\n      <td>...</td>\n      <td>...</td>\n    </tr>\n    <tr>\n      <th>17120</th>\n      <td>A. Medioub</td>\n      <td>22</td>\n      <td>64</td>\n      <td>6'6\"</td>\n      <td>165lbs</td>\n      <td>Right</td>\n    </tr>\n    <tr>\n      <th>17121</th>\n      <td>W. Rickard</td>\n      <td>18</td>\n      <td>56</td>\n      <td>5'10\"</td>\n      <td>170lbs</td>\n      <td>Right</td>\n    </tr>\n    <tr>\n      <th>17122</th>\n      <td>C. Barrett</td>\n      <td>18</td>\n      <td>56</td>\n      <td>5'9\"</td>\n      <td>154lbs</td>\n      <td>Right</td>\n    </tr>\n    <tr>\n      <th>17123</th>\n      <td>J. Gazibegović</td>\n      <td>20</td>\n      <td>62</td>\n      <td>5'9\"</td>\n      <td>148lbs</td>\n      <td>Right</td>\n    </tr>\n    <tr>\n      <th>17124</th>\n      <td>Pablo Rodríguez</td>\n      <td>18</td>\n      <td>59</td>\n      <td>5'10\"</td>\n      <td>154lbs</td>\n      <td>Right</td>\n    </tr>\n  </tbody>\n</table>\n<p>17125 rows × 6 columns</p>\n</div>"
     },
     "metadata": {}
    }
   ],
   "execution_count": null
  },
  {
   "cell_type": "code",
   "metadata": {
    "cell_id": "43da0a78-0dc7-4c9c-842f-5b28bb1398e9",
    "tags": [],
    "deepnote_to_be_reexecuted": false,
    "source_hash": "b73f4a5d",
    "execution_start": 1647525147968,
    "execution_millis": 158,
    "deepnote_cell_type": "code",
    "deepnote_cell_height": 628
   },
   "source": "data.dropna()\ndata.drop_duplicates()",
   "outputs": [
    {
     "output_type": "execute_result",
     "execution_count": 7,
     "data": {
      "application/vnd.deepnote.dataframe.v3+json": {
       "column_count": 6,
       "row_count": 17125,
       "columns": [
        {
         "name": "Name",
         "dtype": "object",
         "stats": {
          "unique_count": 16176,
          "nan_count": 0,
          "categories": [
           {
            "name": "J. Rodríguez",
            "count": 10
           },
           {
            "name": "A. Traoré",
            "count": 8
           },
           {
            "name": "16174 others",
            "count": 17107
           }
          ]
         }
        },
        {
         "name": "Age",
         "dtype": "int64",
         "stats": {
          "unique_count": 30,
          "nan_count": 0,
          "min": "16",
          "max": "53",
          "histogram": [
           {
            "bin_start": 16,
            "bin_end": 19.7,
            "count": 2007
           },
           {
            "bin_start": 19.7,
            "bin_end": 23.4,
            "count": 5151
           },
           {
            "bin_start": 23.4,
            "bin_end": 27.1,
            "count": 4449
           },
           {
            "bin_start": 27.1,
            "bin_end": 30.8,
            "count": 2674
           },
           {
            "bin_start": 30.8,
            "bin_end": 34.5,
            "count": 2143
           },
           {
            "bin_start": 34.5,
            "bin_end": 38.2,
            "count": 620
           },
           {
            "bin_start": 38.2,
            "bin_end": 41.900000000000006,
            "count": 68
           },
           {
            "bin_start": 41.900000000000006,
            "bin_end": 45.6,
            "count": 11
           },
           {
            "bin_start": 45.6,
            "bin_end": 49.300000000000004,
            "count": 1
           },
           {
            "bin_start": 49.300000000000004,
            "bin_end": 53,
            "count": 1
           }
          ]
         }
        },
        {
         "name": "OVA",
         "dtype": "int64",
         "stats": {
          "unique_count": 50,
          "nan_count": 0,
          "min": "38",
          "max": "93",
          "histogram": [
           {
            "bin_start": 38,
            "bin_end": 43.5,
            "count": 2
           },
           {
            "bin_start": 43.5,
            "bin_end": 49,
            "count": 33
           },
           {
            "bin_start": 49,
            "bin_end": 54.5,
            "count": 611
           },
           {
            "bin_start": 54.5,
            "bin_end": 60,
            "count": 1671
           },
           {
            "bin_start": 60,
            "bin_end": 65.5,
            "count": 4857
           },
           {
            "bin_start": 65.5,
            "bin_end": 71,
            "count": 4776
           },
           {
            "bin_start": 71,
            "bin_end": 76.5,
            "count": 3808
           },
           {
            "bin_start": 76.5,
            "bin_end": 82,
            "count": 1059
           },
           {
            "bin_start": 82,
            "bin_end": 87.5,
            "count": 279
           },
           {
            "bin_start": 87.5,
            "bin_end": 93,
            "count": 29
           }
          ]
         }
        },
        {
         "name": "Height",
         "dtype": "object",
         "stats": {
          "unique_count": 21,
          "nan_count": 0,
          "categories": [
           {
            "name": "6'0\"",
            "count": 2583
           },
           {
            "name": "5'10\"",
            "count": 2418
           },
           {
            "name": "19 others",
            "count": 12124
           }
          ]
         }
        },
        {
         "name": "Weight",
         "dtype": "object",
         "stats": {
          "unique_count": 57,
          "nan_count": 0,
          "categories": [
           {
            "name": "154lbs",
            "count": 1342
           },
           {
            "name": "165lbs",
            "count": 1297
           },
           {
            "name": "55 others",
            "count": 14486
           }
          ]
         }
        },
        {
         "name": "foot",
         "dtype": "object"
        },
        {
         "name": "_deepnote_index_column",
         "dtype": "int64"
        }
       ],
       "rows": [
        {
         "Name": "G. Pasquale",
         "Age": 33,
         "OVA": 69,
         "Height": "6'0\"",
         "Weight": "181lbs",
         "foot": "Left",
         "_deepnote_index_column": 0
        },
        {
         "Name": "Luis García",
         "Age": 37,
         "OVA": 71,
         "Height": "5'10\"",
         "Weight": "143lbs",
         "foot": "Right",
         "_deepnote_index_column": 1
        },
        {
         "Name": "J. Cole",
         "Age": 33,
         "OVA": 71,
         "Height": "5'9\"",
         "Weight": "161lbs",
         "foot": "Right",
         "_deepnote_index_column": 2
        },
        {
         "Name": "D. Yorke",
         "Age": 36,
         "OVA": 68,
         "Height": "5'11\"",
         "Weight": "165lbs",
         "foot": "Right",
         "_deepnote_index_column": 3
        },
        {
         "Name": "Iniesta",
         "Age": 36,
         "OVA": 81,
         "Height": "5'7\"",
         "Weight": "150lbs",
         "foot": "Right",
         "_deepnote_index_column": 4
        },
        {
         "Name": "D. Odonkor",
         "Age": 27,
         "OVA": 66,
         "Height": "5'8\"",
         "Weight": "163lbs",
         "foot": "Right",
         "_deepnote_index_column": 5
        },
        {
         "Name": "E. Belözoğlu",
         "Age": 38,
         "OVA": 77,
         "Height": "5'7\"",
         "Weight": "159lbs",
         "foot": "Left",
         "_deepnote_index_column": 6
        },
        {
         "Name": "R. Giggs",
         "Age": 39,
         "OVA": 78,
         "Height": "5'10\"",
         "Weight": "157lbs",
         "foot": "Left",
         "_deepnote_index_column": 7
        },
        {
         "Name": "G. Neville  B",
         "Age": 35,
         "OVA": 76,
         "Height": "5'10\"",
         "Weight": "174lbs",
         "foot": "Right",
         "_deepnote_index_column": 8
        },
        {
         "Name": "P. Scholes",
         "Age": 37,
         "OVA": 80,
         "Height": "5'7\"",
         "Weight": "157lbs",
         "foot": "Right",
         "_deepnote_index_column": 9
        }
       ]
      },
      "text/plain": "                  Name  Age  OVA Height  Weight   foot\n0          G. Pasquale   33   69   6'0\"  181lbs   Left\n1          Luis García   37   71  5'10\"  143lbs  Right\n2              J. Cole   33   71   5'9\"  161lbs  Right\n3             D. Yorke   36   68  5'11\"  165lbs  Right\n4              Iniesta   36   81   5'7\"  150lbs  Right\n...                ...  ...  ...    ...     ...    ...\n17120       A. Medioub   22   64   6'6\"  165lbs  Right\n17121       W. Rickard   18   56  5'10\"  170lbs  Right\n17122       C. Barrett   18   56   5'9\"  154lbs  Right\n17123   J. Gazibegović   20   62   5'9\"  148lbs  Right\n17124  Pablo Rodríguez   18   59  5'10\"  154lbs  Right\n\n[17125 rows x 6 columns]",
      "text/html": "<div>\n<style scoped>\n    .dataframe tbody tr th:only-of-type {\n        vertical-align: middle;\n    }\n\n    .dataframe tbody tr th {\n        vertical-align: top;\n    }\n\n    .dataframe thead th {\n        text-align: right;\n    }\n</style>\n<table border=\"1\" class=\"dataframe\">\n  <thead>\n    <tr style=\"text-align: right;\">\n      <th></th>\n      <th>Name</th>\n      <th>Age</th>\n      <th>OVA</th>\n      <th>Height</th>\n      <th>Weight</th>\n      <th>foot</th>\n    </tr>\n  </thead>\n  <tbody>\n    <tr>\n      <th>0</th>\n      <td>G. Pasquale</td>\n      <td>33</td>\n      <td>69</td>\n      <td>6'0\"</td>\n      <td>181lbs</td>\n      <td>Left</td>\n    </tr>\n    <tr>\n      <th>1</th>\n      <td>Luis García</td>\n      <td>37</td>\n      <td>71</td>\n      <td>5'10\"</td>\n      <td>143lbs</td>\n      <td>Right</td>\n    </tr>\n    <tr>\n      <th>2</th>\n      <td>J. Cole</td>\n      <td>33</td>\n      <td>71</td>\n      <td>5'9\"</td>\n      <td>161lbs</td>\n      <td>Right</td>\n    </tr>\n    <tr>\n      <th>3</th>\n      <td>D. Yorke</td>\n      <td>36</td>\n      <td>68</td>\n      <td>5'11\"</td>\n      <td>165lbs</td>\n      <td>Right</td>\n    </tr>\n    <tr>\n      <th>4</th>\n      <td>Iniesta</td>\n      <td>36</td>\n      <td>81</td>\n      <td>5'7\"</td>\n      <td>150lbs</td>\n      <td>Right</td>\n    </tr>\n    <tr>\n      <th>...</th>\n      <td>...</td>\n      <td>...</td>\n      <td>...</td>\n      <td>...</td>\n      <td>...</td>\n      <td>...</td>\n    </tr>\n    <tr>\n      <th>17120</th>\n      <td>A. Medioub</td>\n      <td>22</td>\n      <td>64</td>\n      <td>6'6\"</td>\n      <td>165lbs</td>\n      <td>Right</td>\n    </tr>\n    <tr>\n      <th>17121</th>\n      <td>W. Rickard</td>\n      <td>18</td>\n      <td>56</td>\n      <td>5'10\"</td>\n      <td>170lbs</td>\n      <td>Right</td>\n    </tr>\n    <tr>\n      <th>17122</th>\n      <td>C. Barrett</td>\n      <td>18</td>\n      <td>56</td>\n      <td>5'9\"</td>\n      <td>154lbs</td>\n      <td>Right</td>\n    </tr>\n    <tr>\n      <th>17123</th>\n      <td>J. Gazibegović</td>\n      <td>20</td>\n      <td>62</td>\n      <td>5'9\"</td>\n      <td>148lbs</td>\n      <td>Right</td>\n    </tr>\n    <tr>\n      <th>17124</th>\n      <td>Pablo Rodríguez</td>\n      <td>18</td>\n      <td>59</td>\n      <td>5'10\"</td>\n      <td>154lbs</td>\n      <td>Right</td>\n    </tr>\n  </tbody>\n</table>\n<p>17125 rows × 6 columns</p>\n</div>"
     },
     "metadata": {}
    }
   ],
   "execution_count": null
  },
  {
   "cell_type": "markdown",
   "source": "The result shows us that there are not duplicates or NA values. If we look at the description, we can find that there are a lot of NA values in the original data frame, but the columns we selected are complete.",
   "metadata": {
    "cell_id": "0686980a-28d9-412b-97ad-b6c923c08d36",
    "tags": [],
    "is_collapsed": false,
    "deepnote_cell_type": "text-cell-p",
    "deepnote_cell_height": 97.19999694824219
   }
  },
  {
   "cell_type": "markdown",
   "source": "### Analysis of physical aspects",
   "metadata": {
    "cell_id": "d9f12fc2-aebf-4a0a-ac68-2b162f7b509d",
    "tags": [],
    "is_collapsed": false,
    "deepnote_cell_type": "text-cell-h3",
    "deepnote_cell_height": 62
   }
  },
  {
   "cell_type": "markdown",
   "source": "In the original data set we have a bunch of columns, but I'm going to look only at how physical aspects can affect the over all ranking of players. We have the following physical aspects: Height, Weight, Age and Foot (there are other physical aspects that are more subjective and because of that they are not going to be analyzed on this work).",
   "metadata": {
    "cell_id": "540a2f1a-61c4-4c2f-b6df-f1526bfe35b7",
    "tags": [],
    "is_collapsed": false,
    "deepnote_cell_type": "text-cell-p",
    "deepnote_cell_height": 119.60000610351562
   }
  },
  {
   "cell_type": "markdown",
   "source": "### Main foot",
   "metadata": {
    "cell_id": "ae587678-852c-417f-be32-36999c44a40e",
    "tags": [],
    "is_collapsed": false,
    "deepnote_cell_type": "text-cell-h3",
    "deepnote_cell_height": 62
   }
  },
  {
   "cell_type": "code",
   "metadata": {
    "cell_id": "d7ee2e0e-3007-441f-b969-550827902511",
    "tags": [],
    "deepnote_to_be_reexecuted": false,
    "source_hash": "72973614",
    "execution_start": 1647525148130,
    "execution_millis": 516,
    "deepnote_cell_type": "code",
    "deepnote_cell_height": 653,
    "deepnote_output_heights": [
     304
    ]
   },
   "source": "left = data.loc[data['foot'] == 'Left'].count()[0]\nright = data.loc[data['foot'] == 'Right'].count()[0]\n\nplt.figure(figsize=(8,5))\n\nlabels = ['Left', 'Right']\ncolors = ['indianred', 'royalblue']\n\nplt.pie([left, right], labels = labels, colors=colors, autopct='%.2f %%')\n\nplt.title('Foot Preference of FIFA Players')\n\nplt.show()\n\n",
   "outputs": [
    {
     "data": {
      "text/plain": "<Figure size 576x360 with 1 Axes>",
      "image/png": "[encoded data removed]"
     },
     "metadata": {
      "image/png": {
       "width": 286,
       "height": 302
      }
     },
     "output_type": "display_data"
    }
   ],
   "execution_count": null
  },
  {
   "cell_type": "code",
   "metadata": {
    "cell_id": "3b223e8f-c547-48ba-9f11-b2cb158e5a16",
    "tags": [],
    "deepnote_to_be_reexecuted": false,
    "source_hash": "4a21720a",
    "execution_start": 1647525148569,
    "execution_millis": 349,
    "deepnote_cell_type": "code",
    "deepnote_cell_height": 360
   },
   "source": "#Data frame to count the average OVA per main foot\ndf = pd.DataFrame()\ndf['OVA_mean'] = data.groupby(['foot']).OVA.mean()\ndf.reset_index(inplace = True)\n\ndf",
   "outputs": [
    {
     "output_type": "execute_result",
     "execution_count": 9,
     "data": {
      "application/vnd.deepnote.dataframe.v3+json": {
       "column_count": 2,
       "row_count": 2,
       "columns": [
        {
         "name": "foot",
         "dtype": "object",
         "stats": {
          "unique_count": 2,
          "nan_count": 0,
          "categories": [
           {
            "name": "Left",
            "count": 1
           },
           {
            "name": "Right",
            "count": 1
           }
          ]
         }
        },
        {
         "name": "OVA_mean",
         "dtype": "float64",
         "stats": {
          "unique_count": 2,
          "nan_count": 0,
          "min": "66.89880675654734",
          "max": "67.16757525479971",
          "histogram": [
           {
            "bin_start": 66.89880675654734,
            "bin_end": 66.92568360637259,
            "count": 1
           },
           {
            "bin_start": 66.92568360637259,
            "bin_end": 66.95256045619782,
            "count": 0
           },
           {
            "bin_start": 66.95256045619782,
            "bin_end": 66.97943730602306,
            "count": 0
           },
           {
            "bin_start": 66.97943730602306,
            "bin_end": 67.00631415584829,
            "count": 0
           },
           {
            "bin_start": 67.00631415584829,
            "bin_end": 67.03319100567353,
            "count": 0
           },
           {
            "bin_start": 67.03319100567353,
            "bin_end": 67.06006785549877,
            "count": 0
           },
           {
            "bin_start": 67.06006785549877,
            "bin_end": 67.086944705324,
            "count": 0
           },
           {
            "bin_start": 67.086944705324,
            "bin_end": 67.11382155514924,
            "count": 0
           },
           {
            "bin_start": 67.11382155514924,
            "bin_end": 67.14069840497447,
            "count": 0
           },
           {
            "bin_start": 67.14069840497447,
            "bin_end": 67.16757525479971,
            "count": 1
           }
          ]
         }
        },
        {
         "name": "_deepnote_index_column",
         "dtype": "int64"
        }
       ],
       "rows": [
        {
         "foot": "Left",
         "OVA_mean": 67.16757525479971,
         "_deepnote_index_column": 0
        },
        {
         "foot": "Right",
         "OVA_mean": 66.89880675654734,
         "_deepnote_index_column": 1
        }
       ]
      },
      "text/plain": "    foot   OVA_mean\n0   Left  67.167575\n1  Right  66.898807",
      "text/html": "<div>\n<style scoped>\n    .dataframe tbody tr th:only-of-type {\n        vertical-align: middle;\n    }\n\n    .dataframe tbody tr th {\n        vertical-align: top;\n    }\n\n    .dataframe thead th {\n        text-align: right;\n    }\n</style>\n<table border=\"1\" class=\"dataframe\">\n  <thead>\n    <tr style=\"text-align: right;\">\n      <th></th>\n      <th>foot</th>\n      <th>OVA_mean</th>\n    </tr>\n  </thead>\n  <tbody>\n    <tr>\n      <th>0</th>\n      <td>Left</td>\n      <td>67.167575</td>\n    </tr>\n    <tr>\n      <th>1</th>\n      <td>Right</td>\n      <td>66.898807</td>\n    </tr>\n  </tbody>\n</table>\n</div>"
     },
     "metadata": {}
    }
   ],
   "execution_count": null
  },
  {
   "cell_type": "code",
   "metadata": {
    "cell_id": "cf1fec48-7f7a-4e44-90d8-1f1a883c994e",
    "tags": [],
    "deepnote_to_be_reexecuted": false,
    "source_hash": "584362c9",
    "execution_start": 1647525148570,
    "execution_millis": 376,
    "deepnote_cell_type": "code",
    "deepnote_cell_height": 549,
    "deepnote_output_heights": [
     362
    ]
   },
   "source": "\nplt.bar(df['foot'], df['OVA_mean'], color =['indianred', 'royalblue'])\nplt.xlabel(\"Main foot\")\nplt.ylabel(\"Overall ranking\")\nplt.title(\"Average ranking per main foot\")\nplt.show()",
   "outputs": [
    {
     "data": {
      "text/plain": "<Figure size 576x396 with 1 Axes>",
      "image/png": "[encoded data removed]"
     },
     "metadata": {
      "image/png": {
       "width": 494,
       "height": 360
      }
     },
     "output_type": "display_data"
    }
   ],
   "execution_count": null
  },
  {
   "cell_type": "markdown",
   "source": "The data shows that the main foot of the player doesn't have correlation with how good a player is.",
   "metadata": {
    "cell_id": "c07673db-a92c-483e-b667-1cb6f0690754",
    "tags": [],
    "is_collapsed": false,
    "deepnote_cell_type": "text-cell-p",
    "deepnote_cell_height": 52.399993896484375
   }
  },
  {
   "cell_type": "markdown",
   "source": "### Weight",
   "metadata": {
    "cell_id": "204c443c-19e4-4568-a488-22a616b5b859",
    "tags": [],
    "is_collapsed": false,
    "deepnote_cell_type": "text-cell-h3",
    "deepnote_cell_height": 62
   }
  },
  {
   "cell_type": "code",
   "metadata": {
    "cell_id": "78befc93-9627-4285-bcec-dfbe10ec7b08",
    "tags": [],
    "deepnote_to_be_reexecuted": false,
    "source_hash": "793f5840",
    "execution_start": 1647525148816,
    "execution_millis": 134,
    "deepnote_cell_type": "code",
    "deepnote_cell_height": 401,
    "deepnote_output_heights": [
     232
    ]
   },
   "source": "#It's necessary to erase the lbs string of the Weight column, to treat the values as numbers.\ndata.Weight = [int(x.strip('lbs')) if type(x)==str else x for x in data.Weight]\ndata.Weight = ((data.Weight)/2.2046).round(2)\n\ndata.Weight",
   "outputs": [
    {
     "output_type": "execute_result",
     "execution_count": 11,
     "data": {
      "text/plain": "0        82.10\n1        64.86\n2        73.03\n3        74.84\n4        68.04\n         ...  \n17120    74.84\n17121    77.11\n17122    69.85\n17123    67.13\n17124    69.85\nName: Weight, Length: 17125, dtype: float64"
     },
     "metadata": {}
    }
   ],
   "execution_count": null
  },
  {
   "cell_type": "code",
   "metadata": {
    "cell_id": "53848ced-fc1a-44f8-a6e8-714705b44380",
    "tags": [],
    "deepnote_to_be_reexecuted": false,
    "source_hash": "9956e316",
    "execution_start": 1647525148894,
    "execution_millis": 244,
    "deepnote_cell_type": "code",
    "deepnote_cell_height": 880
   },
   "source": "#Make weight categories to understand data better\ncathegory = []\nfor i in data['Weight']:\n    if i < 60:\n        cathegory.append(\"<60\")\n    elif 60 <= i < 70:\n        cathegory.append(\"60-70\")\n    elif 70 <= i < 80:\n        cathegory.append(\"70-80\")\n    elif 80 <= i < 90:\n        cathegory.append(\"80-90\")\n    else:\n        cathegory.append(\">90\")\n\ndata[\"Weight_cathegory\"] = cathegory \ndata",
   "outputs": [
    {
     "output_type": "execute_result",
     "execution_count": 12,
     "data": {
      "application/vnd.deepnote.dataframe.v3+json": {
       "column_count": 7,
       "row_count": 17125,
       "columns": [
        {
         "name": "Name",
         "dtype": "object",
         "stats": {
          "unique_count": 16176,
          "nan_count": 0,
          "categories": [
           {
            "name": "J. Rodríguez",
            "count": 10
           },
           {
            "name": "A. Traoré",
            "count": 8
           },
           {
            "name": "16174 others",
            "count": 17107
           }
          ]
         }
        },
        {
         "name": "Age",
         "dtype": "int64",
         "stats": {
          "unique_count": 30,
          "nan_count": 0,
          "min": "16",
          "max": "53",
          "histogram": [
           {
            "bin_start": 16,
            "bin_end": 19.7,
            "count": 2007
           },
           {
            "bin_start": 19.7,
            "bin_end": 23.4,
            "count": 5151
           },
           {
            "bin_start": 23.4,
            "bin_end": 27.1,
            "count": 4449
           },
           {
            "bin_start": 27.1,
            "bin_end": 30.8,
            "count": 2674
           },
           {
            "bin_start": 30.8,
            "bin_end": 34.5,
            "count": 2143
           },
           {
            "bin_start": 34.5,
            "bin_end": 38.2,
            "count": 620
           },
           {
            "bin_start": 38.2,
            "bin_end": 41.900000000000006,
            "count": 68
           },
           {
            "bin_start": 41.900000000000006,
            "bin_end": 45.6,
            "count": 11
           },
           {
            "bin_start": 45.6,
            "bin_end": 49.300000000000004,
            "count": 1
           },
           {
            "bin_start": 49.300000000000004,
            "bin_end": 53,
            "count": 1
           }
          ]
         }
        },
        {
         "name": "OVA",
         "dtype": "int64",
         "stats": {
          "unique_count": 50,
          "nan_count": 0,
          "min": "38",
          "max": "93",
          "histogram": [
           {
            "bin_start": 38,
            "bin_end": 43.5,
            "count": 2
           },
           {
            "bin_start": 43.5,
            "bin_end": 49,
            "count": 33
           },
           {
            "bin_start": 49,
            "bin_end": 54.5,
            "count": 611
           },
           {
            "bin_start": 54.5,
            "bin_end": 60,
            "count": 1671
           },
           {
            "bin_start": 60,
            "bin_end": 65.5,
            "count": 4857
           },
           {
            "bin_start": 65.5,
            "bin_end": 71,
            "count": 4776
           },
           {
            "bin_start": 71,
            "bin_end": 76.5,
            "count": 3808
           },
           {
            "bin_start": 76.5,
            "bin_end": 82,
            "count": 1059
           },
           {
            "bin_start": 82,
            "bin_end": 87.5,
            "count": 279
           },
           {
            "bin_start": 87.5,
            "bin_end": 93,
            "count": 29
           }
          ]
         }
        },
        {
         "name": "Height",
         "dtype": "object",
         "stats": {
          "unique_count": 21,
          "nan_count": 0,
          "categories": [
           {
            "name": "6'0\"",
            "count": 2583
           },
           {
            "name": "5'10\"",
            "count": 2418
           },
           {
            "name": "19 others",
            "count": 12124
           }
          ]
         }
        },
        {
         "name": "Weight",
         "dtype": "float64",
         "stats": {
          "unique_count": 57,
          "nan_count": 0,
          "min": "49.9",
          "max": "110.22",
          "histogram": [
           {
            "bin_start": 49.9,
            "bin_end": 55.932,
            "count": 34
           },
           {
            "bin_start": 55.932,
            "bin_end": 61.964,
            "count": 339
           },
           {
            "bin_start": 61.964,
            "bin_end": 67.996,
            "count": 1948
           },
           {
            "bin_start": 67.996,
            "bin_end": 74.02799999999999,
            "count": 5765
           },
           {
            "bin_start": 74.02799999999999,
            "bin_end": 80.06,
            "count": 5415
           },
           {
            "bin_start": 80.06,
            "bin_end": 86.092,
            "count": 2269
           },
           {
            "bin_start": 86.092,
            "bin_end": 92.124,
            "count": 1156
           },
           {
            "bin_start": 92.124,
            "bin_end": 98.156,
            "count": 167
           },
           {
            "bin_start": 98.156,
            "bin_end": 104.18799999999999,
            "count": 28
           },
           {
            "bin_start": 104.18799999999999,
            "bin_end": 110.22,
            "count": 4
           }
          ]
         }
        },
        {
         "name": "foot",
         "dtype": "object"
        },
        {
         "name": "Weight_cathegory",
         "dtype": "object"
        },
        {
         "name": "_deepnote_index_column",
         "dtype": "int64"
        }
       ],
       "rows": [
        {
         "Name": "G. Pasquale",
         "Age": 33,
         "OVA": 69,
         "Height": "6'0\"",
         "Weight": 82.1,
         "foot": "Left",
         "Weight_cathegory": "80-90",
         "_deepnote_index_column": 0
        },
        {
         "Name": "Luis García",
         "Age": 37,
         "OVA": 71,
         "Height": "5'10\"",
         "Weight": 64.86,
         "foot": "Right",
         "Weight_cathegory": "60-70",
         "_deepnote_index_column": 1
        },
        {
         "Name": "J. Cole",
         "Age": 33,
         "OVA": 71,
         "Height": "5'9\"",
         "Weight": 73.03,
         "foot": "Right",
         "Weight_cathegory": "70-80",
         "_deepnote_index_column": 2
        },
        {
         "Name": "D. Yorke",
         "Age": 36,
         "OVA": 68,
         "Height": "5'11\"",
         "Weight": 74.84,
         "foot": "Right",
         "Weight_cathegory": "70-80",
         "_deepnote_index_column": 3
        },
        {
         "Name": "Iniesta",
         "Age": 36,
         "OVA": 81,
         "Height": "5'7\"",
         "Weight": 68.04,
         "foot": "Right",
         "Weight_cathegory": "60-70",
         "_deepnote_index_column": 4
        },
        {
         "Name": "D. Odonkor",
         "Age": 27,
         "OVA": 66,
         "Height": "5'8\"",
         "Weight": 73.94,
         "foot": "Right",
         "Weight_cathegory": "70-80",
         "_deepnote_index_column": 5
        },
        {
         "Name": "E. Belözoğlu",
         "Age": 38,
         "OVA": 77,
         "Height": "5'7\"",
         "Weight": 72.12,
         "foot": "Left",
         "Weight_cathegory": "70-80",
         "_deepnote_index_column": 6
        },
        {
         "Name": "R. Giggs",
         "Age": 39,
         "OVA": 78,
         "Height": "5'10\"",
         "Weight": 71.21,
         "foot": "Left",
         "Weight_cathegory": "70-80",
         "_deepnote_index_column": 7
        },
        {
         "Name": "G. Neville  B",
         "Age": 35,
         "OVA": 76,
         "Height": "5'10\"",
         "Weight": 78.93,
         "foot": "Right",
         "Weight_cathegory": "70-80",
         "_deepnote_index_column": 8
        },
        {
         "Name": "P. Scholes",
         "Age": 37,
         "OVA": 80,
         "Height": "5'7\"",
         "Weight": 71.21,
         "foot": "Right",
         "Weight_cathegory": "70-80",
         "_deepnote_index_column": 9
        }
       ]
      },
      "text/plain": "                  Name  Age  OVA Height  Weight   foot Weight_cathegory\n0          G. Pasquale   33   69   6'0\"   82.10   Left            80-90\n1          Luis García   37   71  5'10\"   64.86  Right            60-70\n2              J. Cole   33   71   5'9\"   73.03  Right            70-80\n3             D. Yorke   36   68  5'11\"   74.84  Right            70-80\n4              Iniesta   36   81   5'7\"   68.04  Right            60-70\n...                ...  ...  ...    ...     ...    ...              ...\n17120       A. Medioub   22   64   6'6\"   74.84  Right            70-80\n17121       W. Rickard   18   56  5'10\"   77.11  Right            70-80\n17122       C. Barrett   18   56   5'9\"   69.85  Right            60-70\n17123   J. Gazibegović   20   62   5'9\"   67.13  Right            60-70\n17124  Pablo Rodríguez   18   59  5'10\"   69.85  Right            60-70\n\n[17125 rows x 7 columns]",
      "text/html": "<div>\n<style scoped>\n    .dataframe tbody tr th:only-of-type {\n        vertical-align: middle;\n    }\n\n    .dataframe tbody tr th {\n        vertical-align: top;\n    }\n\n    .dataframe thead th {\n        text-align: right;\n    }\n</style>\n<table border=\"1\" class=\"dataframe\">\n  <thead>\n    <tr style=\"text-align: right;\">\n      <th></th>\n      <th>Name</th>\n      <th>Age</th>\n      <th>OVA</th>\n      <th>Height</th>\n      <th>Weight</th>\n      <th>foot</th>\n      <th>Weight_cathegory</th>\n    </tr>\n  </thead>\n  <tbody>\n    <tr>\n      <th>0</th>\n      <td>G. Pasquale</td>\n      <td>33</td>\n      <td>69</td>\n      <td>6'0\"</td>\n      <td>82.10</td>\n      <td>Left</td>\n      <td>80-90</td>\n    </tr>\n    <tr>\n      <th>1</th>\n      <td>Luis García</td>\n      <td>37</td>\n      <td>71</td>\n      <td>5'10\"</td>\n      <td>64.86</td>\n      <td>Right</td>\n      <td>60-70</td>\n    </tr>\n    <tr>\n      <th>2</th>\n      <td>J. Cole</td>\n      <td>33</td>\n      <td>71</td>\n      <td>5'9\"</td>\n      <td>73.03</td>\n      <td>Right</td>\n      <td>70-80</td>\n    </tr>\n    <tr>\n      <th>3</th>\n      <td>D. Yorke</td>\n      <td>36</td>\n      <td>68</td>\n      <td>5'11\"</td>\n      <td>74.84</td>\n      <td>Right</td>\n      <td>70-80</td>\n    </tr>\n    <tr>\n      <th>4</th>\n      <td>Iniesta</td>\n      <td>36</td>\n      <td>81</td>\n      <td>5'7\"</td>\n      <td>68.04</td>\n      <td>Right</td>\n      <td>60-70</td>\n    </tr>\n    <tr>\n      <th>...</th>\n      <td>...</td>\n      <td>...</td>\n      <td>...</td>\n      <td>...</td>\n      <td>...</td>\n      <td>...</td>\n      <td>...</td>\n    </tr>\n    <tr>\n      <th>17120</th>\n      <td>A. Medioub</td>\n      <td>22</td>\n      <td>64</td>\n      <td>6'6\"</td>\n      <td>74.84</td>\n      <td>Right</td>\n      <td>70-80</td>\n    </tr>\n    <tr>\n      <th>17121</th>\n      <td>W. Rickard</td>\n      <td>18</td>\n      <td>56</td>\n      <td>5'10\"</td>\n      <td>77.11</td>\n      <td>Right</td>\n      <td>70-80</td>\n    </tr>\n    <tr>\n      <th>17122</th>\n      <td>C. Barrett</td>\n      <td>18</td>\n      <td>56</td>\n      <td>5'9\"</td>\n      <td>69.85</td>\n      <td>Right</td>\n      <td>60-70</td>\n    </tr>\n    <tr>\n      <th>17123</th>\n      <td>J. Gazibegović</td>\n      <td>20</td>\n      <td>62</td>\n      <td>5'9\"</td>\n      <td>67.13</td>\n      <td>Right</td>\n      <td>60-70</td>\n    </tr>\n    <tr>\n      <th>17124</th>\n      <td>Pablo Rodríguez</td>\n      <td>18</td>\n      <td>59</td>\n      <td>5'10\"</td>\n      <td>69.85</td>\n      <td>Right</td>\n      <td>60-70</td>\n    </tr>\n  </tbody>\n</table>\n<p>17125 rows × 7 columns</p>\n</div>"
     },
     "metadata": {}
    }
   ],
   "execution_count": null
  },
  {
   "cell_type": "code",
   "metadata": {
    "cell_id": "71c1d406-4eee-4bc8-ae61-e9422f5a4416",
    "tags": [],
    "deepnote_to_be_reexecuted": false,
    "source_hash": "5fca2ed9",
    "execution_start": 1647525149152,
    "execution_millis": 79,
    "deepnote_table_state": {
     "pageSize": 10,
     "pageIndex": 0,
     "filters": [],
     "sortBy": [
      {
       "id": "cathegory",
       "type": "asc"
      }
     ]
    },
    "deepnote_table_loading": false,
    "deepnote_cell_type": "code",
    "deepnote_cell_height": 501
   },
   "source": "#New data frame to extract useful information from the biggest data frame (a pivot table)\ndf2 = pd.DataFrame()\ndf2['OVA_mean'] = data.groupby(['Weight_cathegory']).OVA.mean().round(2)\ndf2['N_players'] = data.groupby(['Weight_cathegory']).Weight_cathegory.count()\ndf2.reset_index(inplace = True)\n\ndf2",
   "outputs": [
    {
     "output_type": "execute_result",
     "execution_count": 13,
     "data": {
      "application/vnd.deepnote.dataframe.v3+json": {
       "column_count": 3,
       "row_count": 5,
       "columns": [
        {
         "name": "Weight_cathegory",
         "dtype": "object",
         "stats": {
          "unique_count": 5,
          "nan_count": 0,
          "categories": [
           {
            "name": "60-70",
            "count": 1
           },
           {
            "name": "70-80",
            "count": 1
           },
           {
            "name": "3 others",
            "count": 3
           }
          ]
         }
        },
        {
         "name": "OVA_mean",
         "dtype": "float64",
         "stats": {
          "unique_count": 5,
          "nan_count": 0,
          "min": "63.66",
          "max": "69.91",
          "histogram": [
           {
            "bin_start": 63.66,
            "bin_end": 64.285,
            "count": 1
           },
           {
            "bin_start": 64.285,
            "bin_end": 64.91,
            "count": 0
           },
           {
            "bin_start": 64.91,
            "bin_end": 65.535,
            "count": 0
           },
           {
            "bin_start": 65.535,
            "bin_end": 66.16,
            "count": 1
           },
           {
            "bin_start": 66.16,
            "bin_end": 66.785,
            "count": 0
           },
           {
            "bin_start": 66.785,
            "bin_end": 67.41,
            "count": 1
           },
           {
            "bin_start": 67.41,
            "bin_end": 68.035,
            "count": 0
           },
           {
            "bin_start": 68.035,
            "bin_end": 68.66,
            "count": 1
           },
           {
            "bin_start": 68.66,
            "bin_end": 69.285,
            "count": 0
           },
           {
            "bin_start": 69.285,
            "bin_end": 69.91,
            "count": 1
           }
          ]
         }
        },
        {
         "name": "N_players",
         "dtype": "int64",
         "stats": {
          "unique_count": 5,
          "nan_count": 0,
          "min": "265",
          "max": "8655",
          "histogram": [
           {
            "bin_start": 265,
            "bin_end": 1104,
            "count": 2
           },
           {
            "bin_start": 1104,
            "bin_end": 1943,
            "count": 0
           },
           {
            "bin_start": 1943,
            "bin_end": 2782,
            "count": 0
           },
           {
            "bin_start": 2782,
            "bin_end": 3621,
            "count": 1
           },
           {
            "bin_start": 3621,
            "bin_end": 4460,
            "count": 0
           },
           {
            "bin_start": 4460,
            "bin_end": 5299,
            "count": 1
           },
           {
            "bin_start": 5299,
            "bin_end": 6138,
            "count": 0
           },
           {
            "bin_start": 6138,
            "bin_end": 6977,
            "count": 0
           },
           {
            "bin_start": 6977,
            "bin_end": 7816,
            "count": 0
           },
           {
            "bin_start": 7816,
            "bin_end": 8655,
            "count": 1
           }
          ]
         }
        },
        {
         "name": "_deepnote_index_column",
         "dtype": "int64"
        }
       ],
       "rows": [
        {
         "Weight_cathegory": "60-70",
         "OVA_mean": 65.86,
         "N_players": 4581,
         "_deepnote_index_column": 0
        },
        {
         "Weight_cathegory": "70-80",
         "OVA_mean": 66.97,
         "N_players": 8655,
         "_deepnote_index_column": 1
        },
        {
         "Weight_cathegory": "80-90",
         "OVA_mean": 68.45,
         "N_players": 3270,
         "_deepnote_index_column": 2
        },
        {
         "Weight_cathegory": "<60",
         "OVA_mean": 63.66,
         "N_players": 265,
         "_deepnote_index_column": 3
        },
        {
         "Weight_cathegory": ">90",
         "OVA_mean": 69.91,
         "N_players": 354,
         "_deepnote_index_column": 4
        }
       ]
      },
      "text/plain": "  Weight_cathegory  OVA_mean  N_players\n0            60-70     65.86       4581\n1            70-80     66.97       8655\n2            80-90     68.45       3270\n3              <60     63.66        265\n4              >90     69.91        354",
      "text/html": "<div>\n<style scoped>\n    .dataframe tbody tr th:only-of-type {\n        vertical-align: middle;\n    }\n\n    .dataframe tbody tr th {\n        vertical-align: top;\n    }\n\n    .dataframe thead th {\n        text-align: right;\n    }\n</style>\n<table border=\"1\" class=\"dataframe\">\n  <thead>\n    <tr style=\"text-align: right;\">\n      <th></th>\n      <th>Weight_cathegory</th>\n      <th>OVA_mean</th>\n      <th>N_players</th>\n    </tr>\n  </thead>\n  <tbody>\n    <tr>\n      <th>0</th>\n      <td>60-70</td>\n      <td>65.86</td>\n      <td>4581</td>\n    </tr>\n    <tr>\n      <th>1</th>\n      <td>70-80</td>\n      <td>66.97</td>\n      <td>8655</td>\n    </tr>\n    <tr>\n      <th>2</th>\n      <td>80-90</td>\n      <td>68.45</td>\n      <td>3270</td>\n    </tr>\n    <tr>\n      <th>3</th>\n      <td>&lt;60</td>\n      <td>63.66</td>\n      <td>265</td>\n    </tr>\n    <tr>\n      <th>4</th>\n      <td>&gt;90</td>\n      <td>69.91</td>\n      <td>354</td>\n    </tr>\n  </tbody>\n</table>\n</div>"
     },
     "metadata": {}
    }
   ],
   "execution_count": null
  },
  {
   "cell_type": "code",
   "metadata": {
    "cell_id": "faf26fa8-208f-4bf7-99b8-4197a21434ec",
    "tags": [],
    "deepnote_to_be_reexecuted": false,
    "source_hash": "6a3ecb88",
    "execution_start": 1647525149229,
    "execution_millis": 11,
    "deepnote_cell_type": "code",
    "deepnote_cell_height": 81
   },
   "source": "df2 = df2.sort_values(by = ['OVA_mean'], ascending=False)",
   "outputs": [],
   "execution_count": null
  },
  {
   "cell_type": "code",
   "metadata": {
    "cell_id": "1d0191b3-99ab-444a-966b-32e7ac174bca",
    "tags": [],
    "deepnote_to_be_reexecuted": false,
    "source_hash": "885ea5f0",
    "execution_start": 1647525149249,
    "execution_millis": 340,
    "deepnote_cell_type": "code",
    "deepnote_cell_height": 663,
    "deepnote_output_heights": [
     422
    ]
   },
   "source": "plt.figure(figsize=(8,5), dpi=100)\nplt.style.use('ggplot')\n\nexplode = (.2,.1,0,0,.3)\n\nplt.title('Percentage of players per weight (kg)')\n\nplt.pie(df2['N_players'], labels=df2['Weight_cathegory'], explode=explode, pctdistance=0.8,autopct='%.2f %%')\nplt.show()",
   "outputs": [
    {
     "data": {
      "text/plain": "<Figure size 800x500 with 1 Axes>",
      "image/png": "[encoded data removed]"
     },
     "metadata": {
      "image/png": {
       "width": 462,
       "height": 420
      }
     },
     "output_type": "display_data"
    }
   ],
   "execution_count": null
  },
  {
   "cell_type": "code",
   "metadata": {
    "cell_id": "3e15a00a-5786-437d-a277-baacc180f8cb",
    "tags": [],
    "deepnote_to_be_reexecuted": false,
    "source_hash": "53bacc7c",
    "execution_start": 1647525149592,
    "execution_millis": 377,
    "deepnote_cell_type": "code",
    "deepnote_cell_height": 553,
    "deepnote_output_heights": [
     366
    ]
   },
   "source": "plt.bar(df2['Weight_cathegory'], df2['OVA_mean'])\nplt.xlabel(\"Weight_cathegory\")\nplt.ylabel(\"OVA_mean\")\nplt.title(\"Average ranking per weight\")\nplt.show()\n",
   "outputs": [
    {
     "data": {
      "text/plain": "<Figure size 576x396 with 1 Axes>",
      "image/png": "[encoded data removed]"
     },
     "metadata": {
      "image/png": {
       "width": 497,
       "height": 364
      }
     },
     "output_type": "display_data"
    }
   ],
   "execution_count": null
  },
  {
   "cell_type": "markdown",
   "source": "We can see a clear correlation between Weight and a good score, the heavier the player, the best  he can be, there is a difference of 8.94% between the mean score of heavy players and the mean score of light players. That result is contra intuitive because you don't expect heavy players to be better at soccer, but the thing is heavy doesn't mean necessarily  big but tall too. We can explore it in the next physical aspect.",
   "metadata": {
    "cell_id": "e33e1152-4a0d-4559-9b2d-8441bf812b3a",
    "tags": [],
    "is_collapsed": false,
    "deepnote_cell_type": "text-cell-p",
    "deepnote_cell_height": 142
   }
  },
  {
   "cell_type": "markdown",
   "source": "### Height",
   "metadata": {
    "cell_id": "a60071fd-ae1f-427c-a59b-f57f9a002f12",
    "tags": [],
    "is_collapsed": false,
    "deepnote_cell_type": "text-cell-h3",
    "deepnote_cell_height": 62
   }
  },
  {
   "cell_type": "code",
   "metadata": {
    "cell_id": "0e324d5d-044d-4546-8fad-bac9d83325d0",
    "tags": [],
    "deepnote_to_be_reexecuted": false,
    "source_hash": "4a88fe45",
    "execution_start": 1647525149976,
    "execution_millis": 204,
    "deepnote_cell_type": "code",
    "deepnote_cell_height": 868
   },
   "source": "#Its necessary to convert feet and inches (imperial system) to centimeters (metric system) to have a better understanding and to work easier with the data.\ndf3 = pd.DataFrame()\ndf3['Height'] = data['Height'].astype(str)\n\ndf3[['feet', 'inches']] = df3['Height'].str.split('\\'', expand=True)\n\ndf3['inches'] = df3['inches'].str[:-1]\n\ndf3['inches'] = df3['inches'].astype(int)\ndf3['feet'] = df3['feet'].astype(int)\ndf3['centimeters'] = (df3['feet']*30.48)+(df3['inches']*2.54)\ndf3['centimeters'] = df3['centimeters'].astype(int)\n            \ndf3\n            \n",
   "outputs": [
    {
     "output_type": "execute_result",
     "execution_count": 17,
     "data": {
      "application/vnd.deepnote.dataframe.v3+json": {
       "column_count": 4,
       "row_count": 17125,
       "columns": [
        {
         "name": "Height",
         "dtype": "object",
         "stats": {
          "unique_count": 21,
          "nan_count": 0,
          "categories": [
           {
            "name": "6'0\"",
            "count": 2583
           },
           {
            "name": "5'10\"",
            "count": 2418
           },
           {
            "name": "19 others",
            "count": 12124
           }
          ]
         }
        },
        {
         "name": "feet",
         "dtype": "int64",
         "stats": {
          "unique_count": 2,
          "nan_count": 0,
          "min": "5",
          "max": "6",
          "histogram": [
           {
            "bin_start": 5,
            "bin_end": 5.1,
            "count": 8781
           },
           {
            "bin_start": 5.1,
            "bin_end": 5.2,
            "count": 0
           },
           {
            "bin_start": 5.2,
            "bin_end": 5.3,
            "count": 0
           },
           {
            "bin_start": 5.3,
            "bin_end": 5.4,
            "count": 0
           },
           {
            "bin_start": 5.4,
            "bin_end": 5.5,
            "count": 0
           },
           {
            "bin_start": 5.5,
            "bin_end": 5.6,
            "count": 0
           },
           {
            "bin_start": 5.6,
            "bin_end": 5.7,
            "count": 0
           },
           {
            "bin_start": 5.7,
            "bin_end": 5.8,
            "count": 0
           },
           {
            "bin_start": 5.8,
            "bin_end": 5.9,
            "count": 0
           },
           {
            "bin_start": 5.9,
            "bin_end": 6,
            "count": 8344
           }
          ]
         }
        },
        {
         "name": "inches",
         "dtype": "int64",
         "stats": {
          "unique_count": 12,
          "nan_count": 0,
          "min": "0",
          "max": "11",
          "histogram": [
           {
            "bin_start": 0,
            "bin_end": 1.1,
            "count": 4390
           },
           {
            "bin_start": 1.1,
            "bin_end": 2.2,
            "count": 1883
           },
           {
            "bin_start": 2.2,
            "bin_end": 3.3000000000000003,
            "count": 965
           },
           {
            "bin_start": 3.3000000000000003,
            "bin_end": 4.4,
            "count": 747
           },
           {
            "bin_start": 4.4,
            "bin_end": 5.5,
            "count": 439
           },
           {
            "bin_start": 5.5,
            "bin_end": 6.6000000000000005,
            "count": 418
           },
           {
            "bin_start": 6.6000000000000005,
            "bin_end": 7.700000000000001,
            "count": 920
           },
           {
            "bin_start": 7.700000000000001,
            "bin_end": 8.8,
            "count": 972
           },
           {
            "bin_start": 8.8,
            "bin_end": 9.9,
            "count": 2029
           },
           {
            "bin_start": 9.9,
            "bin_end": 11,
            "count": 4362
           }
          ]
         }
        },
        {
         "name": "centimeters",
         "dtype": "int64",
         "stats": {
          "unique_count": 21,
          "nan_count": 0,
          "min": "154",
          "max": "205",
          "histogram": [
           {
            "bin_start": 154,
            "bin_end": 159.1,
            "count": 7
           },
           {
            "bin_start": 159.1,
            "bin_end": 164.2,
            "count": 40
           },
           {
            "bin_start": 164.2,
            "bin_end": 169.3,
            "count": 492
           },
           {
            "bin_start": 169.3,
            "bin_end": 174.4,
            "count": 1853
           },
           {
            "bin_start": 174.4,
            "bin_end": 179.5,
            "count": 4445
           },
           {
            "bin_start": 179.5,
            "bin_end": 184.6,
            "count": 4527
           },
           {
            "bin_start": 184.6,
            "bin_end": 189.7,
            "count": 3683
           },
           {
            "bin_start": 189.7,
            "bin_end": 194.8,
            "count": 1672
           },
           {
            "bin_start": 194.8,
            "bin_end": 199.9,
            "count": 365
           },
           {
            "bin_start": 199.9,
            "bin_end": 205,
            "count": 41
           }
          ]
         }
        },
        {
         "name": "_deepnote_index_column",
         "dtype": "int64"
        }
       ],
       "rows": [
        {
         "Height": "6'0\"",
         "feet": 6,
         "inches": 0,
         "centimeters": 182,
         "_deepnote_index_column": 0
        },
        {
         "Height": "5'10\"",
         "feet": 5,
         "inches": 10,
         "centimeters": 177,
         "_deepnote_index_column": 1
        },
        {
         "Height": "5'9\"",
         "feet": 5,
         "inches": 9,
         "centimeters": 175,
         "_deepnote_index_column": 2
        },
        {
         "Height": "5'11\"",
         "feet": 5,
         "inches": 11,
         "centimeters": 180,
         "_deepnote_index_column": 3
        },
        {
         "Height": "5'7\"",
         "feet": 5,
         "inches": 7,
         "centimeters": 170,
         "_deepnote_index_column": 4
        },
        {
         "Height": "5'8\"",
         "feet": 5,
         "inches": 8,
         "centimeters": 172,
         "_deepnote_index_column": 5
        },
        {
         "Height": "5'7\"",
         "feet": 5,
         "inches": 7,
         "centimeters": 170,
         "_deepnote_index_column": 6
        },
        {
         "Height": "5'10\"",
         "feet": 5,
         "inches": 10,
         "centimeters": 177,
         "_deepnote_index_column": 7
        },
        {
         "Height": "5'10\"",
         "feet": 5,
         "inches": 10,
         "centimeters": 177,
         "_deepnote_index_column": 8
        },
        {
         "Height": "5'7\"",
         "feet": 5,
         "inches": 7,
         "centimeters": 170,
         "_deepnote_index_column": 9
        }
       ]
      },
      "text/plain": "      Height  feet  inches  centimeters\n0       6'0\"     6       0          182\n1      5'10\"     5      10          177\n2       5'9\"     5       9          175\n3      5'11\"     5      11          180\n4       5'7\"     5       7          170\n...      ...   ...     ...          ...\n17120   6'6\"     6       6          198\n17121  5'10\"     5      10          177\n17122   5'9\"     5       9          175\n17123   5'9\"     5       9          175\n17124  5'10\"     5      10          177\n\n[17125 rows x 4 columns]",
      "text/html": "<div>\n<style scoped>\n    .dataframe tbody tr th:only-of-type {\n        vertical-align: middle;\n    }\n\n    .dataframe tbody tr th {\n        vertical-align: top;\n    }\n\n    .dataframe thead th {\n        text-align: right;\n    }\n</style>\n<table border=\"1\" class=\"dataframe\">\n  <thead>\n    <tr style=\"text-align: right;\">\n      <th></th>\n      <th>Height</th>\n      <th>feet</th>\n      <th>inches</th>\n      <th>centimeters</th>\n    </tr>\n  </thead>\n  <tbody>\n    <tr>\n      <th>0</th>\n      <td>6'0\"</td>\n      <td>6</td>\n      <td>0</td>\n      <td>182</td>\n    </tr>\n    <tr>\n      <th>1</th>\n      <td>5'10\"</td>\n      <td>5</td>\n      <td>10</td>\n      <td>177</td>\n    </tr>\n    <tr>\n      <th>2</th>\n      <td>5'9\"</td>\n      <td>5</td>\n      <td>9</td>\n      <td>175</td>\n    </tr>\n    <tr>\n      <th>3</th>\n      <td>5'11\"</td>\n      <td>5</td>\n      <td>11</td>\n      <td>180</td>\n    </tr>\n    <tr>\n      <th>4</th>\n      <td>5'7\"</td>\n      <td>5</td>\n      <td>7</td>\n      <td>170</td>\n    </tr>\n    <tr>\n      <th>...</th>\n      <td>...</td>\n      <td>...</td>\n      <td>...</td>\n      <td>...</td>\n    </tr>\n    <tr>\n      <th>17120</th>\n      <td>6'6\"</td>\n      <td>6</td>\n      <td>6</td>\n      <td>198</td>\n    </tr>\n    <tr>\n      <th>17121</th>\n      <td>5'10\"</td>\n      <td>5</td>\n      <td>10</td>\n      <td>177</td>\n    </tr>\n    <tr>\n      <th>17122</th>\n      <td>5'9\"</td>\n      <td>5</td>\n      <td>9</td>\n      <td>175</td>\n    </tr>\n    <tr>\n      <th>17123</th>\n      <td>5'9\"</td>\n      <td>5</td>\n      <td>9</td>\n      <td>175</td>\n    </tr>\n    <tr>\n      <th>17124</th>\n      <td>5'10\"</td>\n      <td>5</td>\n      <td>10</td>\n      <td>177</td>\n    </tr>\n  </tbody>\n</table>\n<p>17125 rows × 4 columns</p>\n</div>"
     },
     "metadata": {}
    }
   ],
   "execution_count": null
  },
  {
   "cell_type": "code",
   "metadata": {
    "cell_id": "8cae0a94-0893-431e-8007-a5a930856bc0",
    "tags": [],
    "deepnote_to_be_reexecuted": false,
    "source_hash": "c2d4dedd",
    "execution_start": 1647525150189,
    "execution_millis": 166,
    "deepnote_cell_type": "code",
    "deepnote_cell_height": 862
   },
   "source": "cathegory = []\nfor i in df3['centimeters']:\n    if i < 160:\n        cathegory.append(\"<160\")\n    elif 160 <= i < 170:\n        cathegory.append(\"160-170\")\n    elif 170 <= i < 180:\n        cathegory.append(\"170-180\")\n    elif 180 <= i < 190:\n        cathegory.append(\"180-190\")\n    else:\n        cathegory.append(\">190\")\n\ndf3[\"Height_cathegory\"] = cathegory \ndf3",
   "outputs": [
    {
     "output_type": "execute_result",
     "execution_count": 18,
     "data": {
      "application/vnd.deepnote.dataframe.v3+json": {
       "column_count": 5,
       "row_count": 17125,
       "columns": [
        {
         "name": "Height",
         "dtype": "object",
         "stats": {
          "unique_count": 21,
          "nan_count": 0,
          "categories": [
           {
            "name": "6'0\"",
            "count": 2583
           },
           {
            "name": "5'10\"",
            "count": 2418
           },
           {
            "name": "19 others",
            "count": 12124
           }
          ]
         }
        },
        {
         "name": "feet",
         "dtype": "int64",
         "stats": {
          "unique_count": 2,
          "nan_count": 0,
          "min": "5",
          "max": "6",
          "histogram": [
           {
            "bin_start": 5,
            "bin_end": 5.1,
            "count": 8781
           },
           {
            "bin_start": 5.1,
            "bin_end": 5.2,
            "count": 0
           },
           {
            "bin_start": 5.2,
            "bin_end": 5.3,
            "count": 0
           },
           {
            "bin_start": 5.3,
            "bin_end": 5.4,
            "count": 0
           },
           {
            "bin_start": 5.4,
            "bin_end": 5.5,
            "count": 0
           },
           {
            "bin_start": 5.5,
            "bin_end": 5.6,
            "count": 0
           },
           {
            "bin_start": 5.6,
            "bin_end": 5.7,
            "count": 0
           },
           {
            "bin_start": 5.7,
            "bin_end": 5.8,
            "count": 0
           },
           {
            "bin_start": 5.8,
            "bin_end": 5.9,
            "count": 0
           },
           {
            "bin_start": 5.9,
            "bin_end": 6,
            "count": 8344
           }
          ]
         }
        },
        {
         "name": "inches",
         "dtype": "int64",
         "stats": {
          "unique_count": 12,
          "nan_count": 0,
          "min": "0",
          "max": "11",
          "histogram": [
           {
            "bin_start": 0,
            "bin_end": 1.1,
            "count": 4390
           },
           {
            "bin_start": 1.1,
            "bin_end": 2.2,
            "count": 1883
           },
           {
            "bin_start": 2.2,
            "bin_end": 3.3000000000000003,
            "count": 965
           },
           {
            "bin_start": 3.3000000000000003,
            "bin_end": 4.4,
            "count": 747
           },
           {
            "bin_start": 4.4,
            "bin_end": 5.5,
            "count": 439
           },
           {
            "bin_start": 5.5,
            "bin_end": 6.6000000000000005,
            "count": 418
           },
           {
            "bin_start": 6.6000000000000005,
            "bin_end": 7.700000000000001,
            "count": 920
           },
           {
            "bin_start": 7.700000000000001,
            "bin_end": 8.8,
            "count": 972
           },
           {
            "bin_start": 8.8,
            "bin_end": 9.9,
            "count": 2029
           },
           {
            "bin_start": 9.9,
            "bin_end": 11,
            "count": 4362
           }
          ]
         }
        },
        {
         "name": "centimeters",
         "dtype": "int64",
         "stats": {
          "unique_count": 21,
          "nan_count": 0,
          "min": "154",
          "max": "205",
          "histogram": [
           {
            "bin_start": 154,
            "bin_end": 159.1,
            "count": 7
           },
           {
            "bin_start": 159.1,
            "bin_end": 164.2,
            "count": 40
           },
           {
            "bin_start": 164.2,
            "bin_end": 169.3,
            "count": 492
           },
           {
            "bin_start": 169.3,
            "bin_end": 174.4,
            "count": 1853
           },
           {
            "bin_start": 174.4,
            "bin_end": 179.5,
            "count": 4445
           },
           {
            "bin_start": 179.5,
            "bin_end": 184.6,
            "count": 4527
           },
           {
            "bin_start": 184.6,
            "bin_end": 189.7,
            "count": 3683
           },
           {
            "bin_start": 189.7,
            "bin_end": 194.8,
            "count": 1672
           },
           {
            "bin_start": 194.8,
            "bin_end": 199.9,
            "count": 365
           },
           {
            "bin_start": 199.9,
            "bin_end": 205,
            "count": 41
           }
          ]
         }
        },
        {
         "name": "Height_cathegory",
         "dtype": "object",
         "stats": {
          "unique_count": 5,
          "nan_count": 0,
          "categories": [
           {
            "name": "180-190",
            "count": 8210
           },
           {
            "name": "170-180",
            "count": 6298
           },
           {
            "name": "3 others",
            "count": 2617
           }
          ]
         }
        },
        {
         "name": "_deepnote_index_column",
         "dtype": "int64"
        }
       ],
       "rows": [
        {
         "Height": "6'0\"",
         "feet": 6,
         "inches": 0,
         "centimeters": 182,
         "Height_cathegory": "180-190",
         "_deepnote_index_column": 0
        },
        {
         "Height": "5'10\"",
         "feet": 5,
         "inches": 10,
         "centimeters": 177,
         "Height_cathegory": "170-180",
         "_deepnote_index_column": 1
        },
        {
         "Height": "5'9\"",
         "feet": 5,
         "inches": 9,
         "centimeters": 175,
         "Height_cathegory": "170-180",
         "_deepnote_index_column": 2
        },
        {
         "Height": "5'11\"",
         "feet": 5,
         "inches": 11,
         "centimeters": 180,
         "Height_cathegory": "180-190",
         "_deepnote_index_column": 3
        },
        {
         "Height": "5'7\"",
         "feet": 5,
         "inches": 7,
         "centimeters": 170,
         "Height_cathegory": "170-180",
         "_deepnote_index_column": 4
        },
        {
         "Height": "5'8\"",
         "feet": 5,
         "inches": 8,
         "centimeters": 172,
         "Height_cathegory": "170-180",
         "_deepnote_index_column": 5
        },
        {
         "Height": "5'7\"",
         "feet": 5,
         "inches": 7,
         "centimeters": 170,
         "Height_cathegory": "170-180",
         "_deepnote_index_column": 6
        },
        {
         "Height": "5'10\"",
         "feet": 5,
         "inches": 10,
         "centimeters": 177,
         "Height_cathegory": "170-180",
         "_deepnote_index_column": 7
        },
        {
         "Height": "5'10\"",
         "feet": 5,
         "inches": 10,
         "centimeters": 177,
         "Height_cathegory": "170-180",
         "_deepnote_index_column": 8
        },
        {
         "Height": "5'7\"",
         "feet": 5,
         "inches": 7,
         "centimeters": 170,
         "Height_cathegory": "170-180",
         "_deepnote_index_column": 9
        }
       ]
      },
      "text/plain": "      Height  feet  inches  centimeters Height_cathegory\n0       6'0\"     6       0          182          180-190\n1      5'10\"     5      10          177          170-180\n2       5'9\"     5       9          175          170-180\n3      5'11\"     5      11          180          180-190\n4       5'7\"     5       7          170          170-180\n...      ...   ...     ...          ...              ...\n17120   6'6\"     6       6          198             >190\n17121  5'10\"     5      10          177          170-180\n17122   5'9\"     5       9          175          170-180\n17123   5'9\"     5       9          175          170-180\n17124  5'10\"     5      10          177          170-180\n\n[17125 rows x 5 columns]",
      "text/html": "<div>\n<style scoped>\n    .dataframe tbody tr th:only-of-type {\n        vertical-align: middle;\n    }\n\n    .dataframe tbody tr th {\n        vertical-align: top;\n    }\n\n    .dataframe thead th {\n        text-align: right;\n    }\n</style>\n<table border=\"1\" class=\"dataframe\">\n  <thead>\n    <tr style=\"text-align: right;\">\n      <th></th>\n      <th>Height</th>\n      <th>feet</th>\n      <th>inches</th>\n      <th>centimeters</th>\n      <th>Height_cathegory</th>\n    </tr>\n  </thead>\n  <tbody>\n    <tr>\n      <th>0</th>\n      <td>6'0\"</td>\n      <td>6</td>\n      <td>0</td>\n      <td>182</td>\n      <td>180-190</td>\n    </tr>\n    <tr>\n      <th>1</th>\n      <td>5'10\"</td>\n      <td>5</td>\n      <td>10</td>\n      <td>177</td>\n      <td>170-180</td>\n    </tr>\n    <tr>\n      <th>2</th>\n      <td>5'9\"</td>\n      <td>5</td>\n      <td>9</td>\n      <td>175</td>\n      <td>170-180</td>\n    </tr>\n    <tr>\n      <th>3</th>\n      <td>5'11\"</td>\n      <td>5</td>\n      <td>11</td>\n      <td>180</td>\n      <td>180-190</td>\n    </tr>\n    <tr>\n      <th>4</th>\n      <td>5'7\"</td>\n      <td>5</td>\n      <td>7</td>\n      <td>170</td>\n      <td>170-180</td>\n    </tr>\n    <tr>\n      <th>...</th>\n      <td>...</td>\n      <td>...</td>\n      <td>...</td>\n      <td>...</td>\n      <td>...</td>\n    </tr>\n    <tr>\n      <th>17120</th>\n      <td>6'6\"</td>\n      <td>6</td>\n      <td>6</td>\n      <td>198</td>\n      <td>&gt;190</td>\n    </tr>\n    <tr>\n      <th>17121</th>\n      <td>5'10\"</td>\n      <td>5</td>\n      <td>10</td>\n      <td>177</td>\n      <td>170-180</td>\n    </tr>\n    <tr>\n      <th>17122</th>\n      <td>5'9\"</td>\n      <td>5</td>\n      <td>9</td>\n      <td>175</td>\n      <td>170-180</td>\n    </tr>\n    <tr>\n      <th>17123</th>\n      <td>5'9\"</td>\n      <td>5</td>\n      <td>9</td>\n      <td>175</td>\n      <td>170-180</td>\n    </tr>\n    <tr>\n      <th>17124</th>\n      <td>5'10\"</td>\n      <td>5</td>\n      <td>10</td>\n      <td>177</td>\n      <td>170-180</td>\n    </tr>\n  </tbody>\n</table>\n<p>17125 rows × 5 columns</p>\n</div>"
     },
     "metadata": {}
    }
   ],
   "execution_count": null
  },
  {
   "cell_type": "code",
   "metadata": {
    "cell_id": "abace966-a638-466f-a268-5bd0d05fbd2d",
    "tags": [],
    "deepnote_to_be_reexecuted": false,
    "source_hash": "702b25ac",
    "execution_start": 1647525150374,
    "execution_millis": 133,
    "deepnote_cell_type": "code",
    "deepnote_cell_height": 628
   },
   "source": "df3['OVA'] = data['OVA']\ndf3",
   "outputs": [
    {
     "output_type": "execute_result",
     "execution_count": 19,
     "data": {
      "application/vnd.deepnote.dataframe.v3+json": {
       "column_count": 6,
       "row_count": 17125,
       "columns": [
        {
         "name": "Height",
         "dtype": "object",
         "stats": {
          "unique_count": 21,
          "nan_count": 0,
          "categories": [
           {
            "name": "6'0\"",
            "count": 2583
           },
           {
            "name": "5'10\"",
            "count": 2418
           },
           {
            "name": "19 others",
            "count": 12124
           }
          ]
         }
        },
        {
         "name": "feet",
         "dtype": "int64",
         "stats": {
          "unique_count": 2,
          "nan_count": 0,
          "min": "5",
          "max": "6",
          "histogram": [
           {
            "bin_start": 5,
            "bin_end": 5.1,
            "count": 8781
           },
           {
            "bin_start": 5.1,
            "bin_end": 5.2,
            "count": 0
           },
           {
            "bin_start": 5.2,
            "bin_end": 5.3,
            "count": 0
           },
           {
            "bin_start": 5.3,
            "bin_end": 5.4,
            "count": 0
           },
           {
            "bin_start": 5.4,
            "bin_end": 5.5,
            "count": 0
           },
           {
            "bin_start": 5.5,
            "bin_end": 5.6,
            "count": 0
           },
           {
            "bin_start": 5.6,
            "bin_end": 5.7,
            "count": 0
           },
           {
            "bin_start": 5.7,
            "bin_end": 5.8,
            "count": 0
           },
           {
            "bin_start": 5.8,
            "bin_end": 5.9,
            "count": 0
           },
           {
            "bin_start": 5.9,
            "bin_end": 6,
            "count": 8344
           }
          ]
         }
        },
        {
         "name": "inches",
         "dtype": "int64",
         "stats": {
          "unique_count": 12,
          "nan_count": 0,
          "min": "0",
          "max": "11",
          "histogram": [
           {
            "bin_start": 0,
            "bin_end": 1.1,
            "count": 4390
           },
           {
            "bin_start": 1.1,
            "bin_end": 2.2,
            "count": 1883
           },
           {
            "bin_start": 2.2,
            "bin_end": 3.3000000000000003,
            "count": 965
           },
           {
            "bin_start": 3.3000000000000003,
            "bin_end": 4.4,
            "count": 747
           },
           {
            "bin_start": 4.4,
            "bin_end": 5.5,
            "count": 439
           },
           {
            "bin_start": 5.5,
            "bin_end": 6.6000000000000005,
            "count": 418
           },
           {
            "bin_start": 6.6000000000000005,
            "bin_end": 7.700000000000001,
            "count": 920
           },
           {
            "bin_start": 7.700000000000001,
            "bin_end": 8.8,
            "count": 972
           },
           {
            "bin_start": 8.8,
            "bin_end": 9.9,
            "count": 2029
           },
           {
            "bin_start": 9.9,
            "bin_end": 11,
            "count": 4362
           }
          ]
         }
        },
        {
         "name": "centimeters",
         "dtype": "int64",
         "stats": {
          "unique_count": 21,
          "nan_count": 0,
          "min": "154",
          "max": "205",
          "histogram": [
           {
            "bin_start": 154,
            "bin_end": 159.1,
            "count": 7
           },
           {
            "bin_start": 159.1,
            "bin_end": 164.2,
            "count": 40
           },
           {
            "bin_start": 164.2,
            "bin_end": 169.3,
            "count": 492
           },
           {
            "bin_start": 169.3,
            "bin_end": 174.4,
            "count": 1853
           },
           {
            "bin_start": 174.4,
            "bin_end": 179.5,
            "count": 4445
           },
           {
            "bin_start": 179.5,
            "bin_end": 184.6,
            "count": 4527
           },
           {
            "bin_start": 184.6,
            "bin_end": 189.7,
            "count": 3683
           },
           {
            "bin_start": 189.7,
            "bin_end": 194.8,
            "count": 1672
           },
           {
            "bin_start": 194.8,
            "bin_end": 199.9,
            "count": 365
           },
           {
            "bin_start": 199.9,
            "bin_end": 205,
            "count": 41
           }
          ]
         }
        },
        {
         "name": "Height_cathegory",
         "dtype": "object",
         "stats": {
          "unique_count": 5,
          "nan_count": 0,
          "categories": [
           {
            "name": "180-190",
            "count": 8210
           },
           {
            "name": "170-180",
            "count": 6298
           },
           {
            "name": "3 others",
            "count": 2617
           }
          ]
         }
        },
        {
         "name": "OVA",
         "dtype": "int64"
        },
        {
         "name": "_deepnote_index_column",
         "dtype": "int64"
        }
       ],
       "rows": [
        {
         "Height": "6'0\"",
         "feet": 6,
         "inches": 0,
         "centimeters": 182,
         "Height_cathegory": "180-190",
         "OVA": 69,
         "_deepnote_index_column": 0
        },
        {
         "Height": "5'10\"",
         "feet": 5,
         "inches": 10,
         "centimeters": 177,
         "Height_cathegory": "170-180",
         "OVA": 71,
         "_deepnote_index_column": 1
        },
        {
         "Height": "5'9\"",
         "feet": 5,
         "inches": 9,
         "centimeters": 175,
         "Height_cathegory": "170-180",
         "OVA": 71,
         "_deepnote_index_column": 2
        },
        {
         "Height": "5'11\"",
         "feet": 5,
         "inches": 11,
         "centimeters": 180,
         "Height_cathegory": "180-190",
         "OVA": 68,
         "_deepnote_index_column": 3
        },
        {
         "Height": "5'7\"",
         "feet": 5,
         "inches": 7,
         "centimeters": 170,
         "Height_cathegory": "170-180",
         "OVA": 81,
         "_deepnote_index_column": 4
        },
        {
         "Height": "5'8\"",
         "feet": 5,
         "inches": 8,
         "centimeters": 172,
         "Height_cathegory": "170-180",
         "OVA": 66,
         "_deepnote_index_column": 5
        },
        {
         "Height": "5'7\"",
         "feet": 5,
         "inches": 7,
         "centimeters": 170,
         "Height_cathegory": "170-180",
         "OVA": 77,
         "_deepnote_index_column": 6
        },
        {
         "Height": "5'10\"",
         "feet": 5,
         "inches": 10,
         "centimeters": 177,
         "Height_cathegory": "170-180",
         "OVA": 78,
         "_deepnote_index_column": 7
        },
        {
         "Height": "5'10\"",
         "feet": 5,
         "inches": 10,
         "centimeters": 177,
         "Height_cathegory": "170-180",
         "OVA": 76,
         "_deepnote_index_column": 8
        },
        {
         "Height": "5'7\"",
         "feet": 5,
         "inches": 7,
         "centimeters": 170,
         "Height_cathegory": "170-180",
         "OVA": 80,
         "_deepnote_index_column": 9
        }
       ]
      },
      "text/plain": "      Height  feet  inches  centimeters Height_cathegory  OVA\n0       6'0\"     6       0          182          180-190   69\n1      5'10\"     5      10          177          170-180   71\n2       5'9\"     5       9          175          170-180   71\n3      5'11\"     5      11          180          180-190   68\n4       5'7\"     5       7          170          170-180   81\n...      ...   ...     ...          ...              ...  ...\n17120   6'6\"     6       6          198             >190   64\n17121  5'10\"     5      10          177          170-180   56\n17122   5'9\"     5       9          175          170-180   56\n17123   5'9\"     5       9          175          170-180   62\n17124  5'10\"     5      10          177          170-180   59\n\n[17125 rows x 6 columns]",
      "text/html": "<div>\n<style scoped>\n    .dataframe tbody tr th:only-of-type {\n        vertical-align: middle;\n    }\n\n    .dataframe tbody tr th {\n        vertical-align: top;\n    }\n\n    .dataframe thead th {\n        text-align: right;\n    }\n</style>\n<table border=\"1\" class=\"dataframe\">\n  <thead>\n    <tr style=\"text-align: right;\">\n      <th></th>\n      <th>Height</th>\n      <th>feet</th>\n      <th>inches</th>\n      <th>centimeters</th>\n      <th>Height_cathegory</th>\n      <th>OVA</th>\n    </tr>\n  </thead>\n  <tbody>\n    <tr>\n      <th>0</th>\n      <td>6'0\"</td>\n      <td>6</td>\n      <td>0</td>\n      <td>182</td>\n      <td>180-190</td>\n      <td>69</td>\n    </tr>\n    <tr>\n      <th>1</th>\n      <td>5'10\"</td>\n      <td>5</td>\n      <td>10</td>\n      <td>177</td>\n      <td>170-180</td>\n      <td>71</td>\n    </tr>\n    <tr>\n      <th>2</th>\n      <td>5'9\"</td>\n      <td>5</td>\n      <td>9</td>\n      <td>175</td>\n      <td>170-180</td>\n      <td>71</td>\n    </tr>\n    <tr>\n      <th>3</th>\n      <td>5'11\"</td>\n      <td>5</td>\n      <td>11</td>\n      <td>180</td>\n      <td>180-190</td>\n      <td>68</td>\n    </tr>\n    <tr>\n      <th>4</th>\n      <td>5'7\"</td>\n      <td>5</td>\n      <td>7</td>\n      <td>170</td>\n      <td>170-180</td>\n      <td>81</td>\n    </tr>\n    <tr>\n      <th>...</th>\n      <td>...</td>\n      <td>...</td>\n      <td>...</td>\n      <td>...</td>\n      <td>...</td>\n      <td>...</td>\n    </tr>\n    <tr>\n      <th>17120</th>\n      <td>6'6\"</td>\n      <td>6</td>\n      <td>6</td>\n      <td>198</td>\n      <td>&gt;190</td>\n      <td>64</td>\n    </tr>\n    <tr>\n      <th>17121</th>\n      <td>5'10\"</td>\n      <td>5</td>\n      <td>10</td>\n      <td>177</td>\n      <td>170-180</td>\n      <td>56</td>\n    </tr>\n    <tr>\n      <th>17122</th>\n      <td>5'9\"</td>\n      <td>5</td>\n      <td>9</td>\n      <td>175</td>\n      <td>170-180</td>\n      <td>56</td>\n    </tr>\n    <tr>\n      <th>17123</th>\n      <td>5'9\"</td>\n      <td>5</td>\n      <td>9</td>\n      <td>175</td>\n      <td>170-180</td>\n      <td>62</td>\n    </tr>\n    <tr>\n      <th>17124</th>\n      <td>5'10\"</td>\n      <td>5</td>\n      <td>10</td>\n      <td>177</td>\n      <td>170-180</td>\n      <td>59</td>\n    </tr>\n  </tbody>\n</table>\n<p>17125 rows × 6 columns</p>\n</div>"
     },
     "metadata": {}
    }
   ],
   "execution_count": null
  },
  {
   "cell_type": "code",
   "metadata": {
    "cell_id": "b201a228-2c90-4352-a628-5f410b3e07cb",
    "tags": [],
    "deepnote_to_be_reexecuted": false,
    "source_hash": "4b04ad5e",
    "execution_start": 1647525150577,
    "execution_millis": 2,
    "deepnote_cell_type": "code",
    "deepnote_cell_height": 519
   },
   "source": "df4 = pd.DataFrame()\ndf4['OVA_mean'] = df3.groupby(['Height_cathegory']).OVA.mean().round(2)\ndf4['N_players'] = df3.groupby(['Height_cathegory']).Height_cathegory.count()\ndf4.reset_index(inplace = True)\n\ndf4 = df4.sort_values(by = ['OVA_mean'], ascending=False)\n\ndf4",
   "outputs": [
    {
     "output_type": "execute_result",
     "execution_count": 20,
     "data": {
      "application/vnd.deepnote.dataframe.v3+json": {
       "column_count": 3,
       "row_count": 5,
       "columns": [
        {
         "name": "Height_cathegory",
         "dtype": "object",
         "stats": {
          "unique_count": 5,
          "nan_count": 0,
          "categories": [
           {
            "name": "<160",
            "count": 1
           },
           {
            "name": ">190",
            "count": 1
           },
           {
            "name": "3 others",
            "count": 3
           }
          ]
         }
        },
        {
         "name": "OVA_mean",
         "dtype": "float64",
         "stats": {
          "unique_count": 5,
          "nan_count": 0,
          "min": "66.49",
          "max": "67.86",
          "histogram": [
           {
            "bin_start": 66.49,
            "bin_end": 66.627,
            "count": 1
           },
           {
            "bin_start": 66.627,
            "bin_end": 66.764,
            "count": 0
           },
           {
            "bin_start": 66.764,
            "bin_end": 66.901,
            "count": 1
           },
           {
            "bin_start": 66.901,
            "bin_end": 67.038,
            "count": 1
           },
           {
            "bin_start": 67.038,
            "bin_end": 67.175,
            "count": 0
           },
           {
            "bin_start": 67.175,
            "bin_end": 67.312,
            "count": 0
           },
           {
            "bin_start": 67.312,
            "bin_end": 67.449,
            "count": 1
           },
           {
            "bin_start": 67.449,
            "bin_end": 67.586,
            "count": 0
           },
           {
            "bin_start": 67.586,
            "bin_end": 67.723,
            "count": 0
           },
           {
            "bin_start": 67.723,
            "bin_end": 67.86,
            "count": 1
           }
          ]
         }
        },
        {
         "name": "N_players",
         "dtype": "int64",
         "stats": {
          "unique_count": 5,
          "nan_count": 0,
          "min": "7",
          "max": "8210",
          "histogram": [
           {
            "bin_start": 7,
            "bin_end": 827.3,
            "count": 2
           },
           {
            "bin_start": 827.3,
            "bin_end": 1647.6,
            "count": 0
           },
           {
            "bin_start": 1647.6,
            "bin_end": 2467.8999999999996,
            "count": 1
           },
           {
            "bin_start": 2467.8999999999996,
            "bin_end": 3288.2,
            "count": 0
           },
           {
            "bin_start": 3288.2,
            "bin_end": 4108.5,
            "count": 0
           },
           {
            "bin_start": 4108.5,
            "bin_end": 4928.799999999999,
            "count": 0
           },
           {
            "bin_start": 4928.799999999999,
            "bin_end": 5749.099999999999,
            "count": 0
           },
           {
            "bin_start": 5749.099999999999,
            "bin_end": 6569.4,
            "count": 1
           },
           {
            "bin_start": 6569.4,
            "bin_end": 7389.7,
            "count": 0
           },
           {
            "bin_start": 7389.7,
            "bin_end": 8210,
            "count": 1
           }
          ]
         }
        },
        {
         "name": "_deepnote_index_column",
         "dtype": "int64"
        }
       ],
       "rows": [
        {
         "Height_cathegory": "<160",
         "OVA_mean": 67.86,
         "N_players": 7,
         "_deepnote_index_column": 3
        },
        {
         "Height_cathegory": ">190",
         "OVA_mean": 67.34,
         "N_players": 2078,
         "_deepnote_index_column": 4
        },
        {
         "Height_cathegory": "180-190",
         "OVA_mean": 67.02,
         "N_players": 8210,
         "_deepnote_index_column": 2
        },
        {
         "Height_cathegory": "170-180",
         "OVA_mean": 66.81,
         "N_players": 6298,
         "_deepnote_index_column": 1
        },
        {
         "Height_cathegory": "160-170",
         "OVA_mean": 66.49,
         "N_players": 532,
         "_deepnote_index_column": 0
        }
       ]
      },
      "text/plain": "  Height_cathegory  OVA_mean  N_players\n3             <160     67.86          7\n4             >190     67.34       2078\n2          180-190     67.02       8210\n1          170-180     66.81       6298\n0          160-170     66.49        532",
      "text/html": "<div>\n<style scoped>\n    .dataframe tbody tr th:only-of-type {\n        vertical-align: middle;\n    }\n\n    .dataframe tbody tr th {\n        vertical-align: top;\n    }\n\n    .dataframe thead th {\n        text-align: right;\n    }\n</style>\n<table border=\"1\" class=\"dataframe\">\n  <thead>\n    <tr style=\"text-align: right;\">\n      <th></th>\n      <th>Height_cathegory</th>\n      <th>OVA_mean</th>\n      <th>N_players</th>\n    </tr>\n  </thead>\n  <tbody>\n    <tr>\n      <th>3</th>\n      <td>&lt;160</td>\n      <td>67.86</td>\n      <td>7</td>\n    </tr>\n    <tr>\n      <th>4</th>\n      <td>&gt;190</td>\n      <td>67.34</td>\n      <td>2078</td>\n    </tr>\n    <tr>\n      <th>2</th>\n      <td>180-190</td>\n      <td>67.02</td>\n      <td>8210</td>\n    </tr>\n    <tr>\n      <th>1</th>\n      <td>170-180</td>\n      <td>66.81</td>\n      <td>6298</td>\n    </tr>\n    <tr>\n      <th>0</th>\n      <td>160-170</td>\n      <td>66.49</td>\n      <td>532</td>\n    </tr>\n  </tbody>\n</table>\n</div>"
     },
     "metadata": {}
    }
   ],
   "execution_count": null
  },
  {
   "cell_type": "code",
   "metadata": {
    "cell_id": "39df729e-021a-4b19-834d-7a02e7083801",
    "tags": [],
    "deepnote_to_be_reexecuted": false,
    "source_hash": "ca81aa8f",
    "execution_start": 1647525150578,
    "execution_millis": 280,
    "deepnote_cell_type": "code",
    "deepnote_cell_height": 663,
    "deepnote_output_heights": [
     422
    ]
   },
   "source": "plt.figure(figsize=(8,5), dpi=100)\nplt.style.use('ggplot')\n\nexplode = (.2,.1,0,0,.3)\n\nplt.title('Percentage of players per Height (cm)')\n\nplt.pie(df4['N_players'], labels=df4['Height_cathegory'], explode=explode, pctdistance=0.8,autopct='%.2f %%')\nplt.show()",
   "outputs": [
    {
     "data": {
      "text/plain": "<Figure size 800x500 with 1 Axes>",
      "image/png": "[encoded data removed]"
     },
     "metadata": {
      "image/png": {
       "width": 480,
       "height": 420
      }
     },
     "output_type": "display_data"
    }
   ],
   "execution_count": null
  },
  {
   "cell_type": "code",
   "metadata": {
    "cell_id": "085c7dc1-f490-4071-8b16-7587c1b74aca",
    "tags": [],
    "deepnote_to_be_reexecuted": false,
    "source_hash": "87cffda0",
    "execution_start": 1647525150882,
    "execution_millis": 546,
    "deepnote_cell_type": "code",
    "deepnote_cell_height": 535,
    "deepnote_output_heights": [
     366
    ]
   },
   "source": "plt.bar(df4['Height_cathegory'], df4['OVA_mean'])\nplt.xlabel(\"Height\")\nplt.ylabel(\"Overall ranking\")\nplt.title(\"Average ranking per height\")\nplt.show()",
   "outputs": [
    {
     "data": {
      "text/plain": "<Figure size 576x396 with 1 Axes>",
      "image/png": "[encoded data removed]"
     },
     "metadata": {
      "image/png": {
       "width": 497,
       "height": 364
      }
     },
     "output_type": "display_data"
    }
   ],
   "execution_count": null
  },
  {
   "cell_type": "markdown",
   "source": "Contrary to what i thought, Height is not relevant on how well a player is ranked, so the reason why heavier players are better raked should be in another factor.",
   "metadata": {
    "cell_id": "48a97c0b-010a-4561-a8a1-101cb76df0a0",
    "tags": [],
    "is_collapsed": false,
    "deepnote_cell_type": "text-cell-p",
    "deepnote_cell_height": 74.80000305175781
   }
  },
  {
   "cell_type": "markdown",
   "source": "### Age",
   "metadata": {
    "cell_id": "d2566333-1f5b-46e8-8fe8-e45191880071",
    "tags": [],
    "is_collapsed": false,
    "deepnote_cell_type": "text-cell-h3",
    "deepnote_cell_height": 62
   }
  },
  {
   "cell_type": "code",
   "metadata": {
    "cell_id": "e25b9ced-4cc9-407e-88f2-9c4f5eb814a8",
    "tags": [],
    "deepnote_to_be_reexecuted": false,
    "source_hash": "1d20963",
    "execution_start": 1647525151365,
    "execution_millis": 104,
    "deepnote_cell_type": "code",
    "deepnote_cell_height": 688
   },
   "source": "df5 = pd.DataFrame()\ndf5['Age'] = data['Age']\ndf5['OVA'] = data['OVA']\ndf5['Weight_cathegory'] = data['Weight_cathegory']\n\ndf5",
   "outputs": [
    {
     "output_type": "execute_result",
     "execution_count": 23,
     "data": {
      "application/vnd.deepnote.dataframe.v3+json": {
       "column_count": 3,
       "row_count": 17125,
       "columns": [
        {
         "name": "Age",
         "dtype": "int64",
         "stats": {
          "unique_count": 30,
          "nan_count": 0,
          "min": "16",
          "max": "53",
          "histogram": [
           {
            "bin_start": 16,
            "bin_end": 19.7,
            "count": 2007
           },
           {
            "bin_start": 19.7,
            "bin_end": 23.4,
            "count": 5151
           },
           {
            "bin_start": 23.4,
            "bin_end": 27.1,
            "count": 4449
           },
           {
            "bin_start": 27.1,
            "bin_end": 30.8,
            "count": 2674
           },
           {
            "bin_start": 30.8,
            "bin_end": 34.5,
            "count": 2143
           },
           {
            "bin_start": 34.5,
            "bin_end": 38.2,
            "count": 620
           },
           {
            "bin_start": 38.2,
            "bin_end": 41.900000000000006,
            "count": 68
           },
           {
            "bin_start": 41.900000000000006,
            "bin_end": 45.6,
            "count": 11
           },
           {
            "bin_start": 45.6,
            "bin_end": 49.300000000000004,
            "count": 1
           },
           {
            "bin_start": 49.300000000000004,
            "bin_end": 53,
            "count": 1
           }
          ]
         }
        },
        {
         "name": "OVA",
         "dtype": "int64",
         "stats": {
          "unique_count": 50,
          "nan_count": 0,
          "min": "38",
          "max": "93",
          "histogram": [
           {
            "bin_start": 38,
            "bin_end": 43.5,
            "count": 2
           },
           {
            "bin_start": 43.5,
            "bin_end": 49,
            "count": 33
           },
           {
            "bin_start": 49,
            "bin_end": 54.5,
            "count": 611
           },
           {
            "bin_start": 54.5,
            "bin_end": 60,
            "count": 1671
           },
           {
            "bin_start": 60,
            "bin_end": 65.5,
            "count": 4857
           },
           {
            "bin_start": 65.5,
            "bin_end": 71,
            "count": 4776
           },
           {
            "bin_start": 71,
            "bin_end": 76.5,
            "count": 3808
           },
           {
            "bin_start": 76.5,
            "bin_end": 82,
            "count": 1059
           },
           {
            "bin_start": 82,
            "bin_end": 87.5,
            "count": 279
           },
           {
            "bin_start": 87.5,
            "bin_end": 93,
            "count": 29
           }
          ]
         }
        },
        {
         "name": "Weight_cathegory",
         "dtype": "object",
         "stats": {
          "unique_count": 5,
          "nan_count": 0,
          "categories": [
           {
            "name": "70-80",
            "count": 8655
           },
           {
            "name": "60-70",
            "count": 4581
           },
           {
            "name": "3 others",
            "count": 3889
           }
          ]
         }
        },
        {
         "name": "_deepnote_index_column",
         "dtype": "int64"
        }
       ],
       "rows": [
        {
         "Age": 33,
         "OVA": 69,
         "Weight_cathegory": "80-90",
         "_deepnote_index_column": 0
        },
        {
         "Age": 37,
         "OVA": 71,
         "Weight_cathegory": "60-70",
         "_deepnote_index_column": 1
        },
        {
         "Age": 33,
         "OVA": 71,
         "Weight_cathegory": "70-80",
         "_deepnote_index_column": 2
        },
        {
         "Age": 36,
         "OVA": 68,
         "Weight_cathegory": "70-80",
         "_deepnote_index_column": 3
        },
        {
         "Age": 36,
         "OVA": 81,
         "Weight_cathegory": "60-70",
         "_deepnote_index_column": 4
        },
        {
         "Age": 27,
         "OVA": 66,
         "Weight_cathegory": "70-80",
         "_deepnote_index_column": 5
        },
        {
         "Age": 38,
         "OVA": 77,
         "Weight_cathegory": "70-80",
         "_deepnote_index_column": 6
        },
        {
         "Age": 39,
         "OVA": 78,
         "Weight_cathegory": "70-80",
         "_deepnote_index_column": 7
        },
        {
         "Age": 35,
         "OVA": 76,
         "Weight_cathegory": "70-80",
         "_deepnote_index_column": 8
        },
        {
         "Age": 37,
         "OVA": 80,
         "Weight_cathegory": "70-80",
         "_deepnote_index_column": 9
        }
       ]
      },
      "text/plain": "       Age  OVA Weight_cathegory\n0       33   69            80-90\n1       37   71            60-70\n2       33   71            70-80\n3       36   68            70-80\n4       36   81            60-70\n...    ...  ...              ...\n17120   22   64            70-80\n17121   18   56            70-80\n17122   18   56            60-70\n17123   20   62            60-70\n17124   18   59            60-70\n\n[17125 rows x 3 columns]",
      "text/html": "<div>\n<style scoped>\n    .dataframe tbody tr th:only-of-type {\n        vertical-align: middle;\n    }\n\n    .dataframe tbody tr th {\n        vertical-align: top;\n    }\n\n    .dataframe thead th {\n        text-align: right;\n    }\n</style>\n<table border=\"1\" class=\"dataframe\">\n  <thead>\n    <tr style=\"text-align: right;\">\n      <th></th>\n      <th>Age</th>\n      <th>OVA</th>\n      <th>Weight_cathegory</th>\n    </tr>\n  </thead>\n  <tbody>\n    <tr>\n      <th>0</th>\n      <td>33</td>\n      <td>69</td>\n      <td>80-90</td>\n    </tr>\n    <tr>\n      <th>1</th>\n      <td>37</td>\n      <td>71</td>\n      <td>60-70</td>\n    </tr>\n    <tr>\n      <th>2</th>\n      <td>33</td>\n      <td>71</td>\n      <td>70-80</td>\n    </tr>\n    <tr>\n      <th>3</th>\n      <td>36</td>\n      <td>68</td>\n      <td>70-80</td>\n    </tr>\n    <tr>\n      <th>4</th>\n      <td>36</td>\n      <td>81</td>\n      <td>60-70</td>\n    </tr>\n    <tr>\n      <th>...</th>\n      <td>...</td>\n      <td>...</td>\n      <td>...</td>\n    </tr>\n    <tr>\n      <th>17120</th>\n      <td>22</td>\n      <td>64</td>\n      <td>70-80</td>\n    </tr>\n    <tr>\n      <th>17121</th>\n      <td>18</td>\n      <td>56</td>\n      <td>70-80</td>\n    </tr>\n    <tr>\n      <th>17122</th>\n      <td>18</td>\n      <td>56</td>\n      <td>60-70</td>\n    </tr>\n    <tr>\n      <th>17123</th>\n      <td>20</td>\n      <td>62</td>\n      <td>60-70</td>\n    </tr>\n    <tr>\n      <th>17124</th>\n      <td>18</td>\n      <td>59</td>\n      <td>60-70</td>\n    </tr>\n  </tbody>\n</table>\n<p>17125 rows × 3 columns</p>\n</div>"
     },
     "metadata": {}
    }
   ],
   "execution_count": null
  },
  {
   "cell_type": "code",
   "metadata": {
    "cell_id": "a679d958-f19e-47b2-98fb-9a5073256490",
    "tags": [],
    "deepnote_to_be_reexecuted": false,
    "source_hash": "249952da",
    "execution_start": 1647525151470,
    "execution_millis": 233,
    "deepnote_cell_type": "code",
    "deepnote_cell_height": 850
   },
   "source": "cathegory = []\nfor i in df5['Age']:\n    if i < 21:\n        cathegory.append(\"<21\")\n    elif 21 <= i < 25:\n        cathegory.append(\"21-24\")\n    elif 25 <= i < 29:\n        cathegory.append(\"25-28\")\n    elif 29 <= i < 32:\n        cathegory.append(\"29-32\")\n    else:\n        cathegory.append(\">32\")\n\ndf5[\"Age_cathegory\"] = cathegory \ndf5",
   "outputs": [
    {
     "output_type": "execute_result",
     "execution_count": 24,
     "data": {
      "application/vnd.deepnote.dataframe.v3+json": {
       "column_count": 4,
       "row_count": 17125,
       "columns": [
        {
         "name": "Age",
         "dtype": "int64",
         "stats": {
          "unique_count": 30,
          "nan_count": 0,
          "min": "16",
          "max": "53",
          "histogram": [
           {
            "bin_start": 16,
            "bin_end": 19.7,
            "count": 2007
           },
           {
            "bin_start": 19.7,
            "bin_end": 23.4,
            "count": 5151
           },
           {
            "bin_start": 23.4,
            "bin_end": 27.1,
            "count": 4449
           },
           {
            "bin_start": 27.1,
            "bin_end": 30.8,
            "count": 2674
           },
           {
            "bin_start": 30.8,
            "bin_end": 34.5,
            "count": 2143
           },
           {
            "bin_start": 34.5,
            "bin_end": 38.2,
            "count": 620
           },
           {
            "bin_start": 38.2,
            "bin_end": 41.900000000000006,
            "count": 68
           },
           {
            "bin_start": 41.900000000000006,
            "bin_end": 45.6,
            "count": 11
           },
           {
            "bin_start": 45.6,
            "bin_end": 49.300000000000004,
            "count": 1
           },
           {
            "bin_start": 49.300000000000004,
            "bin_end": 53,
            "count": 1
           }
          ]
         }
        },
        {
         "name": "OVA",
         "dtype": "int64",
         "stats": {
          "unique_count": 50,
          "nan_count": 0,
          "min": "38",
          "max": "93",
          "histogram": [
           {
            "bin_start": 38,
            "bin_end": 43.5,
            "count": 2
           },
           {
            "bin_start": 43.5,
            "bin_end": 49,
            "count": 33
           },
           {
            "bin_start": 49,
            "bin_end": 54.5,
            "count": 611
           },
           {
            "bin_start": 54.5,
            "bin_end": 60,
            "count": 1671
           },
           {
            "bin_start": 60,
            "bin_end": 65.5,
            "count": 4857
           },
           {
            "bin_start": 65.5,
            "bin_end": 71,
            "count": 4776
           },
           {
            "bin_start": 71,
            "bin_end": 76.5,
            "count": 3808
           },
           {
            "bin_start": 76.5,
            "bin_end": 82,
            "count": 1059
           },
           {
            "bin_start": 82,
            "bin_end": 87.5,
            "count": 279
           },
           {
            "bin_start": 87.5,
            "bin_end": 93,
            "count": 29
           }
          ]
         }
        },
        {
         "name": "Weight_cathegory",
         "dtype": "object",
         "stats": {
          "unique_count": 5,
          "nan_count": 0,
          "categories": [
           {
            "name": "70-80",
            "count": 8655
           },
           {
            "name": "60-70",
            "count": 4581
           },
           {
            "name": "3 others",
            "count": 3889
           }
          ]
         }
        },
        {
         "name": "Age_cathegory",
         "dtype": "object",
         "stats": {
          "unique_count": 5,
          "nan_count": 0,
          "categories": [
           {
            "name": "21-24",
            "count": 5123
           },
           {
            "name": "25-28",
            "count": 4255
           },
           {
            "name": "3 others",
            "count": 7747
           }
          ]
         }
        },
        {
         "name": "_deepnote_index_column",
         "dtype": "int64"
        }
       ],
       "rows": [
        {
         "Age": 33,
         "OVA": 69,
         "Weight_cathegory": "80-90",
         "Age_cathegory": ">32",
         "_deepnote_index_column": 0
        },
        {
         "Age": 37,
         "OVA": 71,
         "Weight_cathegory": "60-70",
         "Age_cathegory": ">32",
         "_deepnote_index_column": 1
        },
        {
         "Age": 33,
         "OVA": 71,
         "Weight_cathegory": "70-80",
         "Age_cathegory": ">32",
         "_deepnote_index_column": 2
        },
        {
         "Age": 36,
         "OVA": 68,
         "Weight_cathegory": "70-80",
         "Age_cathegory": ">32",
         "_deepnote_index_column": 3
        },
        {
         "Age": 36,
         "OVA": 81,
         "Weight_cathegory": "60-70",
         "Age_cathegory": ">32",
         "_deepnote_index_column": 4
        },
        {
         "Age": 27,
         "OVA": 66,
         "Weight_cathegory": "70-80",
         "Age_cathegory": "25-28",
         "_deepnote_index_column": 5
        },
        {
         "Age": 38,
         "OVA": 77,
         "Weight_cathegory": "70-80",
         "Age_cathegory": ">32",
         "_deepnote_index_column": 6
        },
        {
         "Age": 39,
         "OVA": 78,
         "Weight_cathegory": "70-80",
         "Age_cathegory": ">32",
         "_deepnote_index_column": 7
        },
        {
         "Age": 35,
         "OVA": 76,
         "Weight_cathegory": "70-80",
         "Age_cathegory": ">32",
         "_deepnote_index_column": 8
        },
        {
         "Age": 37,
         "OVA": 80,
         "Weight_cathegory": "70-80",
         "Age_cathegory": ">32",
         "_deepnote_index_column": 9
        }
       ]
      },
      "text/plain": "       Age  OVA Weight_cathegory Age_cathegory\n0       33   69            80-90           >32\n1       37   71            60-70           >32\n2       33   71            70-80           >32\n3       36   68            70-80           >32\n4       36   81            60-70           >32\n...    ...  ...              ...           ...\n17120   22   64            70-80         21-24\n17121   18   56            70-80           <21\n17122   18   56            60-70           <21\n17123   20   62            60-70           <21\n17124   18   59            60-70           <21\n\n[17125 rows x 4 columns]",
      "text/html": "<div>\n<style scoped>\n    .dataframe tbody tr th:only-of-type {\n        vertical-align: middle;\n    }\n\n    .dataframe tbody tr th {\n        vertical-align: top;\n    }\n\n    .dataframe thead th {\n        text-align: right;\n    }\n</style>\n<table border=\"1\" class=\"dataframe\">\n  <thead>\n    <tr style=\"text-align: right;\">\n      <th></th>\n      <th>Age</th>\n      <th>OVA</th>\n      <th>Weight_cathegory</th>\n      <th>Age_cathegory</th>\n    </tr>\n  </thead>\n  <tbody>\n    <tr>\n      <th>0</th>\n      <td>33</td>\n      <td>69</td>\n      <td>80-90</td>\n      <td>&gt;32</td>\n    </tr>\n    <tr>\n      <th>1</th>\n      <td>37</td>\n      <td>71</td>\n      <td>60-70</td>\n      <td>&gt;32</td>\n    </tr>\n    <tr>\n      <th>2</th>\n      <td>33</td>\n      <td>71</td>\n      <td>70-80</td>\n      <td>&gt;32</td>\n    </tr>\n    <tr>\n      <th>3</th>\n      <td>36</td>\n      <td>68</td>\n      <td>70-80</td>\n      <td>&gt;32</td>\n    </tr>\n    <tr>\n      <th>4</th>\n      <td>36</td>\n      <td>81</td>\n      <td>60-70</td>\n      <td>&gt;32</td>\n    </tr>\n    <tr>\n      <th>...</th>\n      <td>...</td>\n      <td>...</td>\n      <td>...</td>\n      <td>...</td>\n    </tr>\n    <tr>\n      <th>17120</th>\n      <td>22</td>\n      <td>64</td>\n      <td>70-80</td>\n      <td>21-24</td>\n    </tr>\n    <tr>\n      <th>17121</th>\n      <td>18</td>\n      <td>56</td>\n      <td>70-80</td>\n      <td>&lt;21</td>\n    </tr>\n    <tr>\n      <th>17122</th>\n      <td>18</td>\n      <td>56</td>\n      <td>60-70</td>\n      <td>&lt;21</td>\n    </tr>\n    <tr>\n      <th>17123</th>\n      <td>20</td>\n      <td>62</td>\n      <td>60-70</td>\n      <td>&lt;21</td>\n    </tr>\n    <tr>\n      <th>17124</th>\n      <td>18</td>\n      <td>59</td>\n      <td>60-70</td>\n      <td>&lt;21</td>\n    </tr>\n  </tbody>\n</table>\n<p>17125 rows × 4 columns</p>\n</div>"
     },
     "metadata": {}
    }
   ],
   "execution_count": null
  },
  {
   "cell_type": "code",
   "metadata": {
    "cell_id": "9d604673-4f2a-4794-9efb-38b3b3df9645",
    "tags": [],
    "deepnote_to_be_reexecuted": false,
    "source_hash": "8ea0bd1e",
    "execution_start": 1647525151605,
    "execution_millis": 127,
    "deepnote_cell_type": "code",
    "deepnote_cell_height": 519
   },
   "source": "df6 = pd.DataFrame()\ndf6['OVA_mean'] = df5.groupby(['Age_cathegory']).OVA.mean().round(2)\ndf6['N_players'] = df5.groupby(['Age_cathegory']).Age_cathegory.count()\ndf6.reset_index(inplace = True)\n\ndf6 = df6.sort_values(by = ['OVA_mean'], ascending=False)\n\ndf6",
   "outputs": [
    {
     "output_type": "execute_result",
     "execution_count": 25,
     "data": {
      "application/vnd.deepnote.dataframe.v3+json": {
       "column_count": 3,
       "row_count": 5,
       "columns": [
        {
         "name": "Age_cathegory",
         "dtype": "object",
         "stats": {
          "unique_count": 5,
          "nan_count": 0,
          "categories": [
           {
            "name": ">32",
            "count": 1
           },
           {
            "name": "29-32",
            "count": 1
           },
           {
            "name": "3 others",
            "count": 3
           }
          ]
         }
        },
        {
         "name": "OVA_mean",
         "dtype": "float64",
         "stats": {
          "unique_count": 5,
          "nan_count": 0,
          "min": "60.12",
          "max": "71.04",
          "histogram": [
           {
            "bin_start": 60.12,
            "bin_end": 61.211999999999996,
            "count": 1
           },
           {
            "bin_start": 61.211999999999996,
            "bin_end": 62.304,
            "count": 0
           },
           {
            "bin_start": 62.304,
            "bin_end": 63.396,
            "count": 0
           },
           {
            "bin_start": 63.396,
            "bin_end": 64.488,
            "count": 0
           },
           {
            "bin_start": 64.488,
            "bin_end": 65.58,
            "count": 0
           },
           {
            "bin_start": 65.58,
            "bin_end": 66.672,
            "count": 1
           },
           {
            "bin_start": 66.672,
            "bin_end": 67.76400000000001,
            "count": 0
           },
           {
            "bin_start": 67.76400000000001,
            "bin_end": 68.85600000000001,
            "count": 0
           },
           {
            "bin_start": 68.85600000000001,
            "bin_end": 69.94800000000001,
            "count": 1
           },
           {
            "bin_start": 69.94800000000001,
            "bin_end": 71.04,
            "count": 2
           }
          ]
         }
        },
        {
         "name": "N_players",
         "dtype": "int64",
         "stats": {
          "unique_count": 5,
          "nan_count": 0,
          "min": "2175",
          "max": "5123",
          "histogram": [
           {
            "bin_start": 2175,
            "bin_end": 2469.8,
            "count": 2
           },
           {
            "bin_start": 2469.8,
            "bin_end": 2764.6,
            "count": 0
           },
           {
            "bin_start": 2764.6,
            "bin_end": 3059.4,
            "count": 0
           },
           {
            "bin_start": 3059.4,
            "bin_end": 3354.2,
            "count": 1
           },
           {
            "bin_start": 3354.2,
            "bin_end": 3649,
            "count": 0
           },
           {
            "bin_start": 3649,
            "bin_end": 3943.8,
            "count": 0
           },
           {
            "bin_start": 3943.8,
            "bin_end": 4238.6,
            "count": 0
           },
           {
            "bin_start": 4238.6,
            "bin_end": 4533.4,
            "count": 1
           },
           {
            "bin_start": 4533.4,
            "bin_end": 4828.200000000001,
            "count": 0
           },
           {
            "bin_start": 4828.200000000001,
            "bin_end": 5123,
            "count": 1
           }
          ]
         }
        },
        {
         "name": "_deepnote_index_column",
         "dtype": "int64"
        }
       ],
       "rows": [
        {
         "Age_cathegory": ">32",
         "OVA_mean": 71.04,
         "N_players": 2175,
         "_deepnote_index_column": 4
        },
        {
         "Age_cathegory": "29-32",
         "OVA_mean": 70.54,
         "N_players": 2310,
         "_deepnote_index_column": 2
        },
        {
         "Age_cathegory": "25-28",
         "OVA_mean": 69.39,
         "N_players": 4255,
         "_deepnote_index_column": 1
        },
        {
         "Age_cathegory": "21-24",
         "OVA_mean": 65.97,
         "N_players": 5123,
         "_deepnote_index_column": 0
        },
        {
         "Age_cathegory": "<21",
         "OVA_mean": 60.12,
         "N_players": 3262,
         "_deepnote_index_column": 3
        }
       ]
      },
      "text/plain": "  Age_cathegory  OVA_mean  N_players\n4           >32     71.04       2175\n2         29-32     70.54       2310\n1         25-28     69.39       4255\n0         21-24     65.97       5123\n3           <21     60.12       3262",
      "text/html": "<div>\n<style scoped>\n    .dataframe tbody tr th:only-of-type {\n        vertical-align: middle;\n    }\n\n    .dataframe tbody tr th {\n        vertical-align: top;\n    }\n\n    .dataframe thead th {\n        text-align: right;\n    }\n</style>\n<table border=\"1\" class=\"dataframe\">\n  <thead>\n    <tr style=\"text-align: right;\">\n      <th></th>\n      <th>Age_cathegory</th>\n      <th>OVA_mean</th>\n      <th>N_players</th>\n    </tr>\n  </thead>\n  <tbody>\n    <tr>\n      <th>4</th>\n      <td>&gt;32</td>\n      <td>71.04</td>\n      <td>2175</td>\n    </tr>\n    <tr>\n      <th>2</th>\n      <td>29-32</td>\n      <td>70.54</td>\n      <td>2310</td>\n    </tr>\n    <tr>\n      <th>1</th>\n      <td>25-28</td>\n      <td>69.39</td>\n      <td>4255</td>\n    </tr>\n    <tr>\n      <th>0</th>\n      <td>21-24</td>\n      <td>65.97</td>\n      <td>5123</td>\n    </tr>\n    <tr>\n      <th>3</th>\n      <td>&lt;21</td>\n      <td>60.12</td>\n      <td>3262</td>\n    </tr>\n  </tbody>\n</table>\n</div>"
     },
     "metadata": {}
    }
   ],
   "execution_count": null
  },
  {
   "cell_type": "code",
   "metadata": {
    "cell_id": "15ba5d7a-ecd4-4abf-9487-9bd698b92693",
    "tags": [],
    "deepnote_to_be_reexecuted": false,
    "source_hash": "4c968e76",
    "execution_start": 1647525151755,
    "execution_millis": 244,
    "deepnote_cell_type": "code",
    "deepnote_cell_height": 627,
    "deepnote_output_heights": [
     422
    ]
   },
   "source": "plt.figure(figsize=(8,5), dpi=100)\nplt.style.use('ggplot')\n\nplt.title('Percentage of players per Age')\n\nplt.pie(df6['N_players'], labels=df6['Age_cathegory'], pctdistance=0.8,autopct='%.2f %%')\nplt.show()",
   "outputs": [
    {
     "data": {
      "text/plain": "<Figure size 800x500 with 1 Axes>",
      "image/png": "[encoded data removed]"
     },
     "metadata": {
      "image/png": {
       "width": 397,
       "height": 420
      }
     },
     "output_type": "display_data"
    }
   ],
   "execution_count": null
  },
  {
   "cell_type": "code",
   "metadata": {
    "cell_id": "e15ca20a-99cd-4a64-9811-a34fedc283f9",
    "tags": [],
    "deepnote_to_be_reexecuted": false,
    "source_hash": "cbc5574f",
    "execution_start": 1647525152006,
    "execution_millis": 388,
    "deepnote_cell_type": "code",
    "deepnote_cell_height": 535,
    "deepnote_output_heights": [
     366
    ]
   },
   "source": "plt.bar(df6['Age_cathegory'], df6['OVA_mean'])\nplt.xlabel(\"Age\")\nplt.ylabel(\"Overall ranking\")\nplt.title(\"Average ranking per Age\")\nplt.show()",
   "outputs": [
    {
     "data": {
      "text/plain": "<Figure size 576x396 with 1 Axes>",
      "image/png": "[encoded data removed]"
     },
     "metadata": {
      "image/png": {
       "width": 497,
       "height": 364
      }
     },
     "output_type": "display_data"
    }
   ],
   "execution_count": null
  },
  {
   "cell_type": "markdown",
   "source": "Age affects how well players perform, the older the player, the more chances to be a good player.",
   "metadata": {
    "cell_id": "8a66f368-2716-4a8a-8521-f7574b205f78",
    "tags": [],
    "is_collapsed": false,
    "deepnote_cell_type": "text-cell-p",
    "deepnote_cell_height": 52.399993896484375
   }
  },
  {
   "cell_type": "code",
   "source": "plt.scatter(data['Age'], data['Weight'])\nplt.xlabel(\"Age\")\nplt.ylabel(\"Weight\")\nplt.title(\"Age vs Weight\")\nplt.show()",
   "metadata": {
    "cell_id": "442c46a4-bcda-41bc-9836-d875bd6ca871",
    "tags": [],
    "deepnote_to_be_reexecuted": false,
    "source_hash": "fbf9ad11",
    "execution_start": 1647525152406,
    "execution_millis": 484,
    "deepnote_cell_type": "code",
    "deepnote_cell_height": 535,
    "deepnote_output_heights": [
     366
    ]
   },
   "outputs": [
    {
     "data": {
      "text/plain": "<Figure size 576x396 with 1 Axes>",
      "image/png": "[encoded data removed]"
     },
     "metadata": {
      "image/png": {
       "width": 503,
       "height": 364
      }
     },
     "output_type": "display_data"
    }
   ],
   "execution_count": null
  },
  {
   "cell_type": "markdown",
   "source": "There are correlation between heavier player and older players, but it doesn't mean that heavier players are paid more because they are older, it's a possibility, but correlation doesn't imply causation. To understand that it's necessary a deeper analysis, but it's out of the scope of this exploratory project.",
   "metadata": {
    "cell_id": "81255579-5a47-4b2f-8f41-3ad734d3c5bd",
    "tags": [],
    "is_collapsed": false,
    "deepnote_cell_type": "text-cell-p",
    "deepnote_cell_height": 97.19999694824219
   }
  },
  {
   "cell_type": "markdown",
   "source": "### Results",
   "metadata": {
    "cell_id": "e2a06727-23a3-4ac6-9bf8-fb759a4ac48e",
    "tags": [],
    "is_collapsed": false,
    "deepnote_cell_type": "text-cell-h3",
    "deepnote_cell_height": 62
   }
  },
  {
   "cell_type": "markdown",
   "source": "After analyzing the data base, we understand that  main foot and Height doesn't have a good correlation of how good a player is. In the other hand, Weight and Age, have a clear correlation, but the results are contra intuitive, the heavier the player, the  better ranked he is (and its not because of the Height), and the older the player, the better ranked he is. This second correlation in even more clear than the first. There is correlation too between heavier and older player, it can be the reason why heavier players are paid more, but the information i have it's not conclusive and deeper analysis would be necessary to determine that.",
   "metadata": {
    "cell_id": "cf790dd4-4f6b-40b2-9b7e-61f5beab0c07",
    "tags": [],
    "is_collapsed": false,
    "deepnote_cell_type": "text-cell-p",
    "deepnote_cell_height": 186.8000030517578
   }
  },
  {
   "cell_type": "code",
   "source": "\n\ndf_1 = _deepnote_execute_sql(\"\"\"SELECT *\nFROM 'fifa21_male2.csv'\n\"\"\", 'SQL_DEEPNOTE_DATAFRAME_SQL')\ndf_1",
   "metadata": {
    "tags": [],
    "deepnote_variable_name": "df_1",
    "sql_integration_id": "deepnote-dataframe-sql",
    "cell_id": "bbd44b57-7472-4693-bd56-b14459f0acce",
    "deepnote_cell_type": "sql",
    "deepnote_sql_source": "SELECT *\nFROM 'fifa21_male2.csv'",
    "deepnote_cell_height": 124
   },
   "outputs": [],
   "execution_count": null
  },
  {
   "cell_type": "markdown",
   "source": "<a style='text-decoration:none;line-height:16px;display:flex;color:#5B5B62;padding:10px;justify-content:end;' href='https://deepnote.com?utm_source=created-in-deepnote-cell&projectId=580acb99-02cd-4a9a-b627-a5e7fb8ed54d' target=\"_blank\">\n<img alt='Created in deepnote.com' style='display:inline;max-height:16px;margin:0px;margin-right:7.5px;' src='data:image/svg+xml;base64,PD94bWwgdmVyc2lvbj0iMS4wIiBlbmNvZGluZz0iVVRGLTgiPz4KPHN2ZyB3aWR0aD0iODBweCIgaGVpZ2h0PSI4MHB4IiB2aWV3Qm94PSIwIDAgODAgODAiIHZlcnNpb249IjEuMSIgeG1sbnM9Imh0dHA6Ly93d3cudzMub3JnLzIwMDAvc3ZnIiB4bWxuczp4bGluaz0iaHR0cDovL3d3dy53My5vcmcvMTk5OS94bGluayI+CiAgICA8IS0tIEdlbmVyYXRvcjogU2tldGNoIDU0LjEgKDc2NDkwKSAtIGh0dHBzOi8vc2tldGNoYXBwLmNvbSAtLT4KICAgIDx0aXRsZT5Hcm91cCAzPC90aXRsZT4KICAgIDxkZXNjPkNyZWF0ZWQgd2l0aCBTa2V0Y2guPC9kZXNjPgogICAgPGcgaWQ9IkxhbmRpbmciIHN0cm9rZT0ibm9uZSIgc3Ryb2tlLXdpZHRoPSIxIiBmaWxsPSJub25lIiBmaWxsLXJ1bGU9ImV2ZW5vZGQiPgogICAgICAgIDxnIGlkPSJBcnRib2FyZCIgdHJhbnNmb3JtPSJ0cmFuc2xhdGUoLTEyMzUuMDAwMDAwLCAtNzkuMDAwMDAwKSI+CiAgICAgICAgICAgIDxnIGlkPSJHcm91cC0zIiB0cmFuc2Zvcm09InRyYW5zbGF0ZSgxMjM1LjAwMDAwMCwgNzkuMDAwMDAwKSI+CiAgICAgICAgICAgICAgICA8cG9seWdvbiBpZD0iUGF0aC0yMCIgZmlsbD0iIzAyNjVCNCIgcG9pbnRzPSIyLjM3NjIzNzYyIDgwIDM4LjA0NzY2NjcgODAgNTcuODIxNzgyMiA3My44MDU3NTkyIDU3LjgyMTc4MjIgMzIuNzU5MjczOSAzOS4xNDAyMjc4IDMxLjY4MzE2ODMiPjwvcG9seWdvbj4KICAgICAgICAgICAgICAgIDxwYXRoIGQ9Ik0zNS4wMDc3MTgsODAgQzQyLjkwNjIwMDcsNzYuNDU0OTM1OCA0Ny41NjQ5MTY3LDcxLjU0MjI2NzEgNDguOTgzODY2LDY1LjI2MTk5MzkgQzUxLjExMjI4OTksNTUuODQxNTg0MiA0MS42NzcxNzk1LDQ5LjIxMjIyODQgMjUuNjIzOTg0Niw0OS4yMTIyMjg0IEMyNS40ODQ5Mjg5LDQ5LjEyNjg0NDggMjkuODI2MTI5Niw0My4yODM4MjQ4IDM4LjY0NzU4NjksMzEuNjgzMTY4MyBMNzIuODcxMjg3MSwzMi41NTQ0MjUgTDY1LjI4MDk3Myw2Ny42NzYzNDIxIEw1MS4xMTIyODk5LDc3LjM3NjE0NCBMMzUuMDA3NzE4LDgwIFoiIGlkPSJQYXRoLTIyIiBmaWxsPSIjMDAyODY4Ij48L3BhdGg+CiAgICAgICAgICAgICAgICA8cGF0aCBkPSJNMCwzNy43MzA0NDA1IEwyNy4xMTQ1MzcsMC4yNTcxMTE0MzYgQzYyLjM3MTUxMjMsLTEuOTkwNzE3MDEgODAsMTAuNTAwMzkyNyA4MCwzNy43MzA0NDA1IEM4MCw2NC45NjA0ODgyIDY0Ljc3NjUwMzgsNzkuMDUwMzQxNCAzNC4zMjk1MTEzLDgwIEM0Ny4wNTUzNDg5LDc3LjU2NzA4MDggNTMuNDE4MjY3Nyw3MC4zMTM2MTAzIDUzLjQxODI2NzcsNTguMjM5NTg4NSBDNTMuNDE4MjY3Nyw0MC4xMjg1NTU3IDM2LjMwMzk1NDQsMzcuNzMwNDQwNSAyNS4yMjc0MTcsMzcuNzMwNDQwNSBDMTcuODQzMDU4NiwzNy43MzA0NDA1IDkuNDMzOTE5NjYsMzcuNzMwNDQwNSAwLDM3LjczMDQ0MDUgWiIgaWQ9IlBhdGgtMTkiIGZpbGw9IiMzNzkzRUYiPjwvcGF0aD4KICAgICAgICAgICAgPC9nPgogICAgICAgIDwvZz4KICAgIDwvZz4KPC9zdmc+' > </img>\nCreated in <span style='font-weight:600;margin-left:4px;'>Deepnote</span></a>",
   "metadata": {
    "tags": [],
    "created_in_deepnote_cell": true,
    "deepnote_cell_type": "markdown"
   }
  }
 ],
 "nbformat": 4,
 "nbformat_minor": 2,
 "metadata": {
  "orig_nbformat": 2,
  "deepnote": {
   "is_reactive": false
  },
  "deepnote_notebook_id": "0d92d773-d11d-4630-880b-3fbe4b3548d2",
  "deepnote_execution_queue": []
 }
}